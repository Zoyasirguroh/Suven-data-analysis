{
 "cells": [
  {
   "cell_type": "markdown",
   "metadata": {
    "slideshow": {
     "slide_type": "slide"
    }
   },
   "source": [
    "# NumPy: Python’s vectorization solution"
   ]
  },
  {
   "cell_type": "markdown",
   "metadata": {
    "slideshow": {
     "slide_type": "slide"
    }
   },
   "source": [
    "NumPy is the fundamental package for scientific computing with Python:\n",
    "\t\n",
    "- gives the ability to create multi-dimensional array objects\n",
    "- performs faster mathematical operations\n",
    "- it is base of most of Python's Data Science ecosystem\n",
    "\n",
    "Some advanced features include:\n",
    "\n",
    "- sophisticated (broadcasting) functions\n",
    "- tools for integrating C/C++ and Fortran code\n",
    "- useful linear algebra, Fourier transform, and random number capabilities"
   ]
  },
  {
   "cell_type": "markdown",
   "metadata": {},
   "source": [
    "**We will cover the following topics:**\n",
    "> **Why to use** NumPy  --> Motivating Examples\n",
    "\n",
    "> **NumPy arrays** – creation, methods, and attributes\n",
    "\n",
    "> **Basic math** with arrays\n",
    "\n",
    "> **Manipulation with arrays**\n",
    "\n",
    "> Using NumPy for **simulations**"
   ]
  },
  {
   "cell_type": "markdown",
   "metadata": {},
   "source": [
    "## Motivating examples"
   ]
  },
  {
   "cell_type": "code",
   "execution_count": 4,
   "metadata": {},
   "outputs": [],
   "source": [
    "# Let's now look into the type of problem that NumPy solves and \n",
    "# why we need it to use it, with a small example.\n",
    "distances = [10, 15, 17, 26, 20]\n",
    "times = [0.3, 0.47, 0.55, 1.20, 1.0]\n"
   ]
  },
  {
   "cell_type": "code",
   "execution_count": 5,
   "metadata": {},
   "outputs": [
    {
     "data": {
      "text/plain": [
       "[33.333333333333336,\n",
       " 31.914893617021278,\n",
       " 30.909090909090907,\n",
       " 21.666666666666668,\n",
       " 20.0]"
      ]
     },
     "execution_count": 5,
     "metadata": {},
     "output_type": "execute_result"
    }
   ],
   "source": [
    "# Calculate speeds with Python\n",
    "speeds = []\n",
    "for i in range(len(distances)):\n",
    "    speeds.append(distances[i]/times[i])\n",
    "    \n",
    "speeds"
   ]
  },
  {
   "cell_type": "code",
   "execution_count": 6,
   "metadata": {},
   "outputs": [
    {
     "data": {
      "text/plain": [
       "[33.333333333333336,\n",
       " 31.914893617021278,\n",
       " 30.909090909090907,\n",
       " 21.666666666666668,\n",
       " 20.0]"
      ]
     },
     "execution_count": 6,
     "metadata": {},
     "output_type": "execute_result"
    }
   ],
   "source": [
    "# There is a better way to do it, a more Pythonic way, \n",
    "# Here we use zip(). zip makes a mapped object, which combines values.\n",
    "[d/t for d,t in zip(distances, times)]"
   ]
  },
  {
   "cell_type": "markdown",
   "metadata": {},
   "source": [
    "**Above are  the traditional ways we would use to solve the problem to calculate speeds for the given data**\n",
    "\n",
    "Let's see another example via an analysis of shopping: given the product\n",
    "quantities and the prices for each product, we have to get the total sum of the\n",
    "purchase made. Use the **Pythonic approach**"
   ]
  },
  {
   "cell_type": "code",
   "execution_count": 7,
   "metadata": {},
   "outputs": [
    {
     "data": {
      "text/plain": [
       "157.1"
      ]
     },
     "execution_count": 7,
     "metadata": {},
     "output_type": "execute_result"
    }
   ],
   "source": [
    "product_quantities = [13, 5, 6, 10, 11]\n",
    "prices = [1.2, 6.5, 1.0, 4.8, 5.0]\n",
    "total = sum([q*p for q,p in zip(product_quantities, prices)])\n",
    "total"
   ]
  },
  {
   "cell_type": "markdown",
   "metadata": {},
   "source": [
    "Qn : Can't we simply do like this ?\n",
    "--\n",
    "\n",
    "speeds = distances/times\n",
    "\n",
    "total = (product_quantities*prices).sum()\n",
    "\n",
    "**Try it**  --> see error below"
   ]
  },
  {
   "cell_type": "code",
   "execution_count": 8,
   "metadata": {},
   "outputs": [
    {
     "ename": "TypeError",
     "evalue": "unsupported operand type(s) for /: 'list' and 'list'",
     "output_type": "error",
     "traceback": [
      "\u001b[1;31m---------------------------------------------------------------------------\u001b[0m",
      "\u001b[1;31mTypeError\u001b[0m                                 Traceback (most recent call last)",
      "\u001b[1;32m<ipython-input-8-9ac6e04e83dd>\u001b[0m in \u001b[0;36m<module>\u001b[1;34m\u001b[0m\n\u001b[1;32m----> 1\u001b[1;33m \u001b[0mspeeds\u001b[0m \u001b[1;33m=\u001b[0m \u001b[0mdistances\u001b[0m\u001b[1;33m/\u001b[0m\u001b[0mtimes\u001b[0m\u001b[1;33m\u001b[0m\u001b[0m\n\u001b[0m\u001b[0;32m      2\u001b[0m \u001b[0mtotal\u001b[0m \u001b[1;33m=\u001b[0m \u001b[1;33m(\u001b[0m\u001b[0mproduct_quantities\u001b[0m\u001b[1;33m*\u001b[0m\u001b[0mprices\u001b[0m\u001b[1;33m)\u001b[0m\u001b[1;33m.\u001b[0m\u001b[0msum\u001b[0m\u001b[1;33m(\u001b[0m\u001b[1;33m)\u001b[0m\u001b[1;33m\u001b[0m\u001b[0m\n\u001b[0;32m      3\u001b[0m \u001b[1;33m\u001b[0m\u001b[0m\n\u001b[0;32m      4\u001b[0m \u001b[1;31m# Python doesn't allow a list to be divided by a list or list multiplication.\u001b[0m\u001b[1;33m\u001b[0m\u001b[1;33m\u001b[0m\u001b[0m\n",
      "\u001b[1;31mTypeError\u001b[0m: unsupported operand type(s) for /: 'list' and 'list'"
     ]
    }
   ],
   "source": [
    "speeds = distances/times\n",
    "total = (product_quantities*prices).sum()\n",
    "\n",
    "# Python doesn't allow a list to be divided by a list or list multiplication."
   ]
  },
  {
   "cell_type": "markdown",
   "metadata": {},
   "source": [
    "**Solution** : This is precisely the kind of mathematical operation\n",
    "that we can do with **NumPy**, and this is what we mean when we say\n",
    "vectorization. **Vectorization** means operating an array, such as object or list, or doing operations element by element."
   ]
  },
  {
   "cell_type": "markdown",
   "metadata": {},
   "source": [
    "# NumPy arrays: creation, methods and attributes"
   ]
  },
  {
   "cell_type": "markdown",
   "metadata": {},
   "source": [
    "## What is a NumPy array?"
   ]
  },
  {
   "cell_type": "markdown",
   "metadata": {},
   "source": [
    "NumPy’s main object is the homogeneous multidimensional array. It is a table of elements (usually numbers), all of the same type, indexed by a tuple of positive integers. In NumPy dimensions are called axes. The number of axes is the *rank* or *dimension*."
   ]
  },
  {
   "cell_type": "code",
   "execution_count": 13,
   "metadata": {},
   "outputs": [],
   "source": [
    "import numpy as np"
   ]
  },
  {
   "cell_type": "markdown",
   "metadata": {},
   "source": [
    "## Creating arrays: from lists and using built-in functions"
   ]
  },
  {
   "cell_type": "code",
   "execution_count": 14,
   "metadata": {},
   "outputs": [
    {
     "name": "stdout",
     "output_type": "stream",
     "text": [
      "[33.33333333 31.91489362 30.90909091 21.66666667 20.        ]\n"
     ]
    }
   ],
   "source": [
    "# arrays from lists\n",
    "distances = [10, 15, 17, 26, 20]\n",
    "times = [0.3, 0.47, 0.55, 1.20, 1.0]\n",
    "distances = np.array(distances)\n",
    "times = np.array(times)\n",
    "\n",
    "# speeds can be calculated as :\n",
    "print(distances/times)"
   ]
  },
  {
   "cell_type": "code",
   "execution_count": 15,
   "metadata": {},
   "outputs": [
    {
     "data": {
      "text/plain": [
       "157.1"
      ]
     },
     "execution_count": 15,
     "metadata": {},
     "output_type": "execute_result"
    }
   ],
   "source": [
    "product_quantities = [13, 5, 6, 10, 11]\n",
    "prices = [1.2, 6.5, 1.0, 4.8, 5.0]\n",
    "product_quantities = np.array(product_quantities)\n",
    "prices = np.array(prices)\n",
    "\n",
    "#we can find the total_sum as \n",
    "np.sum(product_quantities*prices)"
   ]
  },
  {
   "cell_type": "code",
   "execution_count": 16,
   "metadata": {},
   "outputs": [
    {
     "data": {
      "text/plain": [
       "array([10, 15, 17, 26, 20])"
      ]
     },
     "execution_count": 16,
     "metadata": {},
     "output_type": "execute_result"
    }
   ],
   "source": [
    "distances"
   ]
  },
  {
   "cell_type": "code",
   "execution_count": 17,
   "metadata": {},
   "outputs": [
    {
     "data": {
      "text/plain": [
       "numpy.ndarray"
      ]
     },
     "execution_count": 17,
     "metadata": {},
     "output_type": "execute_result"
    }
   ],
   "source": [
    "type(distances)"
   ]
  },
  {
   "cell_type": "markdown",
   "metadata": {},
   "source": [
    "If we pass np.array() a list of lists, it will create a 2-dimensional array. If pass a list of lists of lists, it will create a 3-dimensional array, and so on and so forth."
   ]
  },
  {
   "cell_type": "code",
   "execution_count": 18,
   "metadata": {},
   "outputs": [
    {
     "data": {
      "text/plain": [
       "array([[1, 2],\n",
       "       [3, 4]])"
      ]
     },
     "execution_count": 18,
     "metadata": {},
     "output_type": "execute_result"
    }
   ],
   "source": [
    "A = np.array([[1, 2], [3, 4]])\n",
    "A"
   ]
  },
  {
   "cell_type": "code",
   "execution_count": 20,
   "metadata": {},
   "outputs": [
    {
     "data": {
      "text/plain": [
       "array([0., 0., 0., 0., 0., 0., 0., 0., 0., 0.])"
      ]
     },
     "execution_count": 20,
     "metadata": {},
     "output_type": "execute_result"
    }
   ],
   "source": [
    "# Create a length-10 integer array filled with zeros\n",
    "#np.zeros(10, dtype=int)\n",
    "np.zeros(10, dtype=float)"
   ]
  },
  {
   "cell_type": "code",
   "execution_count": 21,
   "metadata": {},
   "outputs": [
    {
     "data": {
      "text/plain": [
       "array([[1, 1, 1, 1, 1],\n",
       "       [1, 1, 1, 1, 1],\n",
       "       [1, 1, 1, 1, 1]])"
      ]
     },
     "execution_count": 21,
     "metadata": {},
     "output_type": "execute_result"
    }
   ],
   "source": [
    "# Create a 3x5 floating-point array filled with ones\n",
    "np.ones(shape=(3, 5), dtype=float)\n",
    "np.ones(shape=(3, 5), dtype=int)"
   ]
  },
  {
   "cell_type": "markdown",
   "metadata": {},
   "source": [
    "There are the following two ways to create linear sequences:\n",
    "\n",
    "> **np.arange**\n",
    "\n",
    "> **np.linspace**"
   ]
  },
  {
   "cell_type": "code",
   "execution_count": 25,
   "metadata": {},
   "outputs": [
    {
     "data": {
      "text/plain": [
       "array([ 0. ,  1.2,  2.4,  3.6,  4.8,  6. ,  7.2,  8.4,  9.6, 10.8, 12. ,\n",
       "       13.2, 14.4, 15.6, 16.8, 18. , 19.2])"
      ]
     },
     "execution_count": 25,
     "metadata": {},
     "output_type": "execute_result"
    }
   ],
   "source": [
    "# Create an array filled with a linear sequence\n",
    "# Starting at 0, ending at 20, stepping by 2\n",
    "\n",
    "np.arange(start=0, stop=20, step=1.2)\n"
   ]
  },
  {
   "cell_type": "code",
   "execution_count": 27,
   "metadata": {},
   "outputs": [
    {
     "data": {
      "text/plain": [
       "array([0.        , 0.10526316, 0.21052632, 0.31578947, 0.42105263,\n",
       "       0.52631579, 0.63157895, 0.73684211, 0.84210526, 0.94736842,\n",
       "       1.05263158, 1.15789474, 1.26315789, 1.36842105, 1.47368421,\n",
       "       1.57894737, 1.68421053, 1.78947368, 1.89473684, 2.        ])"
      ]
     },
     "execution_count": 27,
     "metadata": {},
     "output_type": "execute_result"
    }
   ],
   "source": [
    "# Create an array of 20 values evenly spaced between 0 and 1\n",
    "np.linspace(0, 2, 20)\n",
    "\n"
   ]
  },
  {
   "cell_type": "markdown",
   "metadata": {},
   "source": [
    "## Some attributes of arrays"
   ]
  },
  {
   "cell_type": "code",
   "execution_count": 29,
   "metadata": {},
   "outputs": [
    {
     "data": {
      "text/plain": [
       "array([[[1., 1.],\n",
       "        [1., 1.],\n",
       "        [1., 1.],\n",
       "        [1., 1.]],\n",
       "\n",
       "       [[1., 1.],\n",
       "        [1., 1.],\n",
       "        [1., 1.],\n",
       "        [1., 1.]],\n",
       "\n",
       "       [[1., 1.],\n",
       "        [1., 1.],\n",
       "        [1., 1.],\n",
       "        [1., 1.]]])"
      ]
     },
     "execution_count": 29,
     "metadata": {},
     "output_type": "execute_result"
    }
   ],
   "source": [
    "A = np.ones(shape=(3, 4, 2), dtype=float)#by defualt data type is float\n",
    "A"
   ]
  },
  {
   "cell_type": "code",
   "execution_count": 30,
   "metadata": {},
   "outputs": [
    {
     "data": {
      "text/plain": [
       "3"
      ]
     },
     "execution_count": 30,
     "metadata": {},
     "output_type": "execute_result"
    }
   ],
   "source": [
    "A.ndim"
   ]
  },
  {
   "cell_type": "code",
   "execution_count": 31,
   "metadata": {},
   "outputs": [
    {
     "data": {
      "text/plain": [
       "(3, 4, 2)"
      ]
     },
     "execution_count": 31,
     "metadata": {},
     "output_type": "execute_result"
    }
   ],
   "source": [
    "A.shape"
   ]
  },
  {
   "cell_type": "code",
   "execution_count": 32,
   "metadata": {},
   "outputs": [
    {
     "data": {
      "text/plain": [
       "24"
      ]
     },
     "execution_count": 32,
     "metadata": {},
     "output_type": "execute_result"
    }
   ],
   "source": [
    "A.size"
   ]
  },
  {
   "cell_type": "markdown",
   "metadata": {},
   "source": [
    "## Basic math with arrays"
   ]
  },
  {
   "cell_type": "markdown",
   "metadata": {},
   "source": [
    "distances = [10, 15, 17, 26, 20]\n",
    "\n",
    "times = [0.3, 0.47, 0.55, 1.20, 1.0]"
   ]
  },
  {
   "cell_type": "code",
   "execution_count": 33,
   "metadata": {},
   "outputs": [
    {
     "data": {
      "text/plain": [
       "array([33.33333333, 31.91489362, 30.90909091, 21.66666667, 20.        ])"
      ]
     },
     "execution_count": 33,
     "metadata": {},
     "output_type": "execute_result"
    }
   ],
   "source": [
    "speeds = distances/times\n",
    "speeds"
   ]
  },
  {
   "cell_type": "markdown",
   "metadata": {},
   "source": [
    "product_quantities = [13, 5, 6, 10, 11]\n",
    "\n",
    "prices = [1.2, 6.5, 1.0, 4.8, 5.0]"
   ]
  },
  {
   "cell_type": "code",
   "execution_count": 34,
   "metadata": {},
   "outputs": [
    {
     "name": "stdout",
     "output_type": "stream",
     "text": [
      "[15.6 32.5  6.  48.  55. ]\n"
     ]
    },
    {
     "data": {
      "text/plain": [
       "157.1"
      ]
     },
     "execution_count": 34,
     "metadata": {},
     "output_type": "execute_result"
    }
   ],
   "source": [
    "values = product_quantities*prices\n",
    "total = values.sum()\n",
    "print(values)\n",
    "total"
   ]
  },
  {
   "cell_type": "code",
   "execution_count": 35,
   "metadata": {},
   "outputs": [
    {
     "data": {
      "text/plain": [
       "array([ 0,  2,  4,  6,  8, 10, 12, 14, 16, 18])"
      ]
     },
     "execution_count": 35,
     "metadata": {},
     "output_type": "execute_result"
    }
   ],
   "source": [
    "# we can perform any basic math operation with the NumPy array\n",
    "x= np.arange(start=0, stop=20, step=2)\n",
    "x\n"
   ]
  },
  {
   "cell_type": "code",
   "execution_count": 36,
   "metadata": {},
   "outputs": [
    {
     "data": {
      "text/plain": [
       "array([ 1,  3,  5,  7,  9, 11, 13, 15, 17, 19])"
      ]
     },
     "execution_count": 36,
     "metadata": {},
     "output_type": "execute_result"
    }
   ],
   "source": [
    "x + 1"
   ]
  },
  {
   "cell_type": "code",
   "execution_count": 37,
   "metadata": {},
   "outputs": [
    {
     "data": {
      "text/plain": [
       "array([ 0,  4,  8, 12, 16, 20, 24, 28, 32, 36])"
      ]
     },
     "execution_count": 37,
     "metadata": {},
     "output_type": "execute_result"
    }
   ],
   "source": [
    "x * 2"
   ]
  },
  {
   "cell_type": "code",
   "execution_count": 38,
   "metadata": {},
   "outputs": [
    {
     "data": {
      "text/plain": [
       "array([0., 1., 2., 3., 4., 5., 6., 7., 8., 9.])"
      ]
     },
     "execution_count": 38,
     "metadata": {},
     "output_type": "execute_result"
    }
   ],
   "source": [
    "x/2"
   ]
  },
  {
   "cell_type": "markdown",
   "metadata": {},
   "source": [
    "Another very useful thing about NumPy is that it provides us with what is\n",
    "called universal functions. **Universal functions** are mathematical functions\n",
    "that we can use in arrays, and when we use these functions in arrays, it will\n",
    "be applied element by element."
   ]
  },
  {
   "cell_type": "code",
   "execution_count": 39,
   "metadata": {},
   "outputs": [
    {
     "data": {
      "text/plain": [
       "array([ 0.        ,  0.90929743, -0.7568025 , -0.2794155 ,  0.98935825,\n",
       "       -0.54402111, -0.53657292,  0.99060736, -0.28790332, -0.75098725])"
      ]
     },
     "execution_count": 39,
     "metadata": {},
     "output_type": "execute_result"
    }
   ],
   "source": [
    "# Universal functions\n",
    "np.sin(x)"
   ]
  },
  {
   "cell_type": "code",
   "execution_count": 40,
   "metadata": {},
   "outputs": [
    {
     "data": {
      "text/plain": [
       "array([1.00000000e+00, 7.38905610e+00, 5.45981500e+01, 4.03428793e+02,\n",
       "       2.98095799e+03, 2.20264658e+04, 1.62754791e+05, 1.20260428e+06,\n",
       "       8.88611052e+06, 6.56599691e+07])"
      ]
     },
     "execution_count": 40,
     "metadata": {},
     "output_type": "execute_result"
    }
   ],
   "source": [
    "# np.exp(x) -> The exponential function is e^x where e is a mathematical \n",
    "# constant called Euler's number, approximately 2.718281\n",
    "np.exp(x)\n",
    "\n",
    "# https://stackoverflow.com/questions/31951980/what-exactly-does-numpy-exp-do"
   ]
  },
  {
   "cell_type": "code",
   "execution_count": 41,
   "metadata": {},
   "outputs": [
    {
     "data": {
      "text/plain": [
       "array([0.        , 1.09861229, 1.60943791, 1.94591015, 2.19722458,\n",
       "       2.39789527, 2.56494936, 2.7080502 , 2.83321334, 2.94443898])"
      ]
     },
     "execution_count": 41,
     "metadata": {},
     "output_type": "execute_result"
    }
   ],
   "source": [
    "np.log(x+1)\n",
    "\n",
    "# why we add one , when taking log ?\n",
    "# Log 0 is undefined. The result is not a real number, \n",
    "# because you can never get zero by raising anything to the power of \n",
    "# anything else. You can never reach zero, you can only approach it \n",
    "# using an infinitely large and negative power. \n",
    "# The real logarithmic function logb(x) is defined only for x>0"
   ]
  },
  {
   "cell_type": "code",
   "execution_count": 42,
   "metadata": {},
   "outputs": [
    {
     "data": {
      "text/plain": [
       "array([0.        , 1.41421356, 2.        , 2.44948974, 2.82842712,\n",
       "       3.16227766, 3.46410162, 3.74165739, 4.        , 4.24264069])"
      ]
     },
     "execution_count": 42,
     "metadata": {},
     "output_type": "execute_result"
    }
   ],
   "source": [
    "np.sqrt(x)"
   ]
  },
  {
   "cell_type": "markdown",
   "metadata": {},
   "source": [
    "## Common manipulations: indexing, slicing and reshaping"
   ]
  },
  {
   "cell_type": "markdown",
   "metadata": {},
   "source": [
    "### Indexing: Getting and setting the value of individual array elements"
   ]
  },
  {
   "cell_type": "code",
   "execution_count": 43,
   "metadata": {},
   "outputs": [
    {
     "data": {
      "text/plain": [
       "array([-0.5, -0.4, -0.3, -0.2, -0.1,  0. ,  0.1,  0.2,  0.3,  0.4,  0.5,\n",
       "        0.6])"
      ]
     },
     "execution_count": 43,
     "metadata": {},
     "output_type": "execute_result"
    }
   ],
   "source": [
    "one_dim = np.linspace(-0.5, 0.6, 12)\n",
    "one_dim"
   ]
  },
  {
   "cell_type": "code",
   "execution_count": 44,
   "metadata": {},
   "outputs": [
    {
     "data": {
      "text/plain": [
       "0.0"
      ]
     },
     "execution_count": 44,
     "metadata": {},
     "output_type": "execute_result"
    }
   ],
   "source": [
    "one_dim[5]"
   ]
  },
  {
   "cell_type": "code",
   "execution_count": 45,
   "metadata": {},
   "outputs": [
    {
     "data": {
      "text/plain": [
       "array([ 1. , -0.4, -0.3, -0.2, -0.1,  0. ,  0.1,  0.2,  0.3,  0.4,  0.5,\n",
       "        0.6])"
      ]
     },
     "execution_count": 45,
     "metadata": {},
     "output_type": "execute_result"
    }
   ],
   "source": [
    "one_dim[0] = 1\n",
    "one_dim"
   ]
  },
  {
   "cell_type": "code",
   "execution_count": 46,
   "metadata": {},
   "outputs": [
    {
     "data": {
      "text/plain": [
       "array([[ 3,  5,  2,  4],\n",
       "       [ 7,  6,  5,  5],\n",
       "       [ 1,  6, -1, -1]])"
      ]
     },
     "execution_count": 46,
     "metadata": {},
     "output_type": "execute_result"
    }
   ],
   "source": [
    "two_dim = np.array([[3, 5, 2, 4], [7, 6, 5, 5], [1, 6, -1, -1]])\n",
    "two_dim"
   ]
  },
  {
   "cell_type": "code",
   "execution_count": 47,
   "metadata": {},
   "outputs": [
    {
     "data": {
      "text/plain": [
       "4"
      ]
     },
     "execution_count": 47,
     "metadata": {},
     "output_type": "execute_result"
    }
   ],
   "source": [
    "two_dim[0,3]"
   ]
  },
  {
   "cell_type": "code",
   "execution_count": 48,
   "metadata": {},
   "outputs": [
    {
     "data": {
      "text/plain": [
       "array([[-1,  5,  2,  4],\n",
       "       [ 7,  6,  5,  5],\n",
       "       [ 1,  6, -1, -1]])"
      ]
     },
     "execution_count": 48,
     "metadata": {},
     "output_type": "execute_result"
    }
   ],
   "source": [
    "two_dim[0,0] = -1\n",
    "two_dim"
   ]
  },
  {
   "cell_type": "markdown",
   "metadata": {},
   "source": [
    "### Slicing: Getting and setting smaller subarrays within a larger array"
   ]
  },
  {
   "cell_type": "code",
   "execution_count": 49,
   "metadata": {},
   "outputs": [
    {
     "data": {
      "text/plain": [
       "array([ 1. , -0.4, -0.3, -0.2, -0.1,  0. ,  0.1,  0.2,  0.3,  0.4,  0.5,\n",
       "        0.6])"
      ]
     },
     "execution_count": 49,
     "metadata": {},
     "output_type": "execute_result"
    }
   ],
   "source": [
    "one_dim"
   ]
  },
  {
   "cell_type": "code",
   "execution_count": 50,
   "metadata": {},
   "outputs": [],
   "source": [
    "# start from index 2 upto index 5-1 => 2,3,4 \n",
    "\n",
    "\n",
    "# start to 5-1\n",
    "\n",
    "\n",
    "# last-5 to last \n"
   ]
  },
  {
   "cell_type": "code",
   "execution_count": 51,
   "metadata": {},
   "outputs": [
    {
     "data": {
      "text/plain": [
       "array([[-1,  5,  2,  4],\n",
       "       [ 7,  6,  5,  5],\n",
       "       [ 1,  6, -1, -1]])"
      ]
     },
     "execution_count": 51,
     "metadata": {},
     "output_type": "execute_result"
    }
   ],
   "source": [
    "two_dim"
   ]
  },
  {
   "cell_type": "code",
   "execution_count": 52,
   "metadata": {},
   "outputs": [
    {
     "data": {
      "text/plain": [
       "array([[-1,  5],\n",
       "       [ 7,  6]])"
      ]
     },
     "execution_count": 52,
     "metadata": {},
     "output_type": "execute_result"
    }
   ],
   "source": [
    "two_dim[:2,:2]"
   ]
  },
  {
   "cell_type": "code",
   "execution_count": 53,
   "metadata": {},
   "outputs": [
    {
     "data": {
      "text/plain": [
       "array([[ 5,  2],\n",
       "       [ 6,  5],\n",
       "       [ 6, -1]])"
      ]
     },
     "execution_count": 53,
     "metadata": {},
     "output_type": "execute_result"
    }
   ],
   "source": [
    "two_dim[:,1:3]"
   ]
  },
  {
   "cell_type": "markdown",
   "metadata": {},
   "source": [
    "### Reshaping of arrays: Changing the shape of a given array\n",
    "\n",
    "Reshaping arrays changes an array from one dimension to another dimension.\n",
    "For example, one-dimension to two-dimension, one-dimension to three-dimension,\n",
    "and three-dimension to two-dimension."
   ]
  },
  {
   "cell_type": "code",
   "execution_count": 54,
   "metadata": {},
   "outputs": [
    {
     "data": {
      "text/plain": [
       "array([ 1. , -0.4, -0.3, -0.2, -0.1,  0. ,  0.1,  0.2,  0.3,  0.4,  0.5,\n",
       "        0.6])"
      ]
     },
     "execution_count": 54,
     "metadata": {},
     "output_type": "execute_result"
    }
   ],
   "source": [
    "one_dim"
   ]
  },
  {
   "cell_type": "code",
   "execution_count": 55,
   "metadata": {},
   "outputs": [
    {
     "data": {
      "text/plain": [
       "array([[ 1. , -0.4, -0.3, -0.2, -0.1,  0. ],\n",
       "       [ 0.1,  0.2,  0.3,  0.4,  0.5,  0.6]])"
      ]
     },
     "execution_count": 55,
     "metadata": {},
     "output_type": "execute_result"
    }
   ],
   "source": [
    "one_dim.reshape(2,6)"
   ]
  },
  {
   "cell_type": "code",
   "execution_count": 16,
   "metadata": {},
   "outputs": [
    {
     "data": {
      "text/plain": [
       "array([[-1,  5,  2,  4],\n",
       "       [ 7,  6,  5,  5],\n",
       "       [ 1,  6, -1, -1]])"
      ]
     },
     "execution_count": 16,
     "metadata": {},
     "output_type": "execute_result"
    }
   ],
   "source": [
    "two_dim"
   ]
  },
  {
   "cell_type": "code",
   "execution_count": 17,
   "metadata": {
    "scrolled": true
   },
   "outputs": [
    {
     "data": {
      "text/plain": [
       "array([-1,  5,  2,  4,  7,  6,  5,  5,  1,  6, -1, -1])"
      ]
     },
     "execution_count": 17,
     "metadata": {},
     "output_type": "execute_result"
    }
   ],
   "source": [
    "two_dim.flatten()"
   ]
  },
  {
   "cell_type": "markdown",
   "metadata": {},
   "source": [
    "# Example: Performing a simulation\n",
    "\n",
    "Now let's learn how to use NumPy in a real-world scenario. Here, we will\n",
    "cover two examples of simulations using NumPy, and in the process, we will\n",
    "also learn about other operations that we can do with arrays."
   ]
  },
  {
   "cell_type": "markdown",
   "metadata": {},
   "source": [
    "## Coin flips"
   ]
  },
  {
   "cell_type": "code",
   "execution_count": 60,
   "metadata": {},
   "outputs": [
    {
     "data": {
      "text/plain": [
       "array([1, 0, 0, 0, 0, 1, 0, 1, 0, 1])"
      ]
     },
     "execution_count": 60,
     "metadata": {},
     "output_type": "execute_result"
    }
   ],
   "source": [
    "# throwing a coin 1 time: 0 is tail, 1 heads\n",
    "np.random.randint(low=0, high=2, size=1)"
   ]
  },
  {
   "cell_type": "code",
   "execution_count": 66,
   "metadata": {},
   "outputs": [
    {
     "name": "stdout",
     "output_type": "stream",
     "text": [
      "[1 0 1 1 0 1 0 1 1 1]\n",
      "7\n"
     ]
    }
   ],
   "source": [
    "# throwing a coin 10 times: 0 is tail, 1 heads\n",
    "experiment=np.random.randint(low=0, high=2, size=10)\n",
    "print(experiment)\n",
    "print(experiment.sum())\n"
   ]
  },
  {
   "cell_type": "code",
   "execution_count": 67,
   "metadata": {},
   "outputs": [
    {
     "data": {
      "text/plain": [
       "array([[1, 1, 0, 0, 1, 1, 1, 0, 1, 1],\n",
       "       [1, 1, 0, 1, 1, 1, 1, 0, 1, 1],\n",
       "       [0, 1, 0, 0, 1, 1, 0, 0, 1, 1],\n",
       "       [1, 0, 1, 0, 0, 0, 0, 1, 1, 1],\n",
       "       [1, 0, 1, 0, 0, 1, 1, 0, 0, 1]])"
      ]
     },
     "execution_count": 67,
     "metadata": {},
     "output_type": "execute_result"
    }
   ],
   "source": [
    "#Each column of this matrix will be one 10-tosses simulation\n",
    "coin_matrix=np.random.randint(low=0, high=2, size=(10000,10))\n",
    "coin_matrix[:5,:]\n",
    "\n"
   ]
  },
  {
   "cell_type": "markdown",
   "metadata": {},
   "source": [
    "*To calculate how many heads we got in every experiment, we can use the sum\n",
    "attribute, but in this case, we want to sum all the rows. To sum all the rows in NumPy, we use the additional arguments, axis and set axis=1; this will give\n",
    "you an array with a count of how many heads you get in every experiment:*"
   ]
  },
  {
   "cell_type": "code",
   "execution_count": 72,
   "metadata": {},
   "outputs": [
    {
     "name": "stdout",
     "output_type": "stream",
     "text": [
      "[7 8 5 5 5 3 6 3 7 4 3 3 5 5 5 6 5 6 5 7 9 5 1 5 5]\n",
      "4.9948\n",
      "5.0\n",
      "0 10\n",
      "1.584541877010513\n"
     ]
    }
   ],
   "source": [
    "# Note : experiment is outcome of flipping 10 coins\n",
    "\n",
    "counts = coin_matrix.sum(axis=1) #axis = 1 means row wise\n",
    "print(counts[:25])\n",
    "\n",
    "print(counts.mean()) #average of heads in all the experiments.\n",
    "\n",
    "print(np.median(counts)) #median is the center point in a sorted\n",
    "\n",
    "print(counts.min(), counts.max())\n",
    "\n",
    "print(counts.std()) #standard deviation of the array"
   ]
  },
  {
   "cell_type": "markdown",
   "metadata": {},
   "source": [
    "**The distribution of the number of heads that you get in the experiment**"
   ]
  },
  {
   "cell_type": "code",
   "execution_count": 73,
   "metadata": {},
   "outputs": [
    {
     "data": {
      "text/plain": [
       "array([  13,  116,  418, 1186, 1999, 2532, 2030, 1169,  425,  101,   11],\n",
       "      dtype=int64)"
      ]
     },
     "execution_count": 73,
     "metadata": {},
     "output_type": "execute_result"
    }
   ],
   "source": [
    "np.bincount(counts)"
   ]
  },
  {
   "cell_type": "code",
   "execution_count": 86,
   "metadata": {},
   "outputs": [
    {
     "name": "stdout",
     "output_type": "stream",
     "text": [
      "===============\n",
      "\n",
      "0 heads observed 13 times ( 0.1%)\n",
      "1 heads observed 116 times ( 1.2%)\n",
      "2 heads observed 418 times ( 4.2%)\n",
      "3 heads observed 1186 times (11.9%)\n",
      "4 heads observed 1999 times (20.0%)\n",
      "5 heads observed 2532 times (25.3%)\n",
      "6 heads observed 2030 times (20.3%)\n",
      "7 heads observed 1169 times (11.7%)\n",
      "8 heads observed 425 times ( 4.2%)\n",
      "9 heads observed 101 times ( 1.0%)\n",
      "10 heads observed 11 times ( 0.1%)\n"
     ]
    }
   ],
   "source": [
    "unique_numbers = np.arange(0,11) # The numbers that were observed in the counts vector\n",
    "observed_times = np.bincount(counts) # Check out the documentation for the np.bincount function\n",
    "print(\"===============\\n\")\n",
    "for n, count in zip(unique_numbers, observed_times):\n",
    "    print(\"{} heads observed {} times ({:0.1f}%)\".format(n, count, 100*count/10000))# precision control can only be done after precision part"
   ]
  },
  {
   "cell_type": "markdown",
   "metadata": {},
   "source": [
    "## Simulating Stock Returns\n",
    "\n",
    "Now let's look into another simulation example from the field of finance\n",
    "using the matplotlib NumPy library. Let's say we want to model the returns for\n",
    "a stock with the normal distribution. So, here we can use the normal function to produce random numbers that are normally distributed. In the normal function, we have the **loc parameter, the scale parameter, also known as the standard deviation, and the parameter that holds the value of random numbers that we want.** *Here, the random parameter is the number of days in a trading year:*"
   ]
  },
  {
   "cell_type": "code",
   "execution_count": 87,
   "metadata": {},
   "outputs": [],
   "source": [
    "import matplotlib.pyplot as plt\n",
    "%matplotlib inline"
   ]
  },
  {
   "cell_type": "code",
   "execution_count": 88,
   "metadata": {},
   "outputs": [],
   "source": [
    "returns = np.random.normal(0.001, 0.02, 250)\n",
    "# np.random.normal( loc, scale, size )\n",
    "# loc : float,  Mean (“centre”) of the distribution. \n",
    "# scale : float,  Standard deviation (spread or “width”) of the distribution.\n",
    "# size : int or tuple of ints, optional"
   ]
  },
  {
   "cell_type": "code",
   "execution_count": 89,
   "metadata": {},
   "outputs": [
    {
     "data": {
      "text/plain": [
       "array([ 0.01565047, -0.00279944, -0.01745207,  0.01858207, -0.00162916,\n",
       "        0.03030548, -0.03464574,  0.00071826,  0.00860157, -0.00316494,\n",
       "        0.02386853,  0.00279683,  0.03096375, -0.01046041, -0.01572403,\n",
       "        0.01245286,  0.00170163,  0.02929352,  0.0194754 ,  0.01485719])"
      ]
     },
     "execution_count": 89,
     "metadata": {},
     "output_type": "execute_result"
    }
   ],
   "source": [
    "returns[:20]"
   ]
  },
  {
   "cell_type": "code",
   "execution_count": 90,
   "metadata": {},
   "outputs": [],
   "source": [
    "initial_price = 100"
   ]
  },
  {
   "cell_type": "code",
   "execution_count": 91,
   "metadata": {},
   "outputs": [
    {
     "name": "stdout",
     "output_type": "stream",
     "text": [
      "[101.57735761 101.29339532  99.54095241 101.40792197 101.24284654\n",
      " 104.35802497 100.80437877 100.87680833 101.74824931 101.42673174\n",
      " 103.87676224 104.16769415 107.44357149 106.32552542 104.66673489\n",
      " 105.97828439 106.15877323 109.31453376 111.4643438  113.13275453\n",
      " 117.62608854 117.8627067  119.93447412 122.88117292 124.12108539\n",
      " 122.60759441 122.76520193 123.4944859  121.19926937 120.10969921\n",
      " 117.62189719 114.7234008  115.08588041 113.846812   111.05798709\n",
      " 108.76528625 110.76285109 112.31944255 109.71749766 112.43820818\n",
      " 110.17904137 115.68333425 119.69118441 120.47194495 122.04668042\n",
      " 121.08750539 122.81118389 122.30843463 120.34002925 118.80664779\n",
      " 115.85498318 119.52451097 119.3182143  121.70578662 120.74590511\n",
      " 120.27201608 118.54082439 119.53070072 121.19739567 120.42588745\n",
      " 119.84255896 121.08854882 120.76039943 120.62330145 121.42003922\n",
      " 122.36695875 121.18381182 123.07159556 125.19299929 122.28307771\n",
      " 125.42900456 122.26552075 124.37079429 122.88213462 124.013195\n",
      " 125.77609009 121.51224193 120.21700175 120.15295295 122.63327661\n",
      " 120.86252311 120.03164643 123.20586958 121.90714386 121.79738492\n",
      " 121.972081   121.73650166 124.03878641 122.20762457 121.53132808\n",
      " 120.96974462 124.52780702 120.95948713 121.60671993 120.51473377\n",
      " 123.95911272 121.49207843 123.86538797 123.52233675 122.99294118\n",
      " 120.23073779 122.33883784 122.82517497 121.86183882 124.48162533\n",
      " 124.35389208 129.22038716 124.9522779  128.95345313 132.25712427\n",
      " 134.2269763  138.85217113 137.79385543 135.96652    138.96308352\n",
      " 138.88207175 137.66084611 140.65395406 142.00018844 143.23579073\n",
      " 139.27520591 138.11794528 134.7188052  138.92493476 139.96451928\n",
      " 138.30838674 140.58330917 138.8079552  136.00221792 137.57683243\n",
      " 139.39113484 141.84046701 145.76561838 151.77201791 152.96443777\n",
      " 150.47034851 144.36297436 144.70897307 143.99399689 141.9268942\n",
      " 139.50449268 137.71456109 138.49488899 133.92459234 134.92030917\n",
      " 132.9515156  132.30957461 133.84624103 133.823003   137.41520088\n",
      " 135.24791466 137.18826674 143.09375648 138.36461855 141.50776963\n",
      " 139.8226246  140.77800826 142.10706582 136.02557195 140.63820365\n",
      " 138.32039392 143.54725468 140.30662791 145.7736631  146.28524395\n",
      " 147.7815107  154.28979721 156.55467188 158.74592365 158.64570309\n",
      " 158.92555598 158.6593262  158.72163221 159.47811006 158.53026733\n",
      " 151.97351412 152.67361796 152.50811615 151.61630664 151.51843364\n",
      " 153.09665719 153.25786456 153.76601318 155.4927443  156.17185431\n",
      " 160.3286963  155.07478657 154.43408728 157.72334909 156.60950196\n",
      " 156.32178207 153.41205716 145.33598182 146.31869828 144.60882535\n",
      " 144.09407855 143.54617924 143.21950808 144.16120789 147.20079517\n",
      " 153.27440625 148.83726857 148.90908057 150.7948776  152.32397744\n",
      " 151.01446631 153.84000676 156.98592425 147.9111935  155.24482633\n",
      " 156.33046527 157.5757968  152.98142708 154.83659542 153.63046364\n",
      " 151.77791258 153.12872106 155.67277143 158.10437113 156.59554539\n",
      " 154.93941867 160.90931506 165.93938883 163.94655852 157.20597236\n",
      " 157.23760163 151.71461545 154.05659624 158.24855948 160.60961755\n",
      " 160.44637444 160.00361475 156.70184418 156.82208849 155.34706608\n",
      " 155.15963223 151.00612876 150.1810375  152.54717441 152.63307166\n",
      " 153.76635917 154.07249019 159.67114005 158.2594428  158.27372545\n",
      " 163.44574848 162.65512636 161.77043086 162.72364317 158.51351004]\n",
      "------------------------------------------------\n",
      "max price point  165.93938882921273\n",
      "------------------------------------------------\n",
      "minimum price point  99.54095241463887\n"
     ]
    }
   ],
   "source": [
    "price = initial_price*np.exp(returns.cumsum())\n",
    "# here cumsum is the cumalative sum\n",
    "# https://stackoverflow.com/questions/9258602/elegant-pythonic-cumsum\n",
    "\n",
    "print(price)\n",
    "print(\"------------------------------------------------\")\n",
    "print(\"max price point \", price.max())\n",
    "print(\"------------------------------------------------\")\n",
    "print(\"minimum price point \", price.min())"
   ]
  },
  {
   "cell_type": "code",
   "execution_count": 95,
   "metadata": {},
   "outputs": [
    {
     "data": {
      "image/png": "[encoded data removed]",
      "text/plain": [
       "<Figure size 432x288 with 1 Axes>"
      ]
     },
     "metadata": {
      "needs_background": "light"
     },
     "output_type": "display_data"
    }
   ],
   "source": [
    "plt.plot(price)\n",
    "#plt.grid();\n",
    "plt.show();"
   ]
  },
  {
   "cell_type": "code",
   "execution_count": 15,
   "metadata": {},
   "outputs": [
    {
     "data": {
      "image/png": "[encoded data removed]",
      "text/plain": [
       "<Figure size 432x288 with 1 Axes>"
      ]
     },
     "metadata": {
      "needs_background": "light"
     },
     "output_type": "display_data"
    }
   ],
   "source": [
    "# We have the same code, everything in one cell, and every time \n",
    "# we run the cell, we will get a different simulation.\n",
    "returns = np.random.normal(0.001, 0.02, 250)\n",
    "initial_price = 100\n",
    "price = initial_price*np.exp(returns.cumsum())\n",
    "plt.plot(price)\n",
    "plt.grid();"
   ]
  },
  {
   "cell_type": "markdown",
   "metadata": {},
   "source": [
    "In this **first** chapter, we learned about numpy, a library designed to do vectorized operations. We also learned about NumPy arrays, which are the main objects in NumPy. We learned how to create them, looked into their various\n",
    "attributes, explored which arrays are used in basic math, and did some\n",
    "manipulation with arrays. Then, we learned how to perform and run simple\n",
    "simulations using NumPy.\n",
    "\n",
    "**In the next chapter, we will look at pandas, the most popular library for doing data analysis in Python.**"
   ]
  }
 ],
 "metadata": {
  "kernelspec": {
   "display_name": "Python 3",
   "language": "python",
   "name": "python3"
  },
  "language_info": {
   "codemirror_mode": {
    "name": "ipython",
    "version": 3
   },
   "file_extension": ".py",
   "mimetype": "text/x-python",
   "name": "python",
   "nbconvert_exporter": "python",
   "pygments_lexer": "ipython3",
   "version": "3.6.5"
  },
  "toc": {
   "colors": {
    "hover_highlight": "#DAA520",
    "running_highlight": "#FF0000",
    "selected_highlight": "#FFD700"
   },
   "moveMenuLeft": true,
   "nav_menu": {
    "height": "283px",
    "width": "252px"
   },
   "navigate_menu": true,
   "number_sections": true,
   "sideBar": true,
   "threshold": 4,
   "toc_cell": false,
   "toc_section_display": "block",
   "toc_window_display": false
  }
 },
 "nbformat": 4,
 "nbformat_minor": 2
}
