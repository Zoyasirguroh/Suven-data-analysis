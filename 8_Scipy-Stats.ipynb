{
 "cells": [
  {
   "cell_type": "markdown",
   "metadata": {},
   "source": [
    "# Scipy\n",
    "\n",
    "The scipy package contains various toolboxes dedicated to common issues in scientific computing. Its different submodules correspond to different applications, such as interpolation, integration, optimization, image processing, statistics, special functions, etc. `scipy` is the core package for scientific routines in Python; it is meant to operate efficiently on numpy arrays, so that numpy and scipy work hand in hand.\n",
    "\n",
    "Here are some of the sub-packages contained in Scipy:\n",
    "\n",
    "* File input/output: scipy.io\n",
    "* Special functions: scipy.special\n",
    "* Linear algebra operations: scipy.linalg\n",
    "* Fast Fourier transforms: scipy.fftpack\n",
    "* Optimization and fit: scipy.optimize\n",
    "* Statistics and random numbers: scipy.stats\n",
    "* Interpolation: scipy.interpolate\n",
    "* Numerical integration: scipy.integrate\n",
    "* Signal processing: scipy.signal\n",
    "* Image processing: scipy.ndimage"
   ]
  },
  {
   "cell_type": "code",
   "execution_count": 1,
   "metadata": {},
   "outputs": [
    {
     "data": {
      "text/html": [
       "<style>.container { width:95% !important; }</style>"
      ],
      "text/plain": [
       "<IPython.core.display.HTML object>"
      ]
     },
     "metadata": {},
     "output_type": "display_data"
    }
   ],
   "source": [
    "from IPython.core.display import display, HTML\n",
    "display(HTML(\"<style>.container { width:95% !important; }</style>\"))"
   ]
  },
  {
   "cell_type": "markdown",
   "metadata": {},
   "source": [
    "# The Statistics sub-package"
   ]
  },
  {
   "cell_type": "markdown",
   "metadata": {},
   "source": [
    "The `scipy.stats` sub-package contains a large number of probability distributions as well as a growing library of statistical functions. This is a great tool to have for any Data Analyst/Scientist using Python because Statistics is at the core of Data Science. \n",
    "\n",
    "In this section we learn how to perform common statistical computations with Python and use them to make sense of a dataset that contains information about alcohol consumption of teenagers."
   ]
  },
  {
   "cell_type": "markdown",
   "metadata": {},
   "source": [
    "`Please Note` : Statistics is a very wide and mathematical topic and beyond the scope of this course. The objective of this NB is to get you introduced to SciPy stats sub-package. Further Reading is given at the end of the NB."
   ]
  },
  {
   "cell_type": "markdown",
   "metadata": {},
   "source": [
    "# Project: Alcohol consumption of students"
   ]
  },
  {
   "cell_type": "code",
   "execution_count": 2,
   "metadata": {},
   "outputs": [],
   "source": [
    "import pandas as pd\n",
    "import matplotlib.pyplot as plt\n",
    "import seaborn as sns\n",
    "from numpy import sqrt, arange\n",
    "from scipy import stats\n",
    "%matplotlib inline"
   ]
  },
  {
   "cell_type": "code",
   "execution_count": 3,
   "metadata": {},
   "outputs": [],
   "source": [
    "import warnings\n",
    "warnings.filterwarnings('ignore')"
   ]
  },
  {
   "cell_type": "markdown",
   "metadata": {},
   "source": [
    "In this project we use a dataset containing information about Portuguese students from two public schools. This is a real world dataset that was collected in order to study alcohol consumption in young people and its effects on students' academic performance. The dataset was built from two sources: school reports and questionnaires.\n",
    "\n",
    "**Attributes:** `total to 33 attributes`\n",
    "\n",
    "* school - student's school (binary: 'GP' - Gabriel Pereira or 'MS' - Mousinho da Silveira) \n",
    "* sex - student's sex (binary: 'F' - female or 'M' - male) \n",
    "* age - student's age (numeric: from 15 to 22) \n",
    "- address - student's home address type (binary: 'U' - urban or 'R' - rural) \n",
    "- famsize - family size (binary: 'LE3' - less or equal to 3 or 'GT3' - greater than 3) \n",
    "- Pstatus - parent's cohabitation status (binary: 'T' - living together or 'A' - apart) \n",
    "- Medu - mother's education (numeric: 0 - none, 1 - primary education (4th grade), 2 - 5th to 9th grade, 3 -secondary education or 4 - higher education) \n",
    "- Fedu - father's education (numeric: 0 - none, 1 - primary education (4th grade), 2 - 5th to 9th grade, 3 -secondary education or 4 - higher education) \n",
    "- Mjob - mother's job (nominal: 'teacher', 'health' care related, civil 'services' (e.g. administrative or police), 'at_home' or 'other') \n",
    "- Fjob - father's job (nominal: 'teacher', 'health' care related, civil 'services' (e.g. administrative or police), 'at_home' or 'other') \n",
    "- reason - reason to choose this school (nominal: close to 'home', school 'reputation', 'course' preference or 'other') \n",
    "- guardian - student's guardian (nominal: 'mother', 'father' or 'other') \n",
    "- traveltime - home to school travel time (numeric: 1 <15 min., 2 - 15 to 30 min., 3 - 30 min. to 1 hour, or 4 - >1 hour) \n",
    "- studytime - weekly study time (numeric: 1 - <2 hours, 2 - 2 to 5 hours, 3 - 5 to 10 hours, or 4 - >10 hours) \n",
    "- failures - number of past class failures (numeric: n if 1<=n<3, else 4) \n",
    "- schoolsup - extra educational support (binary: yes or no) \n",
    "- famsup - family educational support (binary: yes or no) \n",
    "- paid - extra paid classes within the course subject (Math or Portuguese) (binary: yes or no) \n",
    "- activities - extra-curricular activities (binary: yes or no) \n",
    "- nursery - attended nursery school (binary: yes or no) \n",
    "- higher - wants to take higher education (binary: yes or no) \n",
    "- internet - Internet access at home (binary: yes or no) \n",
    "- romantic - with a romantic relationship (binary: yes or no) \n",
    "- famrel - quality of family relationships (numeric: from 1 - very bad to 5 - excellent) \n",
    "- freetime - free time after school (numeric: from 1 - very low to 5 - very high) \n",
    "- goout - going out with friends (numeric: from 1 - very low to 5 - very high) \n",
    "- Dalc - workday alcohol consumption (numeric: from 1 - very low to 5 - very high) \n",
    "- Walc - weekend alcohol consumption (numeric: from 1 - very low to 5 - very high) \n",
    "- health - current health status (numeric: from 1 - very bad to 5 - very good) \n",
    "- absences - number of school absences (numeric: from 0 to 93) \n",
    "\n",
    "**these grades are related with the course subject:**\n",
    "\n",
    "- G1 - first period grade (numeric: from 0 to 20) \n",
    "- G2 - second period grade (numeric: from 0 to 20) \n",
    "- G3 - final grade (numeric: from 0 to 20, output target) "
   ]
  },
  {
   "cell_type": "code",
   "execution_count": 6,
   "metadata": {},
   "outputs": [],
   "source": [
    "# Load data\n",
    "student = pd.read_csv('C:\\Program Files/Python36/suven/Data Anaylsis/Dataset/student.csv',sep=\";\")\n",
    "\n"
   ]
  },
  {
   "cell_type": "code",
   "execution_count": 7,
   "metadata": {},
   "outputs": [
    {
     "data": {
      "text/html": [
       "<div>\n",
       "<style scoped>\n",
       "    .dataframe tbody tr th:only-of-type {\n",
       "        vertical-align: middle;\n",
       "    }\n",
       "\n",
       "    .dataframe tbody tr th {\n",
       "        vertical-align: top;\n",
       "    }\n",
       "\n",
       "    .dataframe thead th {\n",
       "        text-align: right;\n",
       "    }\n",
       "</style>\n",
       "<table border=\"1\" class=\"dataframe\">\n",
       "  <thead>\n",
       "    <tr style=\"text-align: right;\">\n",
       "      <th></th>\n",
       "      <th>school</th>\n",
       "      <th>sex</th>\n",
       "      <th>age</th>\n",
       "      <th>address</th>\n",
       "      <th>famsize</th>\n",
       "      <th>Pstatus</th>\n",
       "      <th>Medu</th>\n",
       "      <th>Fedu</th>\n",
       "      <th>Mjob</th>\n",
       "      <th>Fjob</th>\n",
       "      <th>...</th>\n",
       "      <th>famrel</th>\n",
       "      <th>freetime</th>\n",
       "      <th>goout</th>\n",
       "      <th>Dalc</th>\n",
       "      <th>Walc</th>\n",
       "      <th>health</th>\n",
       "      <th>absences</th>\n",
       "      <th>G1</th>\n",
       "      <th>G2</th>\n",
       "      <th>G3</th>\n",
       "    </tr>\n",
       "  </thead>\n",
       "  <tbody>\n",
       "    <tr>\n",
       "      <th>0</th>\n",
       "      <td>GP</td>\n",
       "      <td>F</td>\n",
       "      <td>18</td>\n",
       "      <td>U</td>\n",
       "      <td>GT3</td>\n",
       "      <td>A</td>\n",
       "      <td>4</td>\n",
       "      <td>4</td>\n",
       "      <td>at_home</td>\n",
       "      <td>teacher</td>\n",
       "      <td>...</td>\n",
       "      <td>4</td>\n",
       "      <td>3</td>\n",
       "      <td>4</td>\n",
       "      <td>1</td>\n",
       "      <td>1</td>\n",
       "      <td>3</td>\n",
       "      <td>4</td>\n",
       "      <td>0</td>\n",
       "      <td>11</td>\n",
       "      <td>11</td>\n",
       "    </tr>\n",
       "    <tr>\n",
       "      <th>1</th>\n",
       "      <td>GP</td>\n",
       "      <td>F</td>\n",
       "      <td>17</td>\n",
       "      <td>U</td>\n",
       "      <td>GT3</td>\n",
       "      <td>T</td>\n",
       "      <td>1</td>\n",
       "      <td>1</td>\n",
       "      <td>at_home</td>\n",
       "      <td>other</td>\n",
       "      <td>...</td>\n",
       "      <td>5</td>\n",
       "      <td>3</td>\n",
       "      <td>3</td>\n",
       "      <td>1</td>\n",
       "      <td>1</td>\n",
       "      <td>3</td>\n",
       "      <td>2</td>\n",
       "      <td>9</td>\n",
       "      <td>11</td>\n",
       "      <td>11</td>\n",
       "    </tr>\n",
       "    <tr>\n",
       "      <th>2</th>\n",
       "      <td>GP</td>\n",
       "      <td>F</td>\n",
       "      <td>15</td>\n",
       "      <td>U</td>\n",
       "      <td>LE3</td>\n",
       "      <td>T</td>\n",
       "      <td>1</td>\n",
       "      <td>1</td>\n",
       "      <td>at_home</td>\n",
       "      <td>other</td>\n",
       "      <td>...</td>\n",
       "      <td>4</td>\n",
       "      <td>3</td>\n",
       "      <td>2</td>\n",
       "      <td>2</td>\n",
       "      <td>3</td>\n",
       "      <td>3</td>\n",
       "      <td>6</td>\n",
       "      <td>12</td>\n",
       "      <td>13</td>\n",
       "      <td>12</td>\n",
       "    </tr>\n",
       "    <tr>\n",
       "      <th>3</th>\n",
       "      <td>GP</td>\n",
       "      <td>F</td>\n",
       "      <td>15</td>\n",
       "      <td>U</td>\n",
       "      <td>GT3</td>\n",
       "      <td>T</td>\n",
       "      <td>4</td>\n",
       "      <td>2</td>\n",
       "      <td>health</td>\n",
       "      <td>services</td>\n",
       "      <td>...</td>\n",
       "      <td>3</td>\n",
       "      <td>2</td>\n",
       "      <td>2</td>\n",
       "      <td>1</td>\n",
       "      <td>1</td>\n",
       "      <td>5</td>\n",
       "      <td>0</td>\n",
       "      <td>14</td>\n",
       "      <td>14</td>\n",
       "      <td>14</td>\n",
       "    </tr>\n",
       "    <tr>\n",
       "      <th>4</th>\n",
       "      <td>GP</td>\n",
       "      <td>F</td>\n",
       "      <td>16</td>\n",
       "      <td>U</td>\n",
       "      <td>GT3</td>\n",
       "      <td>T</td>\n",
       "      <td>3</td>\n",
       "      <td>3</td>\n",
       "      <td>other</td>\n",
       "      <td>other</td>\n",
       "      <td>...</td>\n",
       "      <td>4</td>\n",
       "      <td>3</td>\n",
       "      <td>2</td>\n",
       "      <td>1</td>\n",
       "      <td>2</td>\n",
       "      <td>5</td>\n",
       "      <td>0</td>\n",
       "      <td>11</td>\n",
       "      <td>13</td>\n",
       "      <td>13</td>\n",
       "    </tr>\n",
       "  </tbody>\n",
       "</table>\n",
       "<p>5 rows × 33 columns</p>\n",
       "</div>"
      ],
      "text/plain": [
       "  school sex  age address famsize Pstatus  Medu  Fedu     Mjob      Fjob  ...  \\\n",
       "0     GP   F   18       U     GT3       A     4     4  at_home   teacher  ...   \n",
       "1     GP   F   17       U     GT3       T     1     1  at_home     other  ...   \n",
       "2     GP   F   15       U     LE3       T     1     1  at_home     other  ...   \n",
       "3     GP   F   15       U     GT3       T     4     2   health  services  ...   \n",
       "4     GP   F   16       U     GT3       T     3     3    other     other  ...   \n",
       "\n",
       "  famrel freetime  goout  Dalc  Walc health absences  G1  G2  G3  \n",
       "0      4        3      4     1     1      3        4   0  11  11  \n",
       "1      5        3      3     1     1      3        2   9  11  11  \n",
       "2      4        3      2     2     3      3        6  12  13  12  \n",
       "3      3        2      2     1     1      5        0  14  14  14  \n",
       "4      4        3      2     1     2      5        0  11  13  13  \n",
       "\n",
       "[5 rows x 33 columns]"
      ]
     },
     "execution_count": 7,
     "metadata": {},
     "output_type": "execute_result"
    }
   ],
   "source": [
    "# see first few records\n",
    "student.head()\n"
   ]
  },
  {
   "cell_type": "markdown",
   "metadata": {},
   "source": [
    "In this demostration we are interested in 3 variables:\n",
    "\n",
    "1. Alcohol consumption level (we will create it and call it `acl`)\n",
    "2. Final grade for the course subject (`G3`)\n",
    "3. Gender of the student"
   ]
  },
  {
   "cell_type": "code",
   "execution_count": 8,
   "metadata": {},
   "outputs": [],
   "source": [
    "student.rename(columns={'sex':'gender'}, inplace=True)\n",
    "student['alcohol_index'] = (5*student['Dalc'] + 2*student['Walc'])/7\n",
    "# Alcohol consumption level\n",
    "student['acl'] = student['alcohol_index'] <= 2\n",
    "student['acl'] = student['acl'].map({True: 'Low', False: 'High'})"
   ]
  },
  {
   "cell_type": "markdown",
   "metadata": {},
   "source": [
    "## Confidence Intervals"
   ]
  },
  {
   "cell_type": "markdown",
   "metadata": {},
   "source": [
    "### Confidence interval for the mean of the final grade"
   ]
  },
  {
   "cell_type": "markdown",
   "metadata": {},
   "source": [
    "We can calculate `confidence intervals for means and for proportions`.\n",
    "\n",
    "with mean\n",
    "\n",
    "H0=null hypothesis===>average (mean(mean value of 5.6\" is stated with 95 to 99% confidence)) htg of indian men is 5.6\n",
    "\n",
    "H1=alternative hypothesis\n",
    "\n",
    "or \n",
    "\n",
    "with proportion\n",
    "H0= Most(>50% with 95 to 99% confidence ) of ceo are male\n"
   ]
  },
  {
   "cell_type": "code",
   "execution_count": 9,
   "metadata": {},
   "outputs": [
    {
     "name": "stdout",
     "output_type": "stream",
     "text": [
      "649\n"
     ]
    }
   ],
   "source": [
    "sample_size = student.shape[0]#---->[0] means rows\n",
    "print(sample_size)"
   ]
  },
  {
   "cell_type": "markdown",
   "metadata": {},
   "source": [
    "Because we have a sample size that is much greater than 30, we can use the [Central Limit Theorem](https://en.wikipedia.org/wiki/Central_limit_theorem) to calculate confidence intervals. According to this theorem we can calculate a confidence interval for the mean using the normal distribution.\n",
    "\n",
    "To get the confidence interval for the mean we need three numbers:\n",
    "\n",
    "1. Sample mean\n",
    "2. Standard error\n",
    "3. Confidence level\n",
    "\n",
    "Formula for the standard error:\n",
    "\n",
    "$$ SE = \\frac{s}{\\sqrt n} $$"
   ]
  },
  {
   "cell_type": "code",
   "execution_count": 10,
   "metadata": {},
   "outputs": [
    {
     "data": {
      "text/plain": [
       "11.906009244992296"
      ]
     },
     "execution_count": 10,
     "metadata": {},
     "output_type": "execute_result"
    }
   ],
   "source": [
    "sample_mean_grade = student['G3'].mean()\n",
    "sample_mean_grade"
   ]
  },
  {
   "cell_type": "code",
   "execution_count": 11,
   "metadata": {},
   "outputs": [],
   "source": [
    "std_error_grades = student['G3'].std()/sqrt(sample_size)"
   ]
  },
  {
   "cell_type": "code",
   "execution_count": 38,
   "metadata": {},
   "outputs": [
    {
     "data": {
      "text/plain": [
       "(11.65745768566587, 12.154560804318722)"
      ]
     },
     "execution_count": 38,
     "metadata": {},
     "output_type": "execute_result"
    }
   ],
   "source": [
    "stats.norm.interval(0.95, loc=sample_mean_grade, scale=std_error_grades)\n",
    "\n",
    "# interval(confidence, loc=0, scale=1) -> endpoints of the range that contains alpha percent of the distribution\n",
    "# for eg : if confidence = 0.95 that means the acceptance region is 95%.\n",
    "# mostly confidence is 0.95 or 0.98 or 0.99\n",
    "# or inversely we can say the alpha value is 0.05 or 0.02 or 0.01\n",
    "# loc parameter specifies the mean\n",
    "# scale parameter specifies the standard devaition\n",
    "\n",
    "# Note : Here .interval() is working on a Normal distribution.\n",
    "# There are two ways of using probability distribution functions.\n",
    "# 1. A “frozen” distribution   and   2. Non-frozen \n",
    "# 1. A “frozen” distribution is one with its parameters set to specific values. \n",
    "# n = stats.norm(loc=3.5, scale=2.0)\n",
    "# n.rvs() # getting a random variable from the normal distribution\n",
    "# 2. We have used the Non-Frozen distribution , as we have calculated the loc and scale and then applied."
   ]
  },
  {
   "cell_type": "markdown",
   "metadata": {},
   "source": [
    "Now let's calculate a confidence interval for the proportion of students with High Alcohol Consumption Level. Again we need 3 numbers:\n",
    "\n",
    "1. Sample proportion\n",
    "2. Standard error\n",
    "3. Confidence level\n",
    "\n",
    "For proportions the standard error is given by:\n",
    "\n",
    "$$ SE = \\sqrt \\frac{\\hat p (1 - \\hat p)}{n} $$"
   ]
  },
  {
   "cell_type": "code",
   "execution_count": 12,
   "metadata": {},
   "outputs": [
    {
     "data": {
      "text/plain": [
       "Low     0.744222\n",
       "High    0.255778\n",
       "Name: acl, dtype: float64"
      ]
     },
     "execution_count": 12,
     "metadata": {},
     "output_type": "execute_result"
    }
   ],
   "source": [
    "student['acl'].value_counts(normalize=True)"
   ]
  },
  {
   "cell_type": "code",
   "execution_count": 13,
   "metadata": {},
   "outputs": [],
   "source": [
    "high_prop = student['acl'].value_counts(normalize=True)['High']\n",
    "std_error_prop = sqrt(high_prop*(1-high_prop)/sample_size)"
   ]
  },
  {
   "cell_type": "code",
   "execution_count": 14,
   "metadata": {},
   "outputs": [
    {
     "data": {
      "text/plain": [
       "(0.2222114195583801, 0.28934482081141966)"
      ]
     },
     "execution_count": 14,
     "metadata": {},
     "output_type": "execute_result"
    }
   ],
   "source": [
    "stats.norm.interval(0.95, loc=high_prop, scale=std_error_prop)"
   ]
  },
  {
   "cell_type": "markdown",
   "metadata": {},
   "source": [
    "0.25 (or 25.0%) seems like a good guess for the proportion of students with High Alcohol Consumption Levels in the population."
   ]
  },
  {
   "cell_type": "markdown",
   "metadata": {},
   "source": [
    "## Probability calculations"
   ]
  },
  {
   "cell_type": "markdown",
   "metadata": {},
   "source": [
    "There are dozens of probability distributions available in the stats package for doing simulations of random variables or probability calculations. You can take a look at this \n",
    "(https://www.probabilitycourse.com/chapter3/3_1_3_pmf.php) to understand PMF\n",
    "\n",
    "**Assumming the P(High ALC) = 0.25. In a class of 10, What is the probability of finding 5 students with High ACL?**"
   ]
  },
  {
   "cell_type": "code",
   "execution_count": 15,
   "metadata": {},
   "outputs": [
    {
     "data": {
      "text/plain": [
       "0.058399200439453194"
      ]
     },
     "execution_count": 15,
     "metadata": {},
     "output_type": "execute_result"
    }
   ],
   "source": [
    "stats.binom.pmf(k=5, n=10, p=0.25)\n",
    "# here pmf -> probability mass function\n",
    "# pmf(k,n,p)\n",
    "# k -> number of success, n -> number of trails/sample size, p-> is the probability"
   ]
  },
  {
   "cell_type": "markdown",
   "metadata": {},
   "source": [
    "**`Before we plot or use the Cumulative distribution function`** :\n",
    "\n",
    "A cumulative distribution function is only used in the case of random variables -- if the variables were deterministic, i.e., known and not-random, we wouldn't need a distribution to describe them in the first place.\n",
    "\n",
    "A `CDF` is a function that describes the probability of a random variable taking on a given value or less.\n",
    "\n",
    "A good example is rolling a single 6-sided die. Normally, we talk about the probability of a given number coming up--for example, the probability of rolling a 2 is 1 out of 6, 1/6, 0.166667. (That probability is described by the probability mass function, or PMF.)\n",
    "\n",
    "But what if you don't just want 2; you are okay with a 2 or any number less than it? In this case, there is only one other number: 1. So now when you roll your die, you are looking for a 2 OR a 1. You are now looking for 2 outcomes out of 6, so the probability is 2/6 = 1/3. Similarly, if you want a 3 or less, the probability is 3/6 or 1/2.\n",
    "\n",
    "It's called cumulative because you find the probability by adding up the individual probabilities of all the outcomes included. In the case of our die, when you want a 2 or less, you have 2 outcomes fulfilling this condition: 1 and 2, each with an individual probability of 1/6. 1/6 + 1/6 = 2/6 or 1/3, which is the cumulative probability of a 2. `That's what cumulative means--addition`."
   ]
  },
  {
   "cell_type": "code",
   "execution_count": 14,
   "metadata": {},
   "outputs": [],
   "source": [
    "def plot_probs_n(n):\n",
    "    fig, ax = plt.subplots(1,2, figsize = (14,4))\n",
    "    ax[0].bar(arange(n+1), height=stats.binom.pmf(k=arange(n+1), n=n, p=0.25))\n",
    "    ax[0].set_xticks(arange(n+1))\n",
    "    ax[0].set_title('Probability mass function')\n",
    "    ax[1].plot(stats.binom.cdf(k=range(n+1), n=n, p=0.25))\n",
    "    ax[1].set_xticks(arange(n+1))\n",
    "    ax[1].set_title('Cumulative distribution function')\n",
    "\n",
    "    # for maths behind cumulative distribution function\n",
    "    # https://www.probabilitycourse.com/chapter3/3_2_1_cdf.php    "
   ]
  },
  {
   "cell_type": "code",
   "execution_count": 15,
   "metadata": {},
   "outputs": [
    {
     "data": {
      "image/png": "[encoded data removed]",
      "text/plain": [
       "<Figure size 1008x288 with 2 Axes>"
      ]
     },
     "metadata": {
      "needs_background": "light"
     },
     "output_type": "display_data"
    }
   ],
   "source": [
    "plot_probs_n(10)"
   ]
  },
  {
   "cell_type": "markdown",
   "metadata": {},
   "source": [
    "### Null Hypothesis Testing framework\n",
    "\n",
    "**1. State Null and alternative hypotheses** - Each hypothesis test includes two hypothesis about the population.  One is the null hypothesis, notated as Ho, which is a statement of a particular parameter value.  This hypothesis is assumed to be true until there is evidence to suggest otherwise.  The second hypothesis is called the alternative, notated as Ha.  The alternative hypothesis is a statement of a range of alternative values in which the parameter may fall.  One must also check that any assumptions (conditions) needed to run the test have been satisfied e.g. normality of data, independence, and number of success and failure outcomes.\n",
    "\n",
    "**2. Set in advanced some level of significance, called alpha** -  This value is used as a probability cutoff for making decisions about the null hypothesis.  This alpha value represents the probability we are willing to place on our test for making an incorrect decision in regards to rejecting the null hypothesis.  The most common alpha value is 0.05  or 5%. Other popular choices are 0.01 (1%) and 0.10 (10%). This is the area under the curve (marked red). `If our test statistic comes in (red) tail part then we would Reject H0 else we will not Reject H0`. \n",
    "![AlphaRegion_RejectionRegion](img/alphaRegion_rejectionRegion_2.png \"Rejection region\")\n",
    "\n",
    "**3. Find the CV ( Critical Value or P-Value )** - This is done by refering a ready table of CV like z-table or t-table. \n",
    "\n",
    "**4. Calculate a test statistic** - Calculate a test statistic.  The test statistic is calculated under the assumption the null hypothesis is true, and incorporates a measure of standard error and assumptions (conditions) related to the sampling distribution. \n",
    "\n",
    "**5. Make a test decision about the null hypothesis -**  In this step we decide to either reject the null hypothesis or decide to fail to reject the null hypothesis. `If our test statistic comes in (red) tail part then we would Reject H0 else we will not Reject H0`.  \n",
    "\n",
    "**6. State an overall conclusion -** Once we have found the p-value or rejection region, and made a statistical decision about the null hypothesis (i.e. we will reject the null or fail to reject the null).  Following this decision, we want to summarize our results into an overall conclusion for our test."
   ]
  },
  {
   "cell_type": "markdown",
   "metadata": {},
   "source": [
    "<h2>Some Statistical test from <code>scipy.stats</code></h2>\n",
    "\n",
    "* kurtosistest(a[, axis, nan_policy])\tTests whether a dataset has normal kurtosis\n",
    "* normaltest(a[, axis, nan_policy])\tTests whether a sample differs from a normal distribution.\n",
    "* skewtest(a[, axis, nan_policy])\tTests whether the skew is different from the normal distribution.\n",
    "* pearsonr(x, y)\tCalculates a Pearson correlation coefficient and the p-value for testing non-correlation.\n",
    "* ttest_1samp(a, popmean[, axis, nan_policy])\tCalculates the T-test for the mean of ONE group of scores.\n",
    "* ttest_ind(a, b[, axis, equal_var, nan_policy])\tCalculates the T-test for the means of two independent samples of scores.\n",
    "* ttest_ind_from_stats(mean1, std1, nobs1, ...)\tT-test for means of two independent samples from descriptive statistics.\n",
    "* ttest_rel(a, b[, axis, nan_policy])\tCalculates the T-test on TWO RELATED samples of scores, a and b.\n",
    "* kstest(rvs, cdf[, args, N, alternative, mode])\tPerform the Kolmogorov-Smirnov test for goodness of fit.\n",
    "* chisquare(f_obs[, f_exp, ddof, axis])\tCalculates a one-way chi square test.\n",
    "* ansari(x, y)\tPerform the Ansari-Bradley test for equal scale parameters\n",
    "* bartlett(*args)\tPerform Bartlett’s test for equal variances\n",
    "* levene(*args, **kwds)\tPerform Levene test for equal variances.\n",
    "* shapiro(x[, a, reta])\tPerform the Shapiro-Wilk test for normality.\n",
    "* anderson(x[, dist])\tAnderson-Darling test for data coming from a particular distribution\n",
    "* anderson_ksamp(samples[, midrank])\tThe Anderson-Darling test for k-samples."
   ]
  },
  {
   "cell_type": "markdown",
   "metadata": {},
   "source": [
    "## Does alcohol consumption affect academic performance?"
   ]
  },
  {
   "cell_type": "code",
   "execution_count": 23,
   "metadata": {},
   "outputs": [
    {
     "data": {
      "image/png": "[encoded data removed]",
      "text/plain": [
       "<matplotlib.figure.Figure at 0x1dd1b4efeb8>"
      ]
     },
     "metadata": {},
     "output_type": "display_data"
    }
   ],
   "source": [
    "fig, axes = plt.subplots(1,2, figsize = (14,4))\n",
    "sns.boxplot(x='acl', y='G3', data=student, ax=axes[0])\n",
    "sns.pointplot(x='acl', y='G3', data=student, ax=axes[1]);"
   ]
  },
  {
   "cell_type": "markdown",
   "metadata": {},
   "source": [
    "The visualizations sugest there is a difference between the means of the final grade of the two groups. Now we will perform a formal statistical test to confirm the hypothesis that students with High alcohol consumption level perform worse than the students with Low alcohol consumption level.\n",
    "\n",
    "> **Null Hypothesis: for both groups (High and Low ACL) the population means of the final grade are equal.**\n",
    "\n",
    ">  **Alternative Hypothesis: The population means of the final grades are different.**\n",
    "\n",
    "A common test to apply in for these cases is the two-sample t-test, which is used to determine if two population means are equal. \n",
    "\n",
    "All statistical tests have assumptions that must be checked for their conclusions to be valid, for these test the assumptions are:\n",
    "\n",
    "1. **Independent samples**: we will assume that the method for collecting the data assured that the answers given by the students are independent.\n",
    "2. **Large enough sample size or observations come from a normally-distributed population**: this assumption is required if we are working with small samples (less than 30), since in the smaller group we have 166 observations we can say that we have a \"large enough\" sample.\n",
    "3. **Variances are equal**\n",
    "\n",
    "In addition this test have two versions: one assuming equal variances and the other assumming unequal variances."
   ]
  },
  {
   "cell_type": "markdown",
   "metadata": {},
   "source": [
    "According to the test we can not reject the Null hypothesis of equal variances, so we will assume that the two samples come from a population with the same population variances. Time to perform our t-test."
   ]
  },
  {
   "cell_type": "code",
   "execution_count": 35,
   "metadata": {},
   "outputs": [
    {
     "data": {
      "text/plain": [
       "Ttest_indResult(statistic=4.621320706949354, pvalue=4.6036088303692694e-06)"
      ]
     },
     "execution_count": 35,
     "metadata": {},
     "output_type": "execute_result"
    }
   ],
   "source": [
    "grades_low_acl = student['G3'][student['acl']=='Low']\n",
    "grades_high_acl = student['G3'][student['acl']=='High']\n",
    "stats.ttest_ind(grades_low_acl, grades_high_acl, equal_var=True)\n",
    "\n",
    "# Here statistic = 4.621 means the test statistic \n",
    "# pvalue = 4.603e-06 means -> the two-tailed p-value.\n",
    "# Imagine a bell curve with either of its 2-ends marked in RED at 4.603e-06 \n",
    "# and our value of +4.621 would be out of the acceptance region, well in the RED Region. \n",
    "\n",
    "# Source : https://docs.scipy.org/doc/scipy/reference/generated/scipy.stats.ttest_ind.html\n",
    "# Note : We can use this test, if we observe two independent samples from \n",
    "# the same or different population, e.g. exam scores of boys and girls \n",
    "# or of two ethnic groups. \n",
    "# The test measures whether the average (expected) value differs \n",
    "# significantly across samples. If we observe a large p-value, \n",
    "# for example larger than 0.05 or 0.1, then we cannot reject the \n",
    "# null hypothesis of identical average scores. \n",
    "# If the p-value is smaller than the threshold, e.g. 1%, 5% or 10%, \n",
    "# then we reject the null hypothesis of equal averages.\n",
    "\n",
    "# Hence (in this case) as 4.603__e-06 is <<< 0.05 hence REJECT the H0 "
   ]
  },
  {
   "cell_type": "markdown",
   "metadata": {},
   "source": [
    "Since we got such a low p-value we can reject the Null hypothesis of equal means for the two groups at a level of significance of 5% i.e we can reject the H0 with 95% confidence."
   ]
  },
  {
   "cell_type": "markdown",
   "metadata": {},
   "source": [
    "> **Conclusion: there is a statistical significant difference between the grades in the two analyzed groups, since the mean for the group with high alcohol consumption is less than the mean of the other group, the results suggest that alcohol consumption has a negative impact on students' academic performance.**"
   ]
  },
  {
   "cell_type": "markdown",
   "metadata": {},
   "source": [
    "## Do male teenagers drink more than female teenagers?"
   ]
  },
  {
   "cell_type": "code",
   "execution_count": 36,
   "metadata": {},
   "outputs": [
    {
     "data": {
      "image/png": "[encoded data removed]",
      "text/plain": [
       "<Figure size 1008x288 with 2 Axes>"
      ]
     },
     "metadata": {
      "needs_background": "light"
     },
     "output_type": "display_data"
    }
   ],
   "source": [
    "fig, axes = plt.subplots(1,2, figsize = (14,4))\n",
    "student['gender'].value_counts().plot(kind='bar', ax=axes[0], title='Gender')\n",
    "student['acl'].value_counts().plot(kind='bar', ax=axes[1], title='Alcohol Consumption Level');"
   ]
  },
  {
   "cell_type": "code",
   "execution_count": 37,
   "metadata": {},
   "outputs": [
    {
     "data": {
      "text/html": [
       "<div>\n",
       "<style scoped>\n",
       "    .dataframe tbody tr th:only-of-type {\n",
       "        vertical-align: middle;\n",
       "    }\n",
       "\n",
       "    .dataframe tbody tr th {\n",
       "        vertical-align: top;\n",
       "    }\n",
       "\n",
       "    .dataframe thead th {\n",
       "        text-align: right;\n",
       "    }\n",
       "</style>\n",
       "<table border=\"1\" class=\"dataframe\">\n",
       "  <thead>\n",
       "    <tr style=\"text-align: right;\">\n",
       "      <th>gender</th>\n",
       "      <th>F</th>\n",
       "      <th>M</th>\n",
       "    </tr>\n",
       "    <tr>\n",
       "      <th>acl</th>\n",
       "      <th></th>\n",
       "      <th></th>\n",
       "    </tr>\n",
       "  </thead>\n",
       "  <tbody>\n",
       "    <tr>\n",
       "      <th>High</th>\n",
       "      <td>62</td>\n",
       "      <td>104</td>\n",
       "    </tr>\n",
       "    <tr>\n",
       "      <th>Low</th>\n",
       "      <td>321</td>\n",
       "      <td>162</td>\n",
       "    </tr>\n",
       "  </tbody>\n",
       "</table>\n",
       "</div>"
      ],
      "text/plain": [
       "gender    F    M\n",
       "acl             \n",
       "High     62  104\n",
       "Low     321  162"
      ]
     },
     "execution_count": 37,
     "metadata": {},
     "output_type": "execute_result"
    }
   ],
   "source": [
    "gender_acl_table = pd.crosstab(student['acl'], student['gender'])\n",
    "gender_acl_table"
   ]
  },
  {
   "cell_type": "code",
   "execution_count": 28,
   "metadata": {
    "scrolled": true
   },
   "outputs": [
    {
     "data": {
      "image/png": "[encoded data removed]",
      "text/plain": [
       "<matplotlib.figure.Figure at 0x1dd1b5dea58>"
      ]
     },
     "metadata": {},
     "output_type": "display_data"
    }
   ],
   "source": [
    "fig, axes = plt.subplots(1,2, figsize = (14,4))\n",
    "gender_acl_table.plot(kind='bar', stacked=True, ax=axes[0]);\n",
    "(100*(gender_acl_table.T/gender_acl_table.apply(sum, axis=1)).T).plot(kind='bar', stacked=True, ax=axes[1]);"
   ]
  },
  {
   "cell_type": "markdown",
   "metadata": {},
   "source": [
    "**`Good Read :`**\n",
    "\n",
    "https://oneau.wordpress.com/2011/02/28/simple-statistics-with-scipy/\n",
    "\n",
    "https://scipy-lectures.org/packages/statistics/index.html#hypothesis-testing-comparing-two-groups\n",
    "\n",
    "https://machinelearningmastery.com/statistical-hypothesis-tests-in-python-cheat-sheet/\n",
    "\n",
    "\n",
    "`Please Note` : Statistics is a very wide and mathematical topic and beyond the scope of this course. The objective of this NB is to get you introduced to SciPy stats sub-package."
   ]
  }
 ],
 "metadata": {
  "kernelspec": {
   "display_name": "Python 3",
   "language": "python",
   "name": "python3"
  },
  "language_info": {
   "codemirror_mode": {
    "name": "ipython",
    "version": 3
   },
   "file_extension": ".py",
   "mimetype": "text/x-python",
   "name": "python",
   "nbconvert_exporter": "python",
   "pygments_lexer": "ipython3",
   "version": "3.6.5"
  },
  "toc": {
   "colors": {
    "hover_highlight": "#DAA520",
    "running_highlight": "#FF0000",
    "selected_highlight": "#FFD700"
   },
   "moveMenuLeft": true,
   "nav_menu": {
    "height": "173px",
    "width": "252px"
   },
   "navigate_menu": true,
   "number_sections": true,
   "sideBar": true,
   "threshold": 4,
   "toc_cell": false,
   "toc_section_display": "block",
   "toc_window_display": false,
   "widenNotebook": false
  }
 },
 "nbformat": 4,
 "nbformat_minor": 2
}
