{
 "cells": [
  {
   "cell_type": "markdown",
   "metadata": {},
   "source": [
    "# Math 2319 Machine Learning Project Phase 2  \n",
    "\n",
    "## Predicting wine quality based on physicochemical tests\n",
    "\n"
   ]
  },
  {
   "cell_type": "markdown",
   "metadata": {},
   "source": [
    "## Introduction\n",
    "\n",
    "The objective of this project is to predict the quality of wine based on its chemical characteristics. The data set was retrieved from https://www.kaggle.com/uciml/red-wine-quality-cortez-et-al-2009/version/2.\n",
    "\n",
    "This project is composed of two phases. During phase 1 we imported and pre-processed our data set, performed some data manipulation to help us on our phase 2 analysis, we also created data visualisations and looked at descriptive statistics to get a better understanding of our descriptive feautres and of the machine learning methods that might be most useful when attempting to crate a predictive model. \n",
    "\n",
    "During this second phase of the project we used three machine learning algorithms to create a predictive model that would help us to correctly classify wine quality (from 1 to 10), using the 5 best descriptive features in our dataset.\n",
    "\n",
    "This report was compiled from Jupyer Notebook and contains Python code and plots, as well as narrative."
   ]
  },
  {
   "cell_type": "markdown",
   "metadata": {},
   "source": [
    "## Data Set\n",
    "Our full data set contains 1599 observations. This were divided into train and test datasets. Our train dataset contains 1199 observations while the test dataset has 400.\n",
    "\n",
    "#### Target feature\n",
    "The response feature is quality, which is a number from 0 to 10 and describes the wine's rating according to experts. However, most of our responses are between 3 to 8 for wine quality.\n",
    "\n",
    "#### Descriptive features\n",
    "\n",
    "Input variables (based on physicochemical tests):\n",
    "\n",
    "    1 - fixed acidity\n",
    "    2 - volatile acidity \n",
    "    3 - citric acid \n",
    "    4 - residual sugar\n",
    "    5 - chlorides \n",
    "    6 - free sulfur dioxide \n",
    "    7 - total sulfur dioxide \n",
    "    8 - density \n",
    "    9 - pH \n",
    "    10 - sulphates \n",
    "    11 - alcohol\n",
    "\n",
    "##### Output variable (based on sensory data): \n",
    "##### 12 - quality (score between 0 and 10) \n",
    "\n",
    "*For more information, read [Cortez et al., 2009].*"
   ]
  },
  {
   "cell_type": "markdown",
   "metadata": {},
   "source": [
    "## Methods\n",
    "\n",
    "We used the following multinomial classifiers to predict our target feature's value (1 to 10):\n",
    "\n",
    "*K-Nearest Neighbors\n",
    "*Naive Bayes\n",
    "*Decision trees\n",
    "\n",
    "We will begin with some basic data exploration and will show how no further data cleaning is necessary. It is important to note that we are dealing with continuous features exclusively, so there is no need to re-encode any of these predictors. The only discrete (categorical) variable would be our target variable, quality, which ranges from 1 to 10 but has only entries between 3 and 8 in this dataset.\n",
    "\n",
    "We used a minmax scaler on our predictive features and then used both Random Forest Importance and Mutual Information Selection to chose the 5 best predictors in our dataset. We only have 11 posible predictive features so we could use all of them since it could be handled by our computing power. However, several features were heavily correlated (phase 1 showed) and for the sake of displaying feature selection techniques we decided to go with the top 5 predictive features. Also, not even the top 5 predicitve features display a big \"importance\" so using every feature would likely result in overfitting. The analysis using all features would also be less challenging.\n",
    "\n",
    "After both of our feature selection methods chose the same 5 variables we coded each classifier. We used 5-fold stratified cross-validation using \"accuracy\" as our performance metric\n"
   ]
  },
  {
   "cell_type": "markdown",
   "metadata": {},
   "source": [
    "## Data Pre-processing\n",
    "We read the csv files using pandas and we check our import using the head() function.\n",
    "\n",
    "We then concatenate our data together for this Phase's analysis."
   ]
  },
  {
   "cell_type": "code",
   "execution_count": 151,
   "metadata": {},
   "outputs": [],
   "source": [
    "import pandas as pd\n",
    "from IPython.display import display, HTML\n",
    "import numpy as np\n",
    "import io\n",
    "import requests\n",
    "import warnings\n",
    "warnings.filterwarnings(\"ignore\")\n",
    "import numpy as np\n",
    "import pandas as pd\n",
    "from sklearn.model_selection import cross_val_score, RepeatedStratifiedKFold\n",
    "import sklearn.metrics as metrics\n",
    "from sklearn.ensemble import RandomForestClassifier\n",
    "from sklearn import preprocessing\n",
    "from sklearn import feature_selection as fs\n",
    "from sklearn.neighbors import KNeighborsClassifier\n",
    "\n",
    "np.random.seed(999)"
   ]
  },
  {
   "cell_type": "code",
   "execution_count": 152,
   "metadata": {},
   "outputs": [
    {
     "data": {
      "text/html": [
       "<div>\n",
       "<style scoped>\n",
       "    .dataframe tbody tr th:only-of-type {\n",
       "        vertical-align: middle;\n",
       "    }\n",
       "\n",
       "    .dataframe tbody tr th {\n",
       "        vertical-align: top;\n",
       "    }\n",
       "\n",
       "    .dataframe thead th {\n",
       "        text-align: right;\n",
       "    }\n",
       "</style>\n",
       "<table border=\"1\" class=\"dataframe\">\n",
       "  <thead>\n",
       "    <tr style=\"text-align: right;\">\n",
       "      <th></th>\n",
       "      <th>fixed acidity</th>\n",
       "      <th>volatile acidity</th>\n",
       "      <th>citric acid</th>\n",
       "      <th>residual sugar</th>\n",
       "      <th>chlorides</th>\n",
       "      <th>free sulfur dioxide</th>\n",
       "      <th>total sulfur dioxide</th>\n",
       "      <th>density</th>\n",
       "      <th>pH</th>\n",
       "      <th>sulphates</th>\n",
       "      <th>alcohol</th>\n",
       "      <th>quality</th>\n",
       "    </tr>\n",
       "  </thead>\n",
       "  <tbody>\n",
       "    <tr>\n",
       "      <th>0</th>\n",
       "      <td>7.2</td>\n",
       "      <td>0.660</td>\n",
       "      <td>0.33</td>\n",
       "      <td>2.5</td>\n",
       "      <td>0.068</td>\n",
       "      <td>34.0</td>\n",
       "      <td>102.0</td>\n",
       "      <td>0.99414</td>\n",
       "      <td>3.27</td>\n",
       "      <td>0.78</td>\n",
       "      <td>12.8</td>\n",
       "      <td>6</td>\n",
       "    </tr>\n",
       "    <tr>\n",
       "      <th>1</th>\n",
       "      <td>7.2</td>\n",
       "      <td>0.655</td>\n",
       "      <td>0.03</td>\n",
       "      <td>1.8</td>\n",
       "      <td>0.078</td>\n",
       "      <td>7.0</td>\n",
       "      <td>12.0</td>\n",
       "      <td>0.99587</td>\n",
       "      <td>3.34</td>\n",
       "      <td>0.39</td>\n",
       "      <td>9.5</td>\n",
       "      <td>5</td>\n",
       "    </tr>\n",
       "    <tr>\n",
       "      <th>2</th>\n",
       "      <td>5.9</td>\n",
       "      <td>0.610</td>\n",
       "      <td>0.08</td>\n",
       "      <td>2.1</td>\n",
       "      <td>0.071</td>\n",
       "      <td>16.0</td>\n",
       "      <td>24.0</td>\n",
       "      <td>0.99376</td>\n",
       "      <td>3.56</td>\n",
       "      <td>0.77</td>\n",
       "      <td>11.1</td>\n",
       "      <td>6</td>\n",
       "    </tr>\n",
       "    <tr>\n",
       "      <th>3</th>\n",
       "      <td>8.3</td>\n",
       "      <td>0.260</td>\n",
       "      <td>0.42</td>\n",
       "      <td>2.0</td>\n",
       "      <td>0.080</td>\n",
       "      <td>11.0</td>\n",
       "      <td>27.0</td>\n",
       "      <td>0.99740</td>\n",
       "      <td>3.21</td>\n",
       "      <td>0.80</td>\n",
       "      <td>9.4</td>\n",
       "      <td>6</td>\n",
       "    </tr>\n",
       "    <tr>\n",
       "      <th>4</th>\n",
       "      <td>7.8</td>\n",
       "      <td>0.610</td>\n",
       "      <td>0.29</td>\n",
       "      <td>1.6</td>\n",
       "      <td>0.114</td>\n",
       "      <td>9.0</td>\n",
       "      <td>29.0</td>\n",
       "      <td>0.99740</td>\n",
       "      <td>3.26</td>\n",
       "      <td>1.56</td>\n",
       "      <td>9.1</td>\n",
       "      <td>5</td>\n",
       "    </tr>\n",
       "  </tbody>\n",
       "</table>\n",
       "</div>"
      ],
      "text/plain": [
       "   fixed acidity  volatile acidity  citric acid  residual sugar  chlorides  \\\n",
       "0            7.2             0.660         0.33             2.5      0.068   \n",
       "1            7.2             0.655         0.03             1.8      0.078   \n",
       "2            5.9             0.610         0.08             2.1      0.071   \n",
       "3            8.3             0.260         0.42             2.0      0.080   \n",
       "4            7.8             0.610         0.29             1.6      0.114   \n",
       "\n",
       "   free sulfur dioxide  total sulfur dioxide  density    pH  sulphates  \\\n",
       "0                 34.0                 102.0  0.99414  3.27       0.78   \n",
       "1                  7.0                  12.0  0.99587  3.34       0.39   \n",
       "2                 16.0                  24.0  0.99376  3.56       0.77   \n",
       "3                 11.0                  27.0  0.99740  3.21       0.80   \n",
       "4                  9.0                  29.0  0.99740  3.26       1.56   \n",
       "\n",
       "   alcohol  quality  \n",
       "0     12.8        6  \n",
       "1      9.5        5  \n",
       "2     11.1        6  \n",
       "3      9.4        6  \n",
       "4      9.1        5  "
      ]
     },
     "execution_count": 152,
     "metadata": {},
     "output_type": "execute_result"
    }
   ],
   "source": [
    "wineTest = pd.read_csv(\"D:/alber/Downloads/winequalitytest.csv\")\n",
    "wineTrain = pd.read_csv(\"D:/alber/Downloads/winequalitytrain.csv\") \n",
    "wineData = pd.concat([wineTest,wineTrain])\n",
    "wineData.head()"
   ]
  },
  {
   "cell_type": "markdown",
   "metadata": {},
   "source": [
    "### Data Cleaning and initial exploration\n",
    "We first want to know the data types for our features.\n",
    "\n",
    "Then we check for missing values and find none."
   ]
  },
  {
   "cell_type": "code",
   "execution_count": 153,
   "metadata": {},
   "outputs": [
    {
     "name": "stdout",
     "output_type": "stream",
     "text": [
      "Dimension of the Dataset is (1599, 12) \n",
      "\n",
      "Data Types are: \n",
      "fixed acidity           float64\n",
      "volatile acidity        float64\n",
      "citric acid             float64\n",
      "residual sugar          float64\n",
      "chlorides               float64\n",
      "free sulfur dioxide     float64\n",
      "total sulfur dioxide    float64\n",
      "density                 float64\n",
      "pH                      float64\n",
      "sulphates               float64\n",
      "alcohol                 float64\n",
      "quality                   int64\n",
      "dtype: object\n"
     ]
    }
   ],
   "source": [
    "print(f\"Dimension of the Dataset is {allData.shape} \\n\")\n",
    "print(f\"Data Types are: \")\n",
    "print(wineData.dtypes)"
   ]
  },
  {
   "cell_type": "code",
   "execution_count": 154,
   "metadata": {},
   "outputs": [
    {
     "name": "stdout",
     "output_type": "stream",
     "text": [
      "Number of missing values for each feature: \n",
      "fixed acidity           0\n",
      "volatile acidity        0\n",
      "citric acid             0\n",
      "residual sugar          0\n",
      "chlorides               0\n",
      "free sulfur dioxide     0\n",
      "total sulfur dioxide    0\n",
      "density                 0\n",
      "pH                      0\n",
      "sulphates               0\n",
      "alcohol                 0\n",
      "quality                 0\n",
      "dtype: int64\n"
     ]
    }
   ],
   "source": [
    "print(f\"Number of missing values for each feature: \")\n",
    "print(wineData.isnull().sum())"
   ]
  },
  {
   "cell_type": "markdown",
   "metadata": {},
   "source": [
    "We then display basic descriptive statistics for our target and descriptive features. We do not get any results that are too unexpected, although there might be some outliers on the upper end of some of our descriptive features such as 'total sulfur dioxid' and 'residual sugar'. We will look at these closer in the next chapter.\n",
    "\n",
    "We get an interesting result four our target feature. it seems that many of the grades are repetitive as the quantiles seem to be integers and the spread seems relatively small."
   ]
  },
  {
   "cell_type": "code",
   "execution_count": 155,
   "metadata": {
    "scrolled": true
   },
   "outputs": [
    {
     "data": {
      "text/html": [
       "<b>Table 1: Summary of all features</b>"
      ],
      "text/plain": [
       "<IPython.core.display.HTML object>"
      ]
     },
     "metadata": {},
     "output_type": "display_data"
    },
    {
     "data": {
      "text/html": [
       "<div>\n",
       "<style scoped>\n",
       "    .dataframe tbody tr th:only-of-type {\n",
       "        vertical-align: middle;\n",
       "    }\n",
       "\n",
       "    .dataframe tbody tr th {\n",
       "        vertical-align: top;\n",
       "    }\n",
       "\n",
       "    .dataframe thead th {\n",
       "        text-align: right;\n",
       "    }\n",
       "</style>\n",
       "<table border=\"1\" class=\"dataframe\">\n",
       "  <thead>\n",
       "    <tr style=\"text-align: right;\">\n",
       "      <th></th>\n",
       "      <th>fixed acidity</th>\n",
       "      <th>volatile acidity</th>\n",
       "      <th>citric acid</th>\n",
       "      <th>residual sugar</th>\n",
       "      <th>chlorides</th>\n",
       "      <th>free sulfur dioxide</th>\n",
       "      <th>total sulfur dioxide</th>\n",
       "      <th>density</th>\n",
       "      <th>pH</th>\n",
       "      <th>sulphates</th>\n",
       "      <th>alcohol</th>\n",
       "      <th>quality</th>\n",
       "    </tr>\n",
       "  </thead>\n",
       "  <tbody>\n",
       "    <tr>\n",
       "      <th>count</th>\n",
       "      <td>1599.000000</td>\n",
       "      <td>1599.000000</td>\n",
       "      <td>1599.000000</td>\n",
       "      <td>1599.000000</td>\n",
       "      <td>1599.000000</td>\n",
       "      <td>1599.000000</td>\n",
       "      <td>1599.000000</td>\n",
       "      <td>1599.000000</td>\n",
       "      <td>1599.000000</td>\n",
       "      <td>1599.000000</td>\n",
       "      <td>1599.000000</td>\n",
       "      <td>1599.000000</td>\n",
       "    </tr>\n",
       "    <tr>\n",
       "      <th>mean</th>\n",
       "      <td>8.319637</td>\n",
       "      <td>0.527821</td>\n",
       "      <td>0.270976</td>\n",
       "      <td>2.538806</td>\n",
       "      <td>0.087467</td>\n",
       "      <td>15.874922</td>\n",
       "      <td>46.467792</td>\n",
       "      <td>0.996747</td>\n",
       "      <td>3.311113</td>\n",
       "      <td>0.658149</td>\n",
       "      <td>10.422983</td>\n",
       "      <td>5.636023</td>\n",
       "    </tr>\n",
       "    <tr>\n",
       "      <th>std</th>\n",
       "      <td>1.741096</td>\n",
       "      <td>0.179060</td>\n",
       "      <td>0.194801</td>\n",
       "      <td>1.409928</td>\n",
       "      <td>0.047065</td>\n",
       "      <td>10.460157</td>\n",
       "      <td>32.895324</td>\n",
       "      <td>0.001887</td>\n",
       "      <td>0.154386</td>\n",
       "      <td>0.169507</td>\n",
       "      <td>1.065668</td>\n",
       "      <td>0.807569</td>\n",
       "    </tr>\n",
       "    <tr>\n",
       "      <th>min</th>\n",
       "      <td>4.600000</td>\n",
       "      <td>0.120000</td>\n",
       "      <td>0.000000</td>\n",
       "      <td>0.900000</td>\n",
       "      <td>0.012000</td>\n",
       "      <td>1.000000</td>\n",
       "      <td>6.000000</td>\n",
       "      <td>0.990070</td>\n",
       "      <td>2.740000</td>\n",
       "      <td>0.330000</td>\n",
       "      <td>8.400000</td>\n",
       "      <td>3.000000</td>\n",
       "    </tr>\n",
       "    <tr>\n",
       "      <th>25%</th>\n",
       "      <td>7.100000</td>\n",
       "      <td>0.390000</td>\n",
       "      <td>0.090000</td>\n",
       "      <td>1.900000</td>\n",
       "      <td>0.070000</td>\n",
       "      <td>7.000000</td>\n",
       "      <td>22.000000</td>\n",
       "      <td>0.995600</td>\n",
       "      <td>3.210000</td>\n",
       "      <td>0.550000</td>\n",
       "      <td>9.500000</td>\n",
       "      <td>5.000000</td>\n",
       "    </tr>\n",
       "    <tr>\n",
       "      <th>50%</th>\n",
       "      <td>7.900000</td>\n",
       "      <td>0.520000</td>\n",
       "      <td>0.260000</td>\n",
       "      <td>2.200000</td>\n",
       "      <td>0.079000</td>\n",
       "      <td>14.000000</td>\n",
       "      <td>38.000000</td>\n",
       "      <td>0.996750</td>\n",
       "      <td>3.310000</td>\n",
       "      <td>0.620000</td>\n",
       "      <td>10.200000</td>\n",
       "      <td>6.000000</td>\n",
       "    </tr>\n",
       "    <tr>\n",
       "      <th>75%</th>\n",
       "      <td>9.200000</td>\n",
       "      <td>0.640000</td>\n",
       "      <td>0.420000</td>\n",
       "      <td>2.600000</td>\n",
       "      <td>0.090000</td>\n",
       "      <td>21.000000</td>\n",
       "      <td>62.000000</td>\n",
       "      <td>0.997835</td>\n",
       "      <td>3.400000</td>\n",
       "      <td>0.730000</td>\n",
       "      <td>11.100000</td>\n",
       "      <td>6.000000</td>\n",
       "    </tr>\n",
       "    <tr>\n",
       "      <th>max</th>\n",
       "      <td>15.900000</td>\n",
       "      <td>1.580000</td>\n",
       "      <td>1.000000</td>\n",
       "      <td>15.500000</td>\n",
       "      <td>0.611000</td>\n",
       "      <td>72.000000</td>\n",
       "      <td>289.000000</td>\n",
       "      <td>1.003690</td>\n",
       "      <td>4.010000</td>\n",
       "      <td>2.000000</td>\n",
       "      <td>14.900000</td>\n",
       "      <td>8.000000</td>\n",
       "    </tr>\n",
       "  </tbody>\n",
       "</table>\n",
       "</div>"
      ],
      "text/plain": [
       "       fixed acidity  volatile acidity  citric acid  residual sugar  \\\n",
       "count    1599.000000       1599.000000  1599.000000     1599.000000   \n",
       "mean        8.319637          0.527821     0.270976        2.538806   \n",
       "std         1.741096          0.179060     0.194801        1.409928   \n",
       "min         4.600000          0.120000     0.000000        0.900000   \n",
       "25%         7.100000          0.390000     0.090000        1.900000   \n",
       "50%         7.900000          0.520000     0.260000        2.200000   \n",
       "75%         9.200000          0.640000     0.420000        2.600000   \n",
       "max        15.900000          1.580000     1.000000       15.500000   \n",
       "\n",
       "         chlorides  free sulfur dioxide  total sulfur dioxide      density  \\\n",
       "count  1599.000000          1599.000000           1599.000000  1599.000000   \n",
       "mean      0.087467            15.874922             46.467792     0.996747   \n",
       "std       0.047065            10.460157             32.895324     0.001887   \n",
       "min       0.012000             1.000000              6.000000     0.990070   \n",
       "25%       0.070000             7.000000             22.000000     0.995600   \n",
       "50%       0.079000            14.000000             38.000000     0.996750   \n",
       "75%       0.090000            21.000000             62.000000     0.997835   \n",
       "max       0.611000            72.000000            289.000000     1.003690   \n",
       "\n",
       "                pH    sulphates      alcohol      quality  \n",
       "count  1599.000000  1599.000000  1599.000000  1599.000000  \n",
       "mean      3.311113     0.658149    10.422983     5.636023  \n",
       "std       0.154386     0.169507     1.065668     0.807569  \n",
       "min       2.740000     0.330000     8.400000     3.000000  \n",
       "25%       3.210000     0.550000     9.500000     5.000000  \n",
       "50%       3.310000     0.620000    10.200000     6.000000  \n",
       "75%       3.400000     0.730000    11.100000     6.000000  \n",
       "max       4.010000     2.000000    14.900000     8.000000  "
      ]
     },
     "metadata": {},
     "output_type": "display_data"
    }
   ],
   "source": [
    "display(HTML('<b>Table 1: Summary of all features</b>'))\n",
    "display(wineData.describe(include = 'all'))"
   ]
  },
  {
   "cell_type": "markdown",
   "metadata": {},
   "source": [
    "We then want to get a feel of the distribution of wine qualities in our dataset.\n",
    "\n",
    "We find that values of 5 and 6 are greatly dominant, with 1319 observations out of 1599."
   ]
  },
  {
   "cell_type": "markdown",
   "metadata": {},
   "source": [
    "We want to see if getting a qualitative interpretation of our target variable could be useful as a mean of analysing our data in a more meaningful way in the future."
   ]
  },
  {
   "cell_type": "code",
   "execution_count": 159,
   "metadata": {
    "scrolled": false
   },
   "outputs": [
    {
     "data": {
      "text/plain": [
       "5    681\n",
       "6    638\n",
       "7    199\n",
       "4     53\n",
       "8     18\n",
       "3     10\n",
       "Name: quality, dtype: int64"
      ]
     },
     "execution_count": 159,
     "metadata": {},
     "output_type": "execute_result"
    }
   ],
   "source": [
    "wineData['quality'].value_counts()"
   ]
  },
  {
   "cell_type": "code",
   "execution_count": 161,
   "metadata": {},
   "outputs": [
    {
     "data": {
      "text/plain": [
       "5    681\n",
       "6    638\n",
       "7    199\n",
       "4     53\n",
       "8     18\n",
       "3     10\n",
       "Name: quality, dtype: int64"
      ]
     },
     "execution_count": 161,
     "metadata": {},
     "output_type": "execute_result"
    }
   ],
   "source": [
    "DData = wineData.drop(columns= 'quality')\n",
    "target = wineData['quality']\n"
   ]
  },
  {
   "cell_type": "markdown",
   "metadata": {},
   "source": [
    "We can see that for 'qualitygrade' the distribution is extremely uneven, with 80% of our observations being on the 'Regular' level.\n",
    "\n",
    "We will keep this variable even though our final analysis is likely to be conducted using our former target variable (quality), since this variable has only 5 unique possible values it can be treated as a discrete variable for analyzing purposes.\n",
    "\n",
    "#### Normalize\n",
    "For the final step of our data pre-processing let's normalize all of ouor continuous variables since this is generally required to apply machine learning algorithms.\n",
    "\n",
    "We will make a copy in case we would like to work with our original variables in the future."
   ]
  },
  {
   "cell_type": "code",
   "execution_count": 162,
   "metadata": {},
   "outputs": [
    {
     "data": {
      "text/html": [
       "<div>\n",
       "<style scoped>\n",
       "    .dataframe tbody tr th:only-of-type {\n",
       "        vertical-align: middle;\n",
       "    }\n",
       "\n",
       "    .dataframe tbody tr th {\n",
       "        vertical-align: top;\n",
       "    }\n",
       "\n",
       "    .dataframe thead th {\n",
       "        text-align: right;\n",
       "    }\n",
       "</style>\n",
       "<table border=\"1\" class=\"dataframe\">\n",
       "  <thead>\n",
       "    <tr style=\"text-align: right;\">\n",
       "      <th></th>\n",
       "      <th>fixed acidity</th>\n",
       "      <th>volatile acidity</th>\n",
       "      <th>citric acid</th>\n",
       "      <th>residual sugar</th>\n",
       "      <th>chlorides</th>\n",
       "      <th>free sulfur dioxide</th>\n",
       "      <th>total sulfur dioxide</th>\n",
       "      <th>density</th>\n",
       "      <th>pH</th>\n",
       "      <th>sulphates</th>\n",
       "      <th>alcohol</th>\n",
       "    </tr>\n",
       "  </thead>\n",
       "  <tbody>\n",
       "    <tr>\n",
       "      <th>1166</th>\n",
       "      <td>0.486726</td>\n",
       "      <td>0.109589</td>\n",
       "      <td>0.46</td>\n",
       "      <td>0.061644</td>\n",
       "      <td>0.063439</td>\n",
       "      <td>0.056338</td>\n",
       "      <td>0.024735</td>\n",
       "      <td>0.538179</td>\n",
       "      <td>0.236220</td>\n",
       "      <td>0.275449</td>\n",
       "      <td>0.276923</td>\n",
       "    </tr>\n",
       "    <tr>\n",
       "      <th>353</th>\n",
       "      <td>0.469027</td>\n",
       "      <td>0.157534</td>\n",
       "      <td>0.38</td>\n",
       "      <td>0.041096</td>\n",
       "      <td>0.076795</td>\n",
       "      <td>0.422535</td>\n",
       "      <td>0.144876</td>\n",
       "      <td>0.491189</td>\n",
       "      <td>0.409449</td>\n",
       "      <td>0.293413</td>\n",
       "      <td>0.338462</td>\n",
       "    </tr>\n",
       "    <tr>\n",
       "      <th>1079</th>\n",
       "      <td>0.238938</td>\n",
       "      <td>0.184932</td>\n",
       "      <td>0.31</td>\n",
       "      <td>0.102740</td>\n",
       "      <td>0.103506</td>\n",
       "      <td>0.112676</td>\n",
       "      <td>0.141343</td>\n",
       "      <td>0.450073</td>\n",
       "      <td>0.527559</td>\n",
       "      <td>0.125749</td>\n",
       "      <td>0.153846</td>\n",
       "    </tr>\n",
       "    <tr>\n",
       "      <th>326</th>\n",
       "      <td>0.238938</td>\n",
       "      <td>0.541096</td>\n",
       "      <td>0.10</td>\n",
       "      <td>0.061644</td>\n",
       "      <td>0.103506</td>\n",
       "      <td>0.267606</td>\n",
       "      <td>0.176678</td>\n",
       "      <td>0.488253</td>\n",
       "      <td>0.480315</td>\n",
       "      <td>0.137725</td>\n",
       "      <td>0.123077</td>\n",
       "    </tr>\n",
       "    <tr>\n",
       "      <th>916</th>\n",
       "      <td>0.230088</td>\n",
       "      <td>0.332192</td>\n",
       "      <td>0.02</td>\n",
       "      <td>0.068493</td>\n",
       "      <td>0.140234</td>\n",
       "      <td>0.126761</td>\n",
       "      <td>0.088339</td>\n",
       "      <td>0.361968</td>\n",
       "      <td>0.566929</td>\n",
       "      <td>0.119760</td>\n",
       "      <td>0.523077</td>\n",
       "    </tr>\n",
       "  </tbody>\n",
       "</table>\n",
       "</div>"
      ],
      "text/plain": [
       "      fixed acidity  volatile acidity  citric acid  residual sugar  chlorides  \\\n",
       "1166       0.486726          0.109589         0.46        0.061644   0.063439   \n",
       "353        0.469027          0.157534         0.38        0.041096   0.076795   \n",
       "1079       0.238938          0.184932         0.31        0.102740   0.103506   \n",
       "326        0.238938          0.541096         0.10        0.061644   0.103506   \n",
       "916        0.230088          0.332192         0.02        0.068493   0.140234   \n",
       "\n",
       "      free sulfur dioxide  total sulfur dioxide   density        pH  \\\n",
       "1166             0.056338              0.024735  0.538179  0.236220   \n",
       "353              0.422535              0.144876  0.491189  0.409449   \n",
       "1079             0.112676              0.141343  0.450073  0.527559   \n",
       "326              0.267606              0.176678  0.488253  0.480315   \n",
       "916              0.126761              0.088339  0.361968  0.566929   \n",
       "\n",
       "      sulphates   alcohol  \n",
       "1166   0.275449  0.276923  \n",
       "353    0.293413  0.338462  \n",
       "1079   0.125749  0.153846  \n",
       "326    0.137725  0.123077  \n",
       "916    0.119760  0.523077  "
      ]
     },
     "execution_count": 162,
     "metadata": {},
     "output_type": "execute_result"
    }
   ],
   "source": [
    "from sklearn import preprocessing\n",
    "\n",
    "winecopy = DData.copy()\n",
    "wine_scaler = preprocessing.MinMaxScaler()\n",
    "wine_scaler.fit(DData)\n",
    "\n",
    "DData = wine_scaler.fit_transform(DData)\n",
    "pd.DataFrame(DData, columns=winecopy.columns).sample(5,random_state=999)"
   ]
  },
  {
   "cell_type": "markdown",
   "metadata": {},
   "source": []
  },
  {
   "cell_type": "code",
   "execution_count": 163,
   "metadata": {},
   "outputs": [
    {
     "data": {
      "text/plain": [
       "array(['alcohol', 'volatile acidity', 'sulphates', 'density',\n",
       "       'total sulfur dioxide'], dtype=object)"
      ]
     },
     "execution_count": 163,
     "metadata": {},
     "output_type": "execute_result"
    }
   ],
   "source": [
    "num_features = 5\n",
    "fs_fit_mutual_info = fs.SelectKBest(fs.mutual_info_classif, k=num_features)\n",
    "fs_fit_mutual_info.fit_transform(DData, target)\n",
    "fs_indices_mutual_info = np.argsort(fs_fit_mutual_info.scores_)[::-1][0:num_features]\n",
    "best_features_mutual_info = winecopy.columns[fs_indices_mutual_info].values\n",
    "best_features_mutual_info"
   ]
  },
  {
   "cell_type": "code",
   "execution_count": 164,
   "metadata": {},
   "outputs": [
    {
     "data": {
      "text/plain": [
       "array([0.18784787, 0.13104508, 0.12667206, 0.09356867, 0.09257016])"
      ]
     },
     "execution_count": 164,
     "metadata": {},
     "output_type": "execute_result"
    }
   ],
   "source": [
    "feature_importances_mutual_info = fs_fit_mutual_info.scores_[fs_indices_mutual_info]\n",
    "feature_importances_mutual_info"
   ]
  },
  {
   "cell_type": "code",
   "execution_count": 165,
   "metadata": {},
   "outputs": [
    {
     "data": {
      "text/plain": [
       "RendererRegistry.enable('notebook')"
      ]
     },
     "execution_count": 165,
     "metadata": {},
     "output_type": "execute_result"
    }
   ],
   "source": [
    "import altair as alt\n",
    "alt.renderers.enable('notebook')"
   ]
  },
  {
   "cell_type": "code",
   "execution_count": 166,
   "metadata": {},
   "outputs": [],
   "source": [
    "def plot_imp(best_features, scores, method_name, color):\n",
    "    \n",
    "    df = pd.DataFrame({'features': best_features, \n",
    "                       'importances': scores})\n",
    "    \n",
    "    chart = alt.Chart(df, \n",
    "                      width=500, \n",
    "                      title=method_name + ' Feature Importances'\n",
    "                     ).mark_bar(opacity=0.75, \n",
    "                                color=color).encode(\n",
    "        alt.X('features', title='Feature', sort=None, axis=alt.AxisConfig(labelAngle=45)),\n",
    "        alt.Y('importances', title='Importance')\n",
    "    )\n",
    "    \n",
    "    return chart\n"
   ]
  },
  {
   "cell_type": "code",
   "execution_count": 167,
   "metadata": {},
   "outputs": [
    {
     "data": {
      "application/javascript": [
       "var spec = {\"config\": {\"view\": {\"width\": 400, \"height\": 300}, \"mark\": {\"tooltip\": null}}, \"data\": {\"name\": \"data-78891881f3368495b1be1df7b5820b41\"}, \"mark\": {\"type\": \"bar\", \"color\": \"green\", \"opacity\": 0.75}, \"encoding\": {\"x\": {\"type\": \"nominal\", \"axis\": {\"labelAngle\": 45}, \"field\": \"features\", \"sort\": null, \"title\": \"Feature\"}, \"y\": {\"type\": \"quantitative\", \"field\": \"importances\", \"title\": \"Importance\"}}, \"title\": \"Mutual Information Feature Importances\", \"width\": 500, \"$schema\": \"https://vega.github.io/schema/vega-lite/v3.3.0.json\", \"datasets\": {\"data-78891881f3368495b1be1df7b5820b41\": [{\"features\": \"alcohol\", \"importances\": 0.18784787063300779}, {\"features\": \"volatile acidity\", \"importances\": 0.13104508058019526}, {\"features\": \"sulphates\", \"importances\": 0.12667206347124216}, {\"features\": \"density\", \"importances\": 0.09356867489555798}, {\"features\": \"total sulfur dioxide\", \"importances\": 0.09257016295411624}]}};\n",
       "var opt = {};\n",
       "var type = \"vega-lite\";\n",
       "var id = \"6c920926-08a5-485f-aa17-157f8e5220c0\";\n",
       "\n",
       "var output_area = this;\n",
       "\n",
       "require([\"nbextensions/jupyter-vega/index\"], function(vega) {\n",
       "  var target = document.createElement(\"div\");\n",
       "  target.id = id;\n",
       "  target.className = \"vega-embed\";\n",
       "\n",
       "  var style = document.createElement(\"style\");\n",
       "  style.textContent = [\n",
       "    \".vega-embed .error p {\",\n",
       "    \"  color: firebrick;\",\n",
       "    \"  font-size: 14px;\",\n",
       "    \"}\",\n",
       "  ].join(\"\\\\n\");\n",
       "\n",
       "  // element is a jQuery wrapped DOM element inside the output area\n",
       "  // see http://ipython.readthedocs.io/en/stable/api/generated/\\\n",
       "  // IPython.display.html#IPython.display.Javascript.__init__\n",
       "  element[0].appendChild(target);\n",
       "  element[0].appendChild(style);\n",
       "\n",
       "  vega.render(\"#\" + id, spec, type, opt, output_area);\n",
       "}, function (err) {\n",
       "  if (err.requireType !== \"scripterror\") {\n",
       "    throw(err);\n",
       "  }\n",
       "});\n"
      ],
      "text/plain": [
       "<vega.vegalite.VegaLite at 0x1fad3431780>"
      ]
     },
     "metadata": {
      "jupyter-vega": "#6c920926-08a5-485f-aa17-157f8e5220c0"
     },
     "output_type": "display_data"
    },
    {
     "data": {
      "text/plain": []
     },
     "execution_count": 167,
     "metadata": {},
     "output_type": "execute_result"
    },
    {
     "data": {
      "image/png": "[encoded data removed]"
     },
     "metadata": {
      "jupyter-vega": "#6c920926-08a5-485f-aa17-157f8e5220c0"
     },
     "output_type": "display_data"
    }
   ],
   "source": [
    "plot_imp(best_features_mutual_info, feature_importances_mutual_info, 'Mutual Information', 'green')"
   ]
  },
  {
   "cell_type": "markdown",
   "metadata": {},
   "source": [
    "lalana"
   ]
  },
  {
   "cell_type": "code",
   "execution_count": 168,
   "metadata": {},
   "outputs": [],
   "source": [
    "model_rfi = RandomForestClassifier(n_estimators=100)\n",
    "model_rfi.fit(DData, target)\n",
    "fs_indices_rfi = np.argsort(model_rfi.feature_importances_)[::-1][0:num_features]"
   ]
  },
  {
   "cell_type": "code",
   "execution_count": 169,
   "metadata": {},
   "outputs": [
    {
     "data": {
      "text/plain": [
       "array(['alcohol', 'sulphates', 'volatile acidity', 'total sulfur dioxide',\n",
       "       'density'], dtype=object)"
      ]
     },
     "execution_count": 169,
     "metadata": {},
     "output_type": "execute_result"
    }
   ],
   "source": [
    "best_features_rfi = winecopy.columns[fs_indices_rfi].values\n",
    "best_features_rfi"
   ]
  },
  {
   "cell_type": "code",
   "execution_count": 170,
   "metadata": {},
   "outputs": [
    {
     "data": {
      "text/plain": [
       "array([0.14367908, 0.10944668, 0.10385558, 0.10234471, 0.09576805])"
      ]
     },
     "execution_count": 170,
     "metadata": {},
     "output_type": "execute_result"
    }
   ],
   "source": [
    "feature_importances_rfi = model_rfi.feature_importances_[fs_indices_rfi]\n",
    "feature_importances_rfi"
   ]
  },
  {
   "cell_type": "code",
   "execution_count": 171,
   "metadata": {},
   "outputs": [
    {
     "data": {
      "application/javascript": [
       "var spec = {\"config\": {\"view\": {\"width\": 400, \"height\": 300}, \"mark\": {\"tooltip\": null}}, \"data\": {\"name\": \"data-6a58e90bd7f1c6564d44efabe9592979\"}, \"mark\": {\"type\": \"bar\", \"color\": \"blue\", \"opacity\": 0.75}, \"encoding\": {\"x\": {\"type\": \"nominal\", \"axis\": {\"labelAngle\": 45}, \"field\": \"features\", \"sort\": null, \"title\": \"Feature\"}, \"y\": {\"type\": \"quantitative\", \"field\": \"importances\", \"title\": \"Importance\"}}, \"title\": \"Random Forest Feature Importances\", \"width\": 500, \"$schema\": \"https://vega.github.io/schema/vega-lite/v3.3.0.json\", \"datasets\": {\"data-6a58e90bd7f1c6564d44efabe9592979\": [{\"features\": \"alcohol\", \"importances\": 0.14367908306287655}, {\"features\": \"sulphates\", \"importances\": 0.10944667784817408}, {\"features\": \"volatile acidity\", \"importances\": 0.10385557592285638}, {\"features\": \"total sulfur dioxide\", \"importances\": 0.10234470552562228}, {\"features\": \"density\", \"importances\": 0.09576805479966248}]}};\n",
       "var opt = {};\n",
       "var type = \"vega-lite\";\n",
       "var id = \"031acbe4-c50f-4fea-a686-7f23f695c83c\";\n",
       "\n",
       "var output_area = this;\n",
       "\n",
       "require([\"nbextensions/jupyter-vega/index\"], function(vega) {\n",
       "  var target = document.createElement(\"div\");\n",
       "  target.id = id;\n",
       "  target.className = \"vega-embed\";\n",
       "\n",
       "  var style = document.createElement(\"style\");\n",
       "  style.textContent = [\n",
       "    \".vega-embed .error p {\",\n",
       "    \"  color: firebrick;\",\n",
       "    \"  font-size: 14px;\",\n",
       "    \"}\",\n",
       "  ].join(\"\\\\n\");\n",
       "\n",
       "  // element is a jQuery wrapped DOM element inside the output area\n",
       "  // see http://ipython.readthedocs.io/en/stable/api/generated/\\\n",
       "  // IPython.display.html#IPython.display.Javascript.__init__\n",
       "  element[0].appendChild(target);\n",
       "  element[0].appendChild(style);\n",
       "\n",
       "  vega.render(\"#\" + id, spec, type, opt, output_area);\n",
       "}, function (err) {\n",
       "  if (err.requireType !== \"scripterror\") {\n",
       "    throw(err);\n",
       "  }\n",
       "});\n"
      ],
      "text/plain": [
       "<vega.vegalite.VegaLite at 0x1fad4896b00>"
      ]
     },
     "metadata": {
      "jupyter-vega": "#031acbe4-c50f-4fea-a686-7f23f695c83c"
     },
     "output_type": "display_data"
    },
    {
     "data": {
      "text/plain": []
     },
     "execution_count": 171,
     "metadata": {},
     "output_type": "execute_result"
    },
    {
     "data": {
      "image/png": "[encoded data removed]"
     },
     "metadata": {
      "jupyter-vega": "#031acbe4-c50f-4fea-a686-7f23f695c83c"
     },
     "output_type": "display_data"
    }
   ],
   "source": [
    "plot_imp(best_features_rfi, feature_importances_rfi, 'Random Forest', 'blue')"
   ]
  },
  {
   "cell_type": "markdown",
   "metadata": {},
   "source": [
    "# Data Splitting"
   ]
  },
  {
   "cell_type": "code",
   "execution_count": 56,
   "metadata": {},
   "outputs": [
    {
     "name": "stdout",
     "output_type": "stream",
     "text": [
      "(1199, 11)\n",
      "(400, 11)\n"
     ]
    }
   ],
   "source": [
    "from sklearn.model_selection import train_test_split\n",
    "\n",
    "Data_train, Data_test, \\\n",
    "target_train, target_test = train_test_split(DData, target, \n",
    "                                                    test_size = 0.25, random_state=999,\n",
    "                                                    stratify = target)\n",
    "\n",
    "print(Data_train.shape)\n",
    "print(Data_test.shape)"
   ]
  },
  {
   "cell_type": "code",
   "execution_count": 58,
   "metadata": {},
   "outputs": [],
   "source": [
    "from sklearn.model_selection import StratifiedKFold, GridSearchCV\n",
    "cv_method=RepeatedStratifiedKFold(n_splits=5, \n",
    "                                    n_repeats=2, \n",
    "                                    random_state=999)"
   ]
  },
  {
   "cell_type": "code",
   "execution_count": 75,
   "metadata": {},
   "outputs": [
    {
     "name": "stdout",
     "output_type": "stream",
     "text": [
      "(1199, 5)\n",
      "(400, 5)\n"
     ]
    }
   ],
   "source": [
    "onlytop5 = DData[:, (1,6,7,8,10)]\n",
    "\n",
    "Data5_train, Data5_test, \\\n",
    "target5_train, target5_test = train_test_split(onlytop5, target, \n",
    "                                                    test_size = 0.25, random_state=999,\n",
    "                                                    stratify = target)\n",
    "\n",
    "print(Data5_train.shape)\n",
    "print(Data5_test.shape)"
   ]
  },
  {
   "cell_type": "code",
   "execution_count": 97,
   "metadata": {},
   "outputs": [],
   "source": [
    "params_KNN = {'n_neighbors': [1, 5, 10, 20, 30, 40, 100], \n",
    "              'p': [1, 2, 5]}\n",
    "\n",
    "from sklearn.model_selection import GridSearchCV\n",
    "\n",
    "gs_KNN = GridSearchCV(estimator=KNeighborsClassifier(), \n",
    "                      param_grid=params_KNN, \n",
    "                      cv=cv_method,\n",
    "                      verbose=1,\n",
    "                      scoring='accuracy', \n",
    "                      return_train_score=True)"
   ]
  },
  {
   "cell_type": "code",
   "execution_count": 98,
   "metadata": {},
   "outputs": [
    {
     "name": "stdout",
     "output_type": "stream",
     "text": [
      "Fitting 15 folds for each of 21 candidates, totalling 315 fits\n"
     ]
    },
    {
     "name": "stderr",
     "output_type": "stream",
     "text": [
      "[Parallel(n_jobs=1)]: Using backend SequentialBackend with 1 concurrent workers.\n",
      "[Parallel(n_jobs=1)]: Done 315 out of 315 | elapsed:   21.3s finished\n"
     ]
    },
    {
     "data": {
      "text/plain": [
       "GridSearchCV(cv=<sklearn.model_selection._split.RepeatedStratifiedKFold object at 0x000001FAD36DF7B8>,\n",
       "       error_score='raise-deprecating',\n",
       "       estimator=KNeighborsClassifier(algorithm='auto', leaf_size=30, metric='minkowski',\n",
       "           metric_params=None, n_jobs=None, n_neighbors=5, p=2,\n",
       "           weights='uniform'),\n",
       "       fit_params=None, iid='warn', n_jobs=None,\n",
       "       param_grid={'n_neighbors': [1, 5, 10, 20, 30, 40, 100], 'p': [1, 2, 5]},\n",
       "       pre_dispatch='2*n_jobs', refit=True, return_train_score=True,\n",
       "       scoring='accuracy', verbose=1)"
      ]
     },
     "execution_count": 98,
     "metadata": {},
     "output_type": "execute_result"
    }
   ],
   "source": [
    "gs_KNN.fit(Data5_train, target5_train)"
   ]
  },
  {
   "cell_type": "code",
   "execution_count": 99,
   "metadata": {},
   "outputs": [
    {
     "data": {
      "text/plain": [
       "{'n_neighbors': 1, 'p': 1}"
      ]
     },
     "execution_count": 99,
     "metadata": {},
     "output_type": "execute_result"
    }
   ],
   "source": [
    "gs_KNN.best_params_"
   ]
  },
  {
   "cell_type": "code",
   "execution_count": 100,
   "metadata": {},
   "outputs": [
    {
     "data": {
      "text/plain": [
       "0.5907700861829303"
      ]
     },
     "execution_count": 100,
     "metadata": {},
     "output_type": "execute_result"
    }
   ],
   "source": [
    "gs_KNN.best_score_"
   ]
  },
  {
   "cell_type": "code",
   "execution_count": 101,
   "metadata": {},
   "outputs": [
    {
     "data": {
      "text/plain": [
       "array([0.59077009, 0.588268  , 0.58965805, 0.54740061, 0.54934668,\n",
       "       0.55323881, 0.5618571 , 0.56157909, 0.57019739, 0.58493189,\n",
       "       0.57686961, 0.57770364, 0.57881568, 0.58215179, 0.58270781,\n",
       "       0.58632193, 0.58103976, 0.5852099 , 0.57798165, 0.57798165,\n",
       "       0.58131776])"
      ]
     },
     "execution_count": 101,
     "metadata": {},
     "output_type": "execute_result"
    }
   ],
   "source": [
    "gs_KNN.cv_results_['mean_test_score']"
   ]
  },
  {
   "cell_type": "code",
   "execution_count": 105,
   "metadata": {},
   "outputs": [
    {
     "data": {
      "text/html": [
       "<div>\n",
       "<style scoped>\n",
       "    .dataframe tbody tr th:only-of-type {\n",
       "        vertical-align: middle;\n",
       "    }\n",
       "\n",
       "    .dataframe tbody tr th {\n",
       "        vertical-align: top;\n",
       "    }\n",
       "\n",
       "    .dataframe thead th {\n",
       "        text-align: right;\n",
       "    }\n",
       "</style>\n",
       "<table border=\"1\" class=\"dataframe\">\n",
       "  <thead>\n",
       "    <tr style=\"text-align: right;\">\n",
       "      <th></th>\n",
       "      <th>n_neighbors</th>\n",
       "      <th>p</th>\n",
       "      <th>test_score</th>\n",
       "      <th>metric</th>\n",
       "    </tr>\n",
       "  </thead>\n",
       "  <tbody>\n",
       "    <tr>\n",
       "      <th>0</th>\n",
       "      <td>1</td>\n",
       "      <td>1</td>\n",
       "      <td>0.590770</td>\n",
       "      <td>Manhattan</td>\n",
       "    </tr>\n",
       "    <tr>\n",
       "      <th>1</th>\n",
       "      <td>1</td>\n",
       "      <td>2</td>\n",
       "      <td>0.588268</td>\n",
       "      <td>Euclidean</td>\n",
       "    </tr>\n",
       "    <tr>\n",
       "      <th>2</th>\n",
       "      <td>1</td>\n",
       "      <td>5</td>\n",
       "      <td>0.589658</td>\n",
       "      <td>Minkowski</td>\n",
       "    </tr>\n",
       "    <tr>\n",
       "      <th>3</th>\n",
       "      <td>5</td>\n",
       "      <td>1</td>\n",
       "      <td>0.547401</td>\n",
       "      <td>Manhattan</td>\n",
       "    </tr>\n",
       "    <tr>\n",
       "      <th>4</th>\n",
       "      <td>5</td>\n",
       "      <td>2</td>\n",
       "      <td>0.549347</td>\n",
       "      <td>Euclidean</td>\n",
       "    </tr>\n",
       "    <tr>\n",
       "      <th>5</th>\n",
       "      <td>5</td>\n",
       "      <td>5</td>\n",
       "      <td>0.553239</td>\n",
       "      <td>Minkowski</td>\n",
       "    </tr>\n",
       "    <tr>\n",
       "      <th>6</th>\n",
       "      <td>10</td>\n",
       "      <td>1</td>\n",
       "      <td>0.561857</td>\n",
       "      <td>Manhattan</td>\n",
       "    </tr>\n",
       "    <tr>\n",
       "      <th>7</th>\n",
       "      <td>10</td>\n",
       "      <td>2</td>\n",
       "      <td>0.561579</td>\n",
       "      <td>Euclidean</td>\n",
       "    </tr>\n",
       "    <tr>\n",
       "      <th>8</th>\n",
       "      <td>10</td>\n",
       "      <td>5</td>\n",
       "      <td>0.570197</td>\n",
       "      <td>Minkowski</td>\n",
       "    </tr>\n",
       "    <tr>\n",
       "      <th>9</th>\n",
       "      <td>20</td>\n",
       "      <td>1</td>\n",
       "      <td>0.584932</td>\n",
       "      <td>Manhattan</td>\n",
       "    </tr>\n",
       "    <tr>\n",
       "      <th>10</th>\n",
       "      <td>20</td>\n",
       "      <td>2</td>\n",
       "      <td>0.576870</td>\n",
       "      <td>Euclidean</td>\n",
       "    </tr>\n",
       "    <tr>\n",
       "      <th>11</th>\n",
       "      <td>20</td>\n",
       "      <td>5</td>\n",
       "      <td>0.577704</td>\n",
       "      <td>Minkowski</td>\n",
       "    </tr>\n",
       "    <tr>\n",
       "      <th>12</th>\n",
       "      <td>30</td>\n",
       "      <td>1</td>\n",
       "      <td>0.578816</td>\n",
       "      <td>Manhattan</td>\n",
       "    </tr>\n",
       "    <tr>\n",
       "      <th>13</th>\n",
       "      <td>30</td>\n",
       "      <td>2</td>\n",
       "      <td>0.582152</td>\n",
       "      <td>Euclidean</td>\n",
       "    </tr>\n",
       "    <tr>\n",
       "      <th>14</th>\n",
       "      <td>30</td>\n",
       "      <td>5</td>\n",
       "      <td>0.582708</td>\n",
       "      <td>Minkowski</td>\n",
       "    </tr>\n",
       "    <tr>\n",
       "      <th>15</th>\n",
       "      <td>40</td>\n",
       "      <td>1</td>\n",
       "      <td>0.586322</td>\n",
       "      <td>Manhattan</td>\n",
       "    </tr>\n",
       "    <tr>\n",
       "      <th>16</th>\n",
       "      <td>40</td>\n",
       "      <td>2</td>\n",
       "      <td>0.581040</td>\n",
       "      <td>Euclidean</td>\n",
       "    </tr>\n",
       "    <tr>\n",
       "      <th>17</th>\n",
       "      <td>40</td>\n",
       "      <td>5</td>\n",
       "      <td>0.585210</td>\n",
       "      <td>Minkowski</td>\n",
       "    </tr>\n",
       "    <tr>\n",
       "      <th>18</th>\n",
       "      <td>100</td>\n",
       "      <td>1</td>\n",
       "      <td>0.577982</td>\n",
       "      <td>Manhattan</td>\n",
       "    </tr>\n",
       "    <tr>\n",
       "      <th>19</th>\n",
       "      <td>100</td>\n",
       "      <td>2</td>\n",
       "      <td>0.577982</td>\n",
       "      <td>Euclidean</td>\n",
       "    </tr>\n",
       "    <tr>\n",
       "      <th>20</th>\n",
       "      <td>100</td>\n",
       "      <td>5</td>\n",
       "      <td>0.581318</td>\n",
       "      <td>Minkowski</td>\n",
       "    </tr>\n",
       "  </tbody>\n",
       "</table>\n",
       "</div>"
      ],
      "text/plain": [
       "    n_neighbors  p  test_score     metric\n",
       "0             1  1    0.590770  Manhattan\n",
       "1             1  2    0.588268  Euclidean\n",
       "2             1  5    0.589658  Minkowski\n",
       "3             5  1    0.547401  Manhattan\n",
       "4             5  2    0.549347  Euclidean\n",
       "5             5  5    0.553239  Minkowski\n",
       "6            10  1    0.561857  Manhattan\n",
       "7            10  2    0.561579  Euclidean\n",
       "8            10  5    0.570197  Minkowski\n",
       "9            20  1    0.584932  Manhattan\n",
       "10           20  2    0.576870  Euclidean\n",
       "11           20  5    0.577704  Minkowski\n",
       "12           30  1    0.578816  Manhattan\n",
       "13           30  2    0.582152  Euclidean\n",
       "14           30  5    0.582708  Minkowski\n",
       "15           40  1    0.586322  Manhattan\n",
       "16           40  2    0.581040  Euclidean\n",
       "17           40  5    0.585210  Minkowski\n",
       "18          100  1    0.577982  Manhattan\n",
       "19          100  2    0.577982  Euclidean\n",
       "20          100  5    0.581318  Minkowski"
      ]
     },
     "execution_count": 105,
     "metadata": {},
     "output_type": "execute_result"
    }
   ],
   "source": [
    "results_KNN = pd.DataFrame(gs_KNN.cv_results_['params'])\n",
    "results_KNN['test_score'] = gs_KNN.cv_results_['mean_test_score']\n",
    "results_KNN['metric'] = results_KNN['p'].replace([1,2,5], [\"Manhattan\", \"Euclidean\", \"Minkowski\"])\n",
    "results_KNN"
   ]
  },
  {
   "cell_type": "code",
   "execution_count": 106,
   "metadata": {
    "scrolled": true
   },
   "outputs": [
    {
     "data": {
      "application/javascript": [
       "var spec = {\"config\": {\"view\": {\"width\": 400, \"height\": 300}, \"mark\": {\"tooltip\": null}}, \"data\": {\"name\": \"data-6f9944dee018bb6865f646af43e9a605\"}, \"mark\": {\"type\": \"line\", \"point\": true}, \"encoding\": {\"color\": {\"type\": \"nominal\", \"field\": \"metric\"}, \"x\": {\"type\": \"quantitative\", \"field\": \"n_neighbors\", \"title\": \"Number of Neighbors\"}, \"y\": {\"type\": \"quantitative\", \"field\": \"test_score\", \"scale\": {\"zero\": false}, \"title\": \"Mean CV Score\"}}, \"title\": \"KNN Performance Comparison\", \"$schema\": \"https://vega.github.io/schema/vega-lite/v3.3.0.json\", \"datasets\": {\"data-6f9944dee018bb6865f646af43e9a605\": [{\"n_neighbors\": 1, \"p\": 1, \"test_score\": 0.5907700861829303, \"metric\": \"Manhattan\"}, {\"n_neighbors\": 1, \"p\": 2, \"test_score\": 0.5882680011120378, \"metric\": \"Euclidean\"}, {\"n_neighbors\": 1, \"p\": 5, \"test_score\": 0.5896580483736447, \"metric\": \"Minkowski\"}, {\"n_neighbors\": 5, \"p\": 1, \"test_score\": 0.5474006116207951, \"metric\": \"Manhattan\"}, {\"n_neighbors\": 5, \"p\": 2, \"test_score\": 0.5493466777870447, \"metric\": \"Euclidean\"}, {\"n_neighbors\": 5, \"p\": 5, \"test_score\": 0.553238810119544, \"metric\": \"Minkowski\"}, {\"n_neighbors\": 10, \"p\": 1, \"test_score\": 0.5618571031415068, \"metric\": \"Manhattan\"}, {\"n_neighbors\": 10, \"p\": 2, \"test_score\": 0.5615790936891855, \"metric\": \"Euclidean\"}, {\"n_neighbors\": 10, \"p\": 5, \"test_score\": 0.5701973867111482, \"metric\": \"Minkowski\"}, {\"n_neighbors\": 20, \"p\": 1, \"test_score\": 0.5849318876841813, \"metric\": \"Manhattan\"}, {\"n_neighbors\": 20, \"p\": 2, \"test_score\": 0.5768696135668613, \"metric\": \"Euclidean\"}, {\"n_neighbors\": 20, \"p\": 5, \"test_score\": 0.5777036419238254, \"metric\": \"Minkowski\"}, {\"n_neighbors\": 30, \"p\": 1, \"test_score\": 0.5788156797331109, \"metric\": \"Manhattan\"}, {\"n_neighbors\": 30, \"p\": 2, \"test_score\": 0.5821517931609674, \"metric\": \"Euclidean\"}, {\"n_neighbors\": 30, \"p\": 5, \"test_score\": 0.5827078120656102, \"metric\": \"Minkowski\"}, {\"n_neighbors\": 40, \"p\": 1, \"test_score\": 0.5863219349457881, \"metric\": \"Manhattan\"}, {\"n_neighbors\": 40, \"p\": 2, \"test_score\": 0.581039755351682, \"metric\": \"Euclidean\"}, {\"n_neighbors\": 40, \"p\": 5, \"test_score\": 0.5852098971365026, \"metric\": \"Minkowski\"}, {\"n_neighbors\": 100, \"p\": 1, \"test_score\": 0.5779816513761468, \"metric\": \"Manhattan\"}, {\"n_neighbors\": 100, \"p\": 2, \"test_score\": 0.5779816513761468, \"metric\": \"Euclidean\"}, {\"n_neighbors\": 100, \"p\": 5, \"test_score\": 0.5813177648040033, \"metric\": \"Minkowski\"}]}};\n",
       "var opt = {};\n",
       "var type = \"vega-lite\";\n",
       "var id = \"8ef63b4a-d6ca-4717-b9f2-ee79bad6e4fd\";\n",
       "\n",
       "var output_area = this;\n",
       "\n",
       "require([\"nbextensions/jupyter-vega/index\"], function(vega) {\n",
       "  var target = document.createElement(\"div\");\n",
       "  target.id = id;\n",
       "  target.className = \"vega-embed\";\n",
       "\n",
       "  var style = document.createElement(\"style\");\n",
       "  style.textContent = [\n",
       "    \".vega-embed .error p {\",\n",
       "    \"  color: firebrick;\",\n",
       "    \"  font-size: 14px;\",\n",
       "    \"}\",\n",
       "  ].join(\"\\\\n\");\n",
       "\n",
       "  // element is a jQuery wrapped DOM element inside the output area\n",
       "  // see http://ipython.readthedocs.io/en/stable/api/generated/\\\n",
       "  // IPython.display.html#IPython.display.Javascript.__init__\n",
       "  element[0].appendChild(target);\n",
       "  element[0].appendChild(style);\n",
       "\n",
       "  vega.render(\"#\" + id, spec, type, opt, output_area);\n",
       "}, function (err) {\n",
       "  if (err.requireType !== \"scripterror\") {\n",
       "    throw(err);\n",
       "  }\n",
       "});\n"
      ],
      "text/plain": [
       "<vega.vegalite.VegaLite at 0x1fad094f780>"
      ]
     },
     "metadata": {
      "jupyter-vega": "#8ef63b4a-d6ca-4717-b9f2-ee79bad6e4fd"
     },
     "output_type": "display_data"
    },
    {
     "data": {
      "text/plain": []
     },
     "execution_count": 106,
     "metadata": {},
     "output_type": "execute_result"
    },
    {
     "data": {
      "image/png": "[encoded data removed]"
     },
     "metadata": {
      "jupyter-vega": "#8ef63b4a-d6ca-4717-b9f2-ee79bad6e4fd"
     },
     "output_type": "display_data"
    }
   ],
   "source": [
    "import altair as alt\n",
    "\n",
    "alt.Chart(results_KNN, \n",
    "          title='KNN Performance Comparison'\n",
    "         ).mark_line(point=True).encode(\n",
    "    alt.X('n_neighbors', title='Number of Neighbors'),\n",
    "    alt.Y('test_score', title='Mean CV Score', scale=alt.Scale(zero=False)),\n",
    "    color='metric'\n",
    ")"
   ]
  },
  {
   "cell_type": "markdown",
   "metadata": {},
   "source": []
  },
  {
   "cell_type": "markdown",
   "metadata": {},
   "source": [
    "## Naive Bayes"
   ]
  },
  {
   "cell_type": "code",
   "execution_count": 107,
   "metadata": {},
   "outputs": [
    {
     "name": "stdout",
     "output_type": "stream",
     "text": [
      "Fitting 15 folds for each of 100 candidates, totalling 1500 fits\n"
     ]
    },
    {
     "name": "stderr",
     "output_type": "stream",
     "text": [
      "[Parallel(n_jobs=1)]: Using backend SequentialBackend with 1 concurrent workers.\n",
      "[Parallel(n_jobs=1)]: Done 1500 out of 1500 | elapsed:    4.4s finished\n"
     ]
    }
   ],
   "source": [
    "from sklearn.naive_bayes import GaussianNB\n",
    "from sklearn.preprocessing import PowerTransformer\n",
    "\n",
    "nb_classifier = GaussianNB()\n",
    "\n",
    "params_NB = {'var_smoothing': np.logspace(0,-9, num=100)}\n",
    "\n",
    "gs_NB = GridSearchCV(estimator=nb_classifier, \n",
    "                     param_grid=params_NB, \n",
    "                     cv=cv_method,\n",
    "                     verbose=1, \n",
    "                     scoring='accuracy')\n",
    "\n",
    "Data_transformed = PowerTransformer().fit_transform(Data5_train)\n",
    "\n",
    "gs_NB.fit(Data_transformed, target5_train);"
   ]
  },
  {
   "cell_type": "code",
   "execution_count": 108,
   "metadata": {},
   "outputs": [
    {
     "data": {
      "text/plain": [
       "{'var_smoothing': 0.15199110829529336}"
      ]
     },
     "execution_count": 108,
     "metadata": {},
     "output_type": "execute_result"
    }
   ],
   "source": [
    "gs_NB.best_params_"
   ]
  },
  {
   "cell_type": "code",
   "execution_count": 109,
   "metadata": {},
   "outputs": [
    {
     "data": {
      "text/plain": [
       "0.5743675284959688"
      ]
     },
     "execution_count": 109,
     "metadata": {},
     "output_type": "execute_result"
    }
   ],
   "source": [
    "gs_NB.best_score_"
   ]
  },
  {
   "cell_type": "code",
   "execution_count": 110,
   "metadata": {},
   "outputs": [],
   "source": [
    "results_NB = pd.DataFrame(gs_NB.cv_results_['params'])\n",
    "results_NB['test_score'] = gs_NB.cv_results_['mean_test_score']"
   ]
  },
  {
   "cell_type": "code",
   "execution_count": 111,
   "metadata": {},
   "outputs": [
    {
     "data": {
      "application/javascript": [
       "var spec = {\"config\": {\"view\": {\"width\": 400, \"height\": 300}, \"mark\": {\"tooltip\": null}}, \"data\": {\"name\": \"data-aa474109a6947626381968250a9a9abb\"}, \"mark\": {\"type\": \"line\", \"point\": true}, \"encoding\": {\"x\": {\"type\": \"quantitative\", \"field\": \"var_smoothing\", \"title\": \"Var. Smoothing\"}, \"y\": {\"type\": \"quantitative\", \"field\": \"test_score\", \"scale\": {\"zero\": false}, \"title\": \"Mean CV Score\"}}, \"selection\": {\"selector001\": {\"type\": \"interval\", \"bind\": \"scales\", \"encodings\": [\"x\", \"y\"]}}, \"title\": \"NB Performance Comparison\", \"$schema\": \"https://vega.github.io/schema/vega-lite/v3.3.0.json\", \"datasets\": {\"data-aa474109a6947626381968250a9a9abb\": [{\"var_smoothing\": 1.0, \"test_score\": 0.5679733110925771}, {\"var_smoothing\": 0.8111308307896871, \"test_score\": 0.5732554906866834}, {\"var_smoothing\": 0.657933224657568, \"test_score\": 0.571587433972755}, {\"var_smoothing\": 0.533669923120631, \"test_score\": 0.5713094245204337}, {\"var_smoothing\": 0.43287612810830584, \"test_score\": 0.5699193772588268}, {\"var_smoothing\": 0.3511191734215131, \"test_score\": 0.5688073394495413}, {\"var_smoothing\": 0.2848035868435802, \"test_score\": 0.5724214623297192}, {\"var_smoothing\": 0.23101297000831597, \"test_score\": 0.5724214623297192}, {\"var_smoothing\": 0.1873817422860384, \"test_score\": 0.5724214623297192}, {\"var_smoothing\": 0.15199110829529336, \"test_score\": 0.5743675284959688}, {\"var_smoothing\": 0.12328467394420659, \"test_score\": 0.5726994717820406}, {\"var_smoothing\": 0.1, \"test_score\": 0.5710314150681123}, {\"var_smoothing\": 0.08111308307896872, \"test_score\": 0.5699193772588268}, {\"var_smoothing\": 0.0657933224657568, \"test_score\": 0.567139282735613}, {\"var_smoothing\": 0.0533669923120631, \"test_score\": 0.5660272449263275}, {\"var_smoothing\": 0.04328761281083057, \"test_score\": 0.5674172921879344}, {\"var_smoothing\": 0.03511191734215131, \"test_score\": 0.5674172921879344}, {\"var_smoothing\": 0.02848035868435802, \"test_score\": 0.5674172921879344}, {\"var_smoothing\": 0.02310129700083159, \"test_score\": 0.5682513205448986}, {\"var_smoothing\": 0.01873817422860384, \"test_score\": 0.56852932999722}, {\"var_smoothing\": 0.01519911082952933, \"test_score\": 0.5688073394495413}, {\"var_smoothing\": 0.012328467394420659, \"test_score\": 0.56852932999722}, {\"var_smoothing\": 0.01, \"test_score\": 0.5676953016402557}, {\"var_smoothing\": 0.008111308307896872, \"test_score\": 0.5679733110925771}, {\"var_smoothing\": 0.006579332246575682, \"test_score\": 0.5679733110925771}, {\"var_smoothing\": 0.005336699231206307, \"test_score\": 0.567139282735613}, {\"var_smoothing\": 0.004328761281083057, \"test_score\": 0.5668612732832916}, {\"var_smoothing\": 0.003511191734215131, \"test_score\": 0.5665832638309702}, {\"var_smoothing\": 0.002848035868435802, \"test_score\": 0.5668612732832916}, {\"var_smoothing\": 0.0023101297000831605, \"test_score\": 0.567139282735613}, {\"var_smoothing\": 0.001873817422860383, \"test_score\": 0.5668612732832916}, {\"var_smoothing\": 0.0015199110829529332, \"test_score\": 0.5668612732832916}, {\"var_smoothing\": 0.0012328467394420659, \"test_score\": 0.567139282735613}, {\"var_smoothing\": 0.001, \"test_score\": 0.567139282735613}, {\"var_smoothing\": 0.0008111308307896872, \"test_score\": 0.567139282735613}, {\"var_smoothing\": 0.0006579332246575676, \"test_score\": 0.567139282735613}, {\"var_smoothing\": 0.0005336699231206307, \"test_score\": 0.567139282735613}, {\"var_smoothing\": 0.0004328761281083057, \"test_score\": 0.567139282735613}, {\"var_smoothing\": 0.0003511191734215131, \"test_score\": 0.567139282735613}, {\"var_smoothing\": 0.0002848035868435802, \"test_score\": 0.567139282735613}, {\"var_smoothing\": 0.0002310129700083158, \"test_score\": 0.567139282735613}, {\"var_smoothing\": 0.0001873817422860383, \"test_score\": 0.567139282735613}, {\"var_smoothing\": 0.0001519911082952933, \"test_score\": 0.567139282735613}, {\"var_smoothing\": 0.0001232846739442066, \"test_score\": 0.567139282735613}, {\"var_smoothing\": 0.0001, \"test_score\": 0.567139282735613}, {\"var_smoothing\": 8.111308307896872e-05, \"test_score\": 0.567139282735613}, {\"var_smoothing\": 6.579332246575683e-05, \"test_score\": 0.567139282735613}, {\"var_smoothing\": 5.3366992312063123e-05, \"test_score\": 0.567139282735613}, {\"var_smoothing\": 4.328761281083062e-05, \"test_score\": 0.567139282735613}, {\"var_smoothing\": 3.511191734215127e-05, \"test_score\": 0.567139282735613}, {\"var_smoothing\": 2.848035868435799e-05, \"test_score\": 0.567139282735613}, {\"var_smoothing\": 2.310129700083158e-05, \"test_score\": 0.567139282735613}, {\"var_smoothing\": 1.873817422860383e-05, \"test_score\": 0.567139282735613}, {\"var_smoothing\": 1.5199110829529332e-05, \"test_score\": 0.567139282735613}, {\"var_smoothing\": 1.2328467394420658e-05, \"test_score\": 0.567139282735613}, {\"var_smoothing\": 1e-05, \"test_score\": 0.567139282735613}, {\"var_smoothing\": 8.111308307896873e-06, \"test_score\": 0.567139282735613}, {\"var_smoothing\": 6.579332246575683e-06, \"test_score\": 0.567139282735613}, {\"var_smoothing\": 5.336699231206313e-06, \"test_score\": 0.567139282735613}, {\"var_smoothing\": 4.328761281083053e-06, \"test_score\": 0.567139282735613}, {\"var_smoothing\": 3.5111917342151275e-06, \"test_score\": 0.567139282735613}, {\"var_smoothing\": 2.848035868435799e-06, \"test_score\": 0.567139282735613}, {\"var_smoothing\": 2.310129700083158e-06, \"test_score\": 0.567139282735613}, {\"var_smoothing\": 1.873817422860383e-06, \"test_score\": 0.567139282735613}, {\"var_smoothing\": 1.519911082952933e-06, \"test_score\": 0.567139282735613}, {\"var_smoothing\": 1.232846739442066e-06, \"test_score\": 0.567139282735613}, {\"var_smoothing\": 1e-06, \"test_score\": 0.567139282735613}, {\"var_smoothing\": 8.111308307896872e-07, \"test_score\": 0.567139282735613}, {\"var_smoothing\": 6.579332246575682e-07, \"test_score\": 0.567139282735613}, {\"var_smoothing\": 5.336699231206313e-07, \"test_score\": 0.567139282735613}, {\"var_smoothing\": 4.3287612810830526e-07, \"test_score\": 0.567139282735613}, {\"var_smoothing\": 3.5111917342151277e-07, \"test_score\": 0.567139282735613}, {\"var_smoothing\": 2.848035868435799e-07, \"test_score\": 0.567139282735613}, {\"var_smoothing\": 2.310129700083158e-07, \"test_score\": 0.567139282735613}, {\"var_smoothing\": 1.873817422860383e-07, \"test_score\": 0.567139282735613}, {\"var_smoothing\": 1.519911082952933e-07, \"test_score\": 0.567139282735613}, {\"var_smoothing\": 1.232846739442066e-07, \"test_score\": 0.567139282735613}, {\"var_smoothing\": 1e-07, \"test_score\": 0.567139282735613}, {\"var_smoothing\": 8.111308307896873e-08, \"test_score\": 0.567139282735613}, {\"var_smoothing\": 6.579332246575682e-08, \"test_score\": 0.567139282735613}, {\"var_smoothing\": 5.336699231206302e-08, \"test_score\": 0.567139282735613}, {\"var_smoothing\": 4.3287612810830526e-08, \"test_score\": 0.567139282735613}, {\"var_smoothing\": 3.5111917342151277e-08, \"test_score\": 0.567139282735613}, {\"var_smoothing\": 2.848035868435799e-08, \"test_score\": 0.567139282735613}, {\"var_smoothing\": 2.310129700083158e-08, \"test_score\": 0.567139282735613}, {\"var_smoothing\": 1.873817422860383e-08, \"test_score\": 0.567139282735613}, {\"var_smoothing\": 1.519911082952933e-08, \"test_score\": 0.567139282735613}, {\"var_smoothing\": 1.232846739442066e-08, \"test_score\": 0.567139282735613}, {\"var_smoothing\": 1e-08, \"test_score\": 0.567139282735613}, {\"var_smoothing\": 8.111308307896856e-09, \"test_score\": 0.567139282735613}, {\"var_smoothing\": 6.579332246575682e-09, \"test_score\": 0.567139282735613}, {\"var_smoothing\": 5.336699231206302e-09, \"test_score\": 0.567139282735613}, {\"var_smoothing\": 4.328761281083061e-09, \"test_score\": 0.567139282735613}, {\"var_smoothing\": 3.5111917342151273e-09, \"test_score\": 0.567139282735613}, {\"var_smoothing\": 2.848035868435805e-09, \"test_score\": 0.567139282735613}, {\"var_smoothing\": 2.310129700083158e-09, \"test_score\": 0.567139282735613}, {\"var_smoothing\": 1.873817422860387e-09, \"test_score\": 0.567139282735613}, {\"var_smoothing\": 1.519911082952933e-09, \"test_score\": 0.567139282735613}, {\"var_smoothing\": 1.2328467394420635e-09, \"test_score\": 0.567139282735613}, {\"var_smoothing\": 1e-09, \"test_score\": 0.567139282735613}]}};\n",
       "var opt = {};\n",
       "var type = \"vega-lite\";\n",
       "var id = \"06de11d7-18c5-41af-a744-ff2acdddcde5\";\n",
       "\n",
       "var output_area = this;\n",
       "\n",
       "require([\"nbextensions/jupyter-vega/index\"], function(vega) {\n",
       "  var target = document.createElement(\"div\");\n",
       "  target.id = id;\n",
       "  target.className = \"vega-embed\";\n",
       "\n",
       "  var style = document.createElement(\"style\");\n",
       "  style.textContent = [\n",
       "    \".vega-embed .error p {\",\n",
       "    \"  color: firebrick;\",\n",
       "    \"  font-size: 14px;\",\n",
       "    \"}\",\n",
       "  ].join(\"\\\\n\");\n",
       "\n",
       "  // element is a jQuery wrapped DOM element inside the output area\n",
       "  // see http://ipython.readthedocs.io/en/stable/api/generated/\\\n",
       "  // IPython.display.html#IPython.display.Javascript.__init__\n",
       "  element[0].appendChild(target);\n",
       "  element[0].appendChild(style);\n",
       "\n",
       "  vega.render(\"#\" + id, spec, type, opt, output_area);\n",
       "}, function (err) {\n",
       "  if (err.requireType !== \"scripterror\") {\n",
       "    throw(err);\n",
       "  }\n",
       "});\n"
      ],
      "text/plain": [
       "<vega.vegalite.VegaLite at 0x1fad36df390>"
      ]
     },
     "metadata": {
      "jupyter-vega": "#06de11d7-18c5-41af-a744-ff2acdddcde5"
     },
     "output_type": "display_data"
    },
    {
     "data": {
      "text/plain": []
     },
     "execution_count": 111,
     "metadata": {},
     "output_type": "execute_result"
    },
    {
     "data": {
      "image/png": "[encoded data removed]"
     },
     "metadata": {
      "jupyter-vega": "#06de11d7-18c5-41af-a744-ff2acdddcde5"
     },
     "output_type": "display_data"
    }
   ],
   "source": [
    "alt.Chart(results_NB, \n",
    "          title='NB Performance Comparison'\n",
    "         ).mark_line(point=True).encode(\n",
    "    alt.X('var_smoothing', title='Var. Smoothing'),\n",
    "    alt.Y('test_score', title='Mean CV Score', scale=alt.Scale(zero=False))\n",
    ").interactive()"
   ]
  },
  {
   "cell_type": "markdown",
   "metadata": {},
   "source": []
  },
  {
   "cell_type": "markdown",
   "metadata": {},
   "source": [
    "## Decision Tree"
   ]
  },
  {
   "cell_type": "code",
   "execution_count": 138,
   "metadata": {},
   "outputs": [
    {
     "name": "stdout",
     "output_type": "stream",
     "text": [
      "Fitting 15 folds for each of 36 candidates, totalling 540 fits\n"
     ]
    },
    {
     "name": "stderr",
     "output_type": "stream",
     "text": [
      "[Parallel(n_jobs=1)]: Using backend SequentialBackend with 1 concurrent workers.\n",
      "[Parallel(n_jobs=1)]: Done 540 out of 540 | elapsed:    2.2s finished\n"
     ]
    }
   ],
   "source": [
    "from sklearn.tree import DecisionTreeClassifier\n",
    "\n",
    "df_classifier = DecisionTreeClassifier(random_state=999)\n",
    "\n",
    "params_DT = {'criterion': ['gini', 'entropy'],\n",
    "             'max_depth': [3,4,5,6,7,8,9,10,11],\n",
    "             'min_samples_split': [2, 3]}\n",
    "\n",
    "gs_DT = GridSearchCV(estimator=df_classifier, \n",
    "                     param_grid=params_DT, \n",
    "                     cv=cv_method,\n",
    "                     verbose=1, \n",
    "                     scoring='accuracy')\n",
    "\n",
    "gs_DT.fit(Data5_train, target5_train);"
   ]
  },
  {
   "cell_type": "code",
   "execution_count": 139,
   "metadata": {},
   "outputs": [
    {
     "data": {
      "text/plain": [
       "{'criterion': 'gini', 'max_depth': 10, 'min_samples_split': 2}"
      ]
     },
     "execution_count": 139,
     "metadata": {},
     "output_type": "execute_result"
    }
   ],
   "source": [
    "gs_DT.best_params_"
   ]
  },
  {
   "cell_type": "code",
   "execution_count": 140,
   "metadata": {},
   "outputs": [
    {
     "data": {
      "text/plain": [
       "0.5771476230191827"
      ]
     },
     "execution_count": 140,
     "metadata": {},
     "output_type": "execute_result"
    }
   ],
   "source": [
    "gs_DT.best_score_"
   ]
  },
  {
   "cell_type": "code",
   "execution_count": 141,
   "metadata": {},
   "outputs": [
    {
     "data": {
      "text/plain": [
       "Index(['criterion', 'max_depth', 'min_samples_split', 'test_score'], dtype='object')"
      ]
     },
     "execution_count": 141,
     "metadata": {},
     "output_type": "execute_result"
    }
   ],
   "source": [
    "results_DT = pd.DataFrame(gs_DT.cv_results_['params'])\n",
    "results_DT['test_score'] = gs_DT.cv_results_['mean_test_score']\n",
    "results_DT.columns"
   ]
  },
  {
   "cell_type": "code",
   "execution_count": 142,
   "metadata": {},
   "outputs": [
    {
     "data": {
      "application/javascript": [
       "var spec = {\"config\": {\"view\": {\"width\": 400, \"height\": 300}, \"mark\": {\"tooltip\": null}}, \"data\": {\"name\": \"data-27a8522ee2f719c2abcfdcd2d1b49e8f\"}, \"mark\": {\"type\": \"line\", \"point\": true}, \"encoding\": {\"color\": {\"type\": \"nominal\", \"field\": \"criterion\"}, \"x\": {\"type\": \"quantitative\", \"field\": \"max_depth\", \"title\": \"Maximum Depth\"}, \"y\": {\"type\": \"quantitative\", \"aggregate\": \"average\", \"field\": \"test_score\", \"scale\": {\"zero\": false}, \"title\": \"Mean CV Score\"}}, \"title\": \"DT Performance Comparison\", \"$schema\": \"https://vega.github.io/schema/vega-lite/v3.3.0.json\", \"datasets\": {\"data-27a8522ee2f719c2abcfdcd2d1b49e8f\": [{\"criterion\": \"gini\", \"max_depth\": 3, \"min_samples_split\": 2, \"test_score\": 0.5426744509313317}, {\"criterion\": \"gini\", \"max_depth\": 3, \"min_samples_split\": 3, \"test_score\": 0.5426744509313317}, {\"criterion\": \"gini\", \"max_depth\": 4, \"min_samples_split\": 2, \"test_score\": 0.5535168195718655}, {\"criterion\": \"gini\", \"max_depth\": 4, \"min_samples_split\": 3, \"test_score\": 0.5535168195718655}, {\"criterion\": \"gini\", \"max_depth\": 5, \"min_samples_split\": 2, \"test_score\": 0.5585209897136503}, {\"criterion\": \"gini\", \"max_depth\": 5, \"min_samples_split\": 3, \"test_score\": 0.5585209897136503}, {\"criterion\": \"gini\", \"max_depth\": 6, \"min_samples_split\": 2, \"test_score\": 0.5632471504031137}, {\"criterion\": \"gini\", \"max_depth\": 6, \"min_samples_split\": 3, \"test_score\": 0.5624131220461496}, {\"criterion\": \"gini\", \"max_depth\": 7, \"min_samples_split\": 2, \"test_score\": 0.5601890464275785}, {\"criterion\": \"gini\", \"max_depth\": 7, \"min_samples_split\": 3, \"test_score\": 0.5574089519043648}, {\"criterion\": \"gini\", \"max_depth\": 8, \"min_samples_split\": 2, \"test_score\": 0.572977481234362}, {\"criterion\": \"gini\", \"max_depth\": 8, \"min_samples_split\": 3, \"test_score\": 0.5710314150681123}, {\"criterion\": \"gini\", \"max_depth\": 9, \"min_samples_split\": 2, \"test_score\": 0.5688073394495413}, {\"criterion\": \"gini\", \"max_depth\": 9, \"min_samples_split\": 3, \"test_score\": 0.5693633583541841}, {\"criterion\": \"gini\", \"max_depth\": 10, \"min_samples_split\": 2, \"test_score\": 0.5771476230191827}, {\"criterion\": \"gini\", \"max_depth\": 10, \"min_samples_split\": 3, \"test_score\": 0.5701973867111482}, {\"criterion\": \"gini\", \"max_depth\": 11, \"min_samples_split\": 2, \"test_score\": 0.5682513205448986}, {\"criterion\": \"gini\", \"max_depth\": 11, \"min_samples_split\": 3, \"test_score\": 0.5674172921879344}, {\"criterion\": \"entropy\", \"max_depth\": 3, \"min_samples_split\": 2, \"test_score\": 0.551014734500973}, {\"criterion\": \"entropy\", \"max_depth\": 3, \"min_samples_split\": 3, \"test_score\": 0.551014734500973}, {\"criterion\": \"entropy\", \"max_depth\": 4, \"min_samples_split\": 2, \"test_score\": 0.5654712260216848}, {\"criterion\": \"entropy\", \"max_depth\": 4, \"min_samples_split\": 3, \"test_score\": 0.5654712260216848}, {\"criterion\": \"entropy\", \"max_depth\": 5, \"min_samples_split\": 2, \"test_score\": 0.5537948290241869}, {\"criterion\": \"entropy\", \"max_depth\": 5, \"min_samples_split\": 3, \"test_score\": 0.5535168195718655}, {\"criterion\": \"entropy\", \"max_depth\": 6, \"min_samples_split\": 2, \"test_score\": 0.5471226021684737}, {\"criterion\": \"entropy\", \"max_depth\": 6, \"min_samples_split\": 3, \"test_score\": 0.5471226021684737}, {\"criterion\": \"entropy\", \"max_depth\": 7, \"min_samples_split\": 2, \"test_score\": 0.5499026966916876}, {\"criterion\": \"entropy\", \"max_depth\": 7, \"min_samples_split\": 3, \"test_score\": 0.551014734500973}, {\"criterion\": \"entropy\", \"max_depth\": 8, \"min_samples_split\": 2, \"test_score\": 0.5549068668334723}, {\"criterion\": \"entropy\", \"max_depth\": 8, \"min_samples_split\": 3, \"test_score\": 0.551014734500973}, {\"criterion\": \"entropy\", \"max_depth\": 9, \"min_samples_split\": 2, \"test_score\": 0.5585209897136503}, {\"criterion\": \"entropy\", \"max_depth\": 9, \"min_samples_split\": 3, \"test_score\": 0.5524047817625799}, {\"criterion\": \"entropy\", \"max_depth\": 10, \"min_samples_split\": 2, \"test_score\": 0.5621351125938282}, {\"criterion\": \"entropy\", \"max_depth\": 10, \"min_samples_split\": 3, \"test_score\": 0.5557408951904365}, {\"criterion\": \"entropy\", \"max_depth\": 11, \"min_samples_split\": 2, \"test_score\": 0.5638031693077564}, {\"criterion\": \"entropy\", \"max_depth\": 11, \"min_samples_split\": 3, \"test_score\": 0.5587989991659716}]}};\n",
       "var opt = {};\n",
       "var type = \"vega-lite\";\n",
       "var id = \"528b97f6-161a-4d26-a44a-bcb0156dda19\";\n",
       "\n",
       "var output_area = this;\n",
       "\n",
       "require([\"nbextensions/jupyter-vega/index\"], function(vega) {\n",
       "  var target = document.createElement(\"div\");\n",
       "  target.id = id;\n",
       "  target.className = \"vega-embed\";\n",
       "\n",
       "  var style = document.createElement(\"style\");\n",
       "  style.textContent = [\n",
       "    \".vega-embed .error p {\",\n",
       "    \"  color: firebrick;\",\n",
       "    \"  font-size: 14px;\",\n",
       "    \"}\",\n",
       "  ].join(\"\\\\n\");\n",
       "\n",
       "  // element is a jQuery wrapped DOM element inside the output area\n",
       "  // see http://ipython.readthedocs.io/en/stable/api/generated/\\\n",
       "  // IPython.display.html#IPython.display.Javascript.__init__\n",
       "  element[0].appendChild(target);\n",
       "  element[0].appendChild(style);\n",
       "\n",
       "  vega.render(\"#\" + id, spec, type, opt, output_area);\n",
       "}, function (err) {\n",
       "  if (err.requireType !== \"scripterror\") {\n",
       "    throw(err);\n",
       "  }\n",
       "});\n"
      ],
      "text/plain": [
       "<vega.vegalite.VegaLite at 0x1fad335f978>"
      ]
     },
     "metadata": {
      "jupyter-vega": "#528b97f6-161a-4d26-a44a-bcb0156dda19"
     },
     "output_type": "display_data"
    },
    {
     "data": {
      "text/plain": []
     },
     "execution_count": 142,
     "metadata": {},
     "output_type": "execute_result"
    },
    {
     "data": {
      "image/png": "[encoded data removed]"
     },
     "metadata": {
      "jupyter-vega": "#528b97f6-161a-4d26-a44a-bcb0156dda19"
     },
     "output_type": "display_data"
    }
   ],
   "source": [
    "alt.Chart(results_DT, \n",
    "          title='DT Performance Comparison'\n",
    "         ).mark_line(point=True).encode(\n",
    "    alt.X('max_depth', title='Maximum Depth'),\n",
    "    alt.Y('test_score', title='Mean CV Score', aggregate='average', scale=alt.Scale(zero=False)),\n",
    "    color='criterion'\n",
    ")"
   ]
  },
  {
   "cell_type": "markdown",
   "metadata": {},
   "source": [
    "## Final Comparison"
   ]
  },
  {
   "cell_type": "code",
   "execution_count": 146,
   "metadata": {},
   "outputs": [
    {
     "data": {
      "text/plain": [
       "0.5000866613061735"
      ]
     },
     "execution_count": 146,
     "metadata": {},
     "output_type": "execute_result"
    }
   ],
   "source": [
    "from sklearn.model_selection import cross_val_score\n",
    "\n",
    "cv_method_ttest = StratifiedKFold(n_splits=10, random_state=999)\n",
    "\n",
    "cv_results_KNN = cross_val_score(estimator=gs_KNN.best_estimator_,\n",
    "                                 X=Data5_test,\n",
    "                                 y=target5_test, \n",
    "                                 cv=cv_method_ttest, \n",
    "                                 scoring='accuracy')\n",
    "cv_results_KNN.mean()"
   ]
  },
  {
   "cell_type": "code",
   "execution_count": 148,
   "metadata": {},
   "outputs": [
    {
     "data": {
      "text/plain": [
       "0.5761645671401769"
      ]
     },
     "execution_count": 148,
     "metadata": {},
     "output_type": "execute_result"
    }
   ],
   "source": [
    "Data_test_transformed = PowerTransformer().fit_transform(Data5_test)\n",
    "\n",
    "cv_results_NB = cross_val_score(estimator=gs_NB.best_estimator_,\n",
    "                                X=Data_test_transformed,\n",
    "                                y=target5_test, \n",
    "                                cv=cv_method_ttest, \n",
    "                                scoring='accuracy')\n",
    "cv_results_NB.mean()"
   ]
  },
  {
   "cell_type": "code",
   "execution_count": 149,
   "metadata": {},
   "outputs": [
    {
     "data": {
      "text/plain": [
       "0.5258594657375145"
      ]
     },
     "execution_count": 149,
     "metadata": {},
     "output_type": "execute_result"
    }
   ],
   "source": [
    "cv_results_DT = cross_val_score(estimator=gs_DT.best_estimator_,\n",
    "                                X=Data5_test,\n",
    "                                y=target5_test, \n",
    "                                cv=cv_method_ttest, \n",
    "                                scoring='accuracy')\n",
    "cv_results_DT.mean()"
   ]
  },
  {
   "cell_type": "markdown",
   "metadata": {},
   "source": []
  },
  {
   "cell_type": "code",
   "execution_count": 150,
   "metadata": {},
   "outputs": [
    {
     "name": "stdout",
     "output_type": "stream",
     "text": [
      "Ttest_relResult(statistic=-2.2030520980792443, pvalue=0.055065797211936066)\n",
      "Ttest_relResult(statistic=0.7341123340569905, pvalue=0.4815668144164389)\n",
      "Ttest_relResult(statistic=-2.936388249135709, pvalue=0.016583832073681408)\n"
     ]
    }
   ],
   "source": [
    "from scipy import stats\n",
    "\n",
    "print(stats.ttest_rel(cv_results_KNN, cv_results_NB))\n",
    "print(stats.ttest_rel(cv_results_DT, cv_results_KNN))\n",
    "print(stats.ttest_rel(cv_results_DT, cv_results_NB))"
   ]
  },
  {
   "cell_type": "markdown",
   "metadata": {},
   "source": []
  },
  {
   "cell_type": "markdown",
   "metadata": {},
   "source": [
    "## Summary & Remarks"
   ]
  },
  {
   "cell_type": "markdown",
   "metadata": {},
   "source": [
    "\n",
    "\n"
   ]
  },
  {
   "cell_type": "markdown",
   "metadata": {},
   "source": [
    "## Sources \n",
    "\n",
    "P. Cortez, A. Cerdeira, F. Almeida, T. Matos and J. Reis. Modeling wine preferences by data mining from physicochemical properties. In Decision Support Systems, Elsevier, 47(4):547-553, 2009."
   ]
  }
 ],
 "metadata": {
  "kernelspec": {
   "display_name": "Python 3",
   "language": "python",
   "name": "python3"
  },
  "language_info": {
   "codemirror_mode": {
    "name": "ipython",
    "version": 3
   },
   "file_extension": ".py",
   "mimetype": "text/x-python",
   "name": "python",
   "nbconvert_exporter": "python",
   "pygments_lexer": "ipython3",
   "version": "3.6.5"
  }
 },
 "nbformat": 4,
 "nbformat_minor": 2
}
