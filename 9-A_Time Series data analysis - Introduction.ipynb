{
 "cells": [
  {
   "cell_type": "markdown",
   "metadata": {},
   "source": [
    "**Which of the following do you think is an example of time series? Even if you don’t know, try making a guess.**\n",
    "\n",
    "<img src=\"img/timeSeriesDemo.jpg\"> \n",
    "\n",
    "``Time Series is generally data which is collected over time and is dependent on it.``\n",
    "\n",
    "Here we see that the count of cars is independent of time, hence it is not a time series. While the CO2 level increases with respect to time, hence it is a time series.\n",
    "\n",
    "A series of data points collected in time order is known as a time series. ``Most of business houses work on time series data`` to analyze sales number for the next year, website traffic, count of traffic, number of calls received, etc. Data of a time series can be used for forecasting."
   ]
  },
  {
   "cell_type": "markdown",
   "metadata": {},
   "source": [
    "``What is time series?``\n",
    "--\n",
    "\n",
    "> Time series is a collection of data points that are collected at constant time intervals.\n",
    "\n",
    "> It is time dependent.\n",
    "\n",
    "> Most of time series have some form of ``seasonality trends``. For example, if we sale ice cream, most probably there will be higher sales in summer seasons. Therefore, this time series has seasonality trends.\n",
    "\n",
    "> Another example, lets think we dice one time every day during 1 year. As you guess, there will be no scenario like that number six is appeared mostly in summer season or number five is mostly appeared in January. Therefore, this time series does not have seasonality trends.\n",
    "\n",
    "> ``Examples``:  What do these applications have in common: predicting the electricity consumption of a household for the next three months, estimating traffic on roads at certain periods, and predicting the price at which a stock will trade on the New York Stock Exchange?\n",
    "\n",
    "> They all fall under the concept of time series data! You cannot accurately predict any of these results without the ‘time’ component. And as more and more data is generated in the world around us, time series forecasting keeps becoming an ever more critical technique for a data scientist to master."
   ]
  },
  {
   "cell_type": "code",
   "execution_count": 4,
   "metadata": {},
   "outputs": [],
   "source": [
    "import numpy as np # linear algebra\n",
    "import pandas as pd # data processing, CSV file I/O (e.g. pd.read_csv)\n",
    "import seaborn as sns # visualization library\n",
    "import matplotlib.pyplot as plt # visualization library\n",
    "\n",
    "import warnings\n",
    "warnings.filterwarnings('ignore')"
   ]
  },
  {
   "cell_type": "markdown",
   "metadata": {},
   "source": [
    "Let us visualise a some data :\n",
    "--\n",
    "\n",
    "Let us visualise some data to understand **``Time Series Data``**"
   ]
  },
  {
   "cell_type": "code",
   "execution_count": 5,
   "metadata": {},
   "outputs": [
    {
     "data": {
      "text/plain": [
       "(119040, 31)"
      ]
     },
     "execution_count": 5,
     "metadata": {},
     "output_type": "execute_result"
    }
   ],
   "source": [
    "# we are loading dataset : weather conditions in world war 2\n",
    "# Summary_of_Weather.csv\n",
    "# It includes measured min, max and mean temperatures from weather stations.\n",
    "\n",
    "# This is very large dataset. You may get \"Low memory\" warning\n",
    "# to suppress the low_memory warning keep it false\n",
    "weather_df = pd.read_csv(\"C:\\Program Files/Python36/suven/Data Anaylsis/Dataset/Summary_of_Weather.csv\", low_memory=False)\n",
    "weather_df.shape"
   ]
  },
  {
   "cell_type": "markdown",
   "metadata": {},
   "source": [
    "**``Important columns in weather_df :``**\n",
    "\n",
    "STA: weather station number (WBAN)\n",
    "\n",
    "Date: Date of temperature measurement\n",
    "\n",
    "MeanTemp: Mean temperature"
   ]
  },
  {
   "cell_type": "code",
   "execution_count": 3,
   "metadata": {},
   "outputs": [
    {
     "data": {
      "text/html": [
       "<div>\n",
       "<style scoped>\n",
       "    .dataframe tbody tr th:only-of-type {\n",
       "        vertical-align: middle;\n",
       "    }\n",
       "\n",
       "    .dataframe tbody tr th {\n",
       "        vertical-align: top;\n",
       "    }\n",
       "\n",
       "    .dataframe thead th {\n",
       "        text-align: right;\n",
       "    }\n",
       "</style>\n",
       "<table border=\"1\" class=\"dataframe\">\n",
       "  <thead>\n",
       "    <tr style=\"text-align: right;\">\n",
       "      <th></th>\n",
       "      <th>STA</th>\n",
       "      <th>Date</th>\n",
       "      <th>Precip</th>\n",
       "      <th>WindGustSpd</th>\n",
       "      <th>MaxTemp</th>\n",
       "      <th>MinTemp</th>\n",
       "      <th>MeanTemp</th>\n",
       "      <th>Snowfall</th>\n",
       "      <th>PoorWeather</th>\n",
       "      <th>YR</th>\n",
       "      <th>...</th>\n",
       "      <th>FB</th>\n",
       "      <th>FTI</th>\n",
       "      <th>ITH</th>\n",
       "      <th>PGT</th>\n",
       "      <th>TSHDSBRSGF</th>\n",
       "      <th>SD3</th>\n",
       "      <th>RHX</th>\n",
       "      <th>RHN</th>\n",
       "      <th>RVG</th>\n",
       "      <th>WTE</th>\n",
       "    </tr>\n",
       "  </thead>\n",
       "  <tbody>\n",
       "    <tr>\n",
       "      <th>0</th>\n",
       "      <td>10001</td>\n",
       "      <td>1942-7-1</td>\n",
       "      <td>1.016</td>\n",
       "      <td>NaN</td>\n",
       "      <td>25.555556</td>\n",
       "      <td>22.222222</td>\n",
       "      <td>23.888889</td>\n",
       "      <td>0</td>\n",
       "      <td>NaN</td>\n",
       "      <td>42</td>\n",
       "      <td>...</td>\n",
       "      <td>NaN</td>\n",
       "      <td>NaN</td>\n",
       "      <td>NaN</td>\n",
       "      <td>NaN</td>\n",
       "      <td>NaN</td>\n",
       "      <td>NaN</td>\n",
       "      <td>NaN</td>\n",
       "      <td>NaN</td>\n",
       "      <td>NaN</td>\n",
       "      <td>NaN</td>\n",
       "    </tr>\n",
       "  </tbody>\n",
       "</table>\n",
       "<p>1 rows × 31 columns</p>\n",
       "</div>"
      ],
      "text/plain": [
       "     STA      Date Precip  WindGustSpd    MaxTemp    MinTemp   MeanTemp  \\\n",
       "0  10001  1942-7-1  1.016          NaN  25.555556  22.222222  23.888889   \n",
       "\n",
       "  Snowfall PoorWeather  YR  ...  FB  FTI ITH  PGT  TSHDSBRSGF  SD3  RHX  RHN  \\\n",
       "0        0         NaN  42  ... NaN  NaN NaN  NaN         NaN  NaN  NaN  NaN   \n",
       "\n",
       "  RVG  WTE  \n",
       "0 NaN  NaN  \n",
       "\n",
       "[1 rows x 31 columns]"
      ]
     },
     "execution_count": 3,
     "metadata": {},
     "output_type": "execute_result"
    }
   ],
   "source": [
    "weather_df.head(1)"
   ]
  },
  {
   "cell_type": "code",
   "execution_count": 6,
   "metadata": {},
   "outputs": [
    {
     "name": "stdout",
     "output_type": "stream",
     "text": [
      "<class 'pandas.core.frame.DataFrame'>\n",
      "RangeIndex: 119040 entries, 0 to 119039\n",
      "Data columns (total 3 columns):\n",
      "STA         119040 non-null int64\n",
      "Date        119040 non-null object\n",
      "MeanTemp    119040 non-null float64\n",
      "dtypes: float64(1), int64(1), object(1)\n",
      "memory usage: 2.7+ MB\n"
     ]
    }
   ],
   "source": [
    "# data cleaning : get only those columns from weather_df, which we intend to use. \n",
    "# what we will use only\n",
    "weather = weather_df.loc[:,[\"STA\",\"Date\",\"MeanTemp\"] ]\n",
    "weather.info()"
   ]
  },
  {
   "cell_type": "markdown",
   "metadata": {},
   "source": [
    "**``Information Given``** : Lets accept this and move on :\n",
    "\n",
    "1. In this World War dataset,  Lets focus USA and BURMA war\n",
    "\n",
    "2. In this war USA bomb BURMA( KATHA city) from 1942 to 1945.\n",
    "\n",
    "3. The closest weather station to this war is ``BINDUKURI`` and it has temperature record from 1943 to 1945.\n",
    "\n",
    "4. Now lets visualize this situation. But before visualization, we need to make **date** features ->  **date time object**.\n",
    "\n",
    "5. ``BINDUKURI`` weather station Id i.e weather.STA is ``32907``"
   ]
  },
  {
   "cell_type": "code",
   "execution_count": 9,
   "metadata": {},
   "outputs": [
    {
     "name": "stdout",
     "output_type": "stream",
     "text": [
      "<class 'pandas.core.frame.DataFrame'>\n",
      "Int64Index: 751 entries, 78252 to 79002\n",
      "Data columns (total 3 columns):\n",
      "STA         751 non-null int64\n",
      "Date        751 non-null object\n",
      "MeanTemp    751 non-null float64\n",
      "dtypes: float64(1), int64(1), object(1)\n",
      "memory usage: 23.5+ KB\n",
      "None\n",
      "---------------------------------------------------\n",
      "<class 'pandas.core.frame.DataFrame'>\n",
      "Int64Index: 751 entries, 78252 to 79002\n",
      "Data columns (total 3 columns):\n",
      "STA         751 non-null int64\n",
      "Date        751 non-null datetime64[ns]\n",
      "MeanTemp    751 non-null float64\n",
      "dtypes: datetime64[ns](1), float64(1), int64(1)\n",
      "memory usage: 23.5 KB\n",
      "None\n"
     ]
    },
    {
     "data": {
      "image/png": "[encoded data removed]",
      "text/plain": [
       "<Figure size 1584x720 with 1 Axes>"
      ]
     },
     "metadata": {
      "needs_background": "light"
     },
     "output_type": "display_data"
    }
   ],
   "source": [
    "# understand the code and see the Time Series o/p\n",
    "\n",
    "weather_bin = weather.loc[weather.STA == 32907]\n",
    "# print(weather_bin.info())\n",
    "# print(\"---------------------------------------------------\")\n",
    "weather_bin[\"Date\"] = pd.to_datetime(weather_bin[\"Date\"])\n",
    "# print(weather_bin.info())\n",
    "\n",
    "plt.figure(figsize=(22,10))\n",
    "plt.plot(weather_bin.Date,weather_bin.MeanTemp)\n",
    "plt.title(\"Mean Temperature of Bindukuri Area\")\n",
    "plt.xlabel(\"Date\")\n",
    "plt.ylabel(\"Mean Temperature\")\n",
    "plt.show();"
   ]
  },
  {
   "cell_type": "markdown",
   "metadata": {},
   "source": [
    "1. Above plotting is of **Time Series data. ( as it is Time-dependent )**\n",
    "\n",
    "2. As you can see, we have temperature measurement from 1943 to 1945.\n",
    "\n",
    "3. Temperature ossilates between 12 and 32 degrees.\n",
    "\n",
    "4. Temperature of winter months is colder than temperature of summer months."
   ]
  },
  {
   "cell_type": "markdown",
   "metadata": {},
   "source": [
    "**Now, let's get used to some simple programming concepts like :**\n",
    "\n",
    "1. DatetimeIndex and its use in time-series data\n",
    "2. Creating time-series with specific frequencies\n",
    "3. Representation of intervals of time user periods\n",
    "4. Shifting and lagging time-series data\n",
    "5. Frequency conversion of time-series data\n",
    "6. Upsampling and downsampling of time-series data"
   ]
  },
  {
   "cell_type": "code",
   "execution_count": 11,
   "metadata": {},
   "outputs": [],
   "source": [
    "import datetime\n",
    "from datetime import datetime"
   ]
  },
  {
   "cell_type": "markdown",
   "metadata": {},
   "source": [
    "1. ``DatetimeIndex and its use in time-series data``\n",
    "\n",
    "Specific dates and times in pandas are represented using the pandas **Timestamp** class. Timestamp is based on NumPy's dtype datetime64 and has higher precision than Python's built-in datetime object. This increased precision is frequently required for accurate financial calculations.\n",
    "\n",
    "**Sequences of timestamp objects** are represented by pandas as a ``DatetimeIndex``, which is a type of pandas index that is optimized for indexing by dates and times."
   ]
  },
  {
   "cell_type": "code",
   "execution_count": 13,
   "metadata": {},
   "outputs": [
    {
     "data": {
      "text/plain": [
       "DatetimeIndex(['2019-09-08', '2019-10-03'], dtype='datetime64[ns]', freq=None)"
      ]
     },
     "execution_count": 13,
     "metadata": {},
     "output_type": "execute_result"
    }
   ],
   "source": [
    "dates = [datetime(2019, 9, 8), datetime(2019, 10, 3)]\n",
    "dti = pd.DatetimeIndex(dates)\n",
    "dti"
   ]
  },
  {
   "cell_type": "markdown",
   "metadata": {},
   "source": [
    "A Series will also automatically construct a DatetimeIndex as its index when\n",
    "passing a list of datetime objects as the index parameter:"
   ]
  },
  {
   "cell_type": "code",
   "execution_count": 14,
   "metadata": {},
   "outputs": [
    {
     "name": "stdout",
     "output_type": "stream",
     "text": [
      "<class 'pandas.core.indexes.datetimes.DatetimeIndex'>\n",
      "-----------------------------\n",
      "2019-09-08    0.469112\n",
      "2019-10-03   -0.282863\n",
      "dtype: float64\n"
     ]
    }
   ],
   "source": [
    "np.random.seed(123456)\n",
    "ts = pd.Series(np.random.randn(2), dti) #Rule : len(values) == len(Indexes)\n",
    "print(type(ts.index))\n",
    "print(\"-----------------------------\")\n",
    "print(ts)"
   ]
  },
  {
   "cell_type": "markdown",
   "metadata": {},
   "source": [
    "The Series object has taken the datetime objects and constructed a DatetimeIndex from the date values, where each value of the DatetimeIndex is a Timestamp object, and each element of the index can be used to access the corresponding value in the Series object."
   ]
  },
  {
   "cell_type": "code",
   "execution_count": 11,
   "metadata": {},
   "outputs": [
    {
     "name": "stdout",
     "output_type": "stream",
     "text": [
      "0.4691122999071863\n",
      "-0.2828633443286633\n"
     ]
    }
   ],
   "source": [
    "# ex : 1 : of accessing data \n",
    "print(ts[datetime(2019, 9, 8)])\n",
    "\n",
    "\n",
    "# ex : 2 : of accessing data \n",
    "print(ts['2019-10-3'])"
   ]
  },
  {
   "cell_type": "markdown",
   "metadata": {},
   "source": [
    "The Series object can also create a DatetimeIndex when passing a list of\n",
    "strings, which pandas will gladly recognize as dates and perform the appropriate conversions:"
   ]
  },
  {
   "cell_type": "code",
   "execution_count": 16,
   "metadata": {},
   "outputs": [
    {
     "name": "stdout",
     "output_type": "stream",
     "text": [
      "<class 'list'>\n"
     ]
    },
    {
     "data": {
      "text/plain": [
       "2014-08-01    0.469112\n",
       "2014-08-02   -0.282863\n",
       "dtype: float64"
      ]
     },
     "execution_count": 16,
     "metadata": {},
     "output_type": "execute_result"
    }
   ],
   "source": [
    "np.random.seed(123456)\n",
    "dates = ['2014-08-01', '2014-08-02']\n",
    "\n",
    "ts = pd.Series(np.random.randn(2), dates)\n",
    "ts"
   ]
  },
  {
   "cell_type": "markdown",
   "metadata": {},
   "source": [
    "**pd.to_datetime() function**\n",
    "> pd.to_datetime() function is used to perform a conversion of a list of potentially mixed type items into a DatetimeIndex:"
   ]
  },
  {
   "cell_type": "code",
   "execution_count": 13,
   "metadata": {},
   "outputs": [
    {
     "data": {
      "text/plain": [
       "DatetimeIndex(['2019-08-01', '2019-08-02', '2019-08-03', 'NaT'], dtype='datetime64[ns]', freq=None)"
      ]
     },
     "execution_count": 13,
     "metadata": {},
     "output_type": "execute_result"
    }
   ],
   "source": [
    "dti = pd.to_datetime(['Aug 1, 2019', '2019-08-02', '2019.8.3', None])\n",
    "dti"
   ]
  },
  {
   "cell_type": "markdown",
   "metadata": {},
   "source": [
    "Notice that ``None`` is converted into a ``not-a-time value, NaT``, which\n",
    "represents that the source data could not be converted into datetime.\n",
    "\n",
    "**``Be Careful``**  : \n",
    "If pd.to_datetime() function fails to parse a value, it produces **'TypeError'**\n",
    "\n",
    "for Ex : *dti2 = pd.to_datetime(['Aug 1, 2019', 'Jan'])* will produce **TypeError**"
   ]
  },
  {
   "cell_type": "markdown",
   "metadata": {},
   "source": [
    "The pandas default is that ``date strings are always month first``. If you need to parse dates with the day as the first component, you can use the **dayfirst=True** option, which can be useful as data can often have day first, particularly when it is non-U.S. data."
   ]
  },
  {
   "cell_type": "code",
   "execution_count": 31,
   "metadata": {},
   "outputs": [
    {
     "name": "stdout",
     "output_type": "stream",
     "text": [
      "2019-08-01 00:00:00 2019-08-01 00:00:00\n"
     ]
    }
   ],
   "source": [
    "# both indicate 1st Aug 2019\n",
    "dti1 = pd.to_datetime(['8/1/2019'])\n",
    "dti2 = pd.to_datetime(['1/8/2019'], dayfirst=True)\n",
    "print(dti1[0], dti2[0])\n"
   ]
  },
  {
   "cell_type": "code",
   "execution_count": 19,
   "metadata": {},
   "outputs": [
    {
     "data": {
      "text/plain": [
       "2019-08-01    0.469112\n",
       "2019-08-02   -0.282863\n",
       "2019-08-03   -1.509059\n",
       "2019-08-04   -1.135632\n",
       "2019-08-05    1.212112\n",
       "2019-08-06   -0.173215\n",
       "2019-08-07    0.119209\n",
       "2019-08-08   -1.044236\n",
       "2019-08-09   -0.861849\n",
       "2019-08-10   -2.104569\n",
       "Freq: D, dtype: float64"
      ]
     },
     "execution_count": 19,
     "metadata": {},
     "output_type": "execute_result"
    }
   ],
   "source": [
    "np.random.seed(123456)\n",
    "dates = pd.date_range('8/1/2019', periods=10)\n",
    "s1 = pd.Series(np.random.randn(10), dates)\n",
    "s1"
   ]
  },
  {
   "cell_type": "markdown",
   "metadata": {},
   "source": [
    "2. ``Creating time-series with specific frequencies``\n",
    "\n",
    "Time-series data in pandas can also be created to represent intervals of time other than daily frequency. Different frequencies can be generated with pd.date_range() by utilizing the freq parameter. **This parameter defaults to a value of D**, which represents daily frequency.\n",
    "\n",
    "**To introduce the creation of nondaily frequencies, the following command creates a DatetimeIndex with one-minute intervals using freq='T':**"
   ]
  },
  {
   "cell_type": "code",
   "execution_count": 20,
   "metadata": {},
   "outputs": [
    {
     "data": {
      "text/plain": [
       "2019-08-01 00:00:00    0\n",
       "2019-08-01 00:01:00    1\n",
       "2019-08-01 00:02:00    2\n",
       "2019-08-01 00:03:00    3\n",
       "2019-08-01 00:04:00    4\n",
       "2019-08-01 00:05:00    5\n",
       "2019-08-01 00:06:00    6\n",
       "2019-08-01 00:07:00    7\n",
       "2019-08-01 00:08:00    8\n",
       "2019-08-01 00:09:00    9\n",
       "Freq: T, dtype: int32"
      ]
     },
     "execution_count": 20,
     "metadata": {},
     "output_type": "execute_result"
    }
   ],
   "source": [
    "bymin = pd.Series(np.arange(0, 90*60*24), pd.date_range('2019-08-01', '2019-10-29 23:59:00',freq='T'))\n",
    "\n",
    "bymin[:10]"
   ]
  },
  {
   "cell_type": "markdown",
   "metadata": {},
   "source": [
    "This time-series allows us to use forms of slicing at finer resolution. \n",
    "\n",
    "Earlier, we saw slicing at day or month levels, but now we have a time-series with minute-based data that we can slice down to hours and minutes (and smaller intervals if we use finer frequencies):\n",
    "\n",
    "**``Recommended Extra Reading`` : https://towardsdatascience.com/basic-time-series-manipulation-with-pandas-4432afee64ea**"
   ]
  },
  {
   "cell_type": "code",
   "execution_count": 21,
   "metadata": {},
   "outputs": [
    {
     "data": {
      "text/plain": [
       "2019-08-01 12:30:00    750\n",
       "2019-08-01 12:31:00    751\n",
       "2019-08-01 12:32:00    752\n",
       "2019-08-01 12:33:00    753\n",
       "2019-08-01 12:34:00    754\n",
       "2019-08-01 12:35:00    755\n",
       "2019-08-01 12:36:00    756\n",
       "2019-08-01 12:37:00    757\n",
       "2019-08-01 12:38:00    758\n",
       "2019-08-01 12:39:00    759\n",
       "Freq: T, dtype: int32"
      ]
     },
     "execution_count": 21,
     "metadata": {},
     "output_type": "execute_result"
    }
   ],
   "source": [
    "bymin['2019-08-01 12:30':'2019-08-01 12:39']"
   ]
  },
  {
   "cell_type": "markdown",
   "metadata": {},
   "source": [
    "3. **``Representing intervals of time using periods``**\n",
    "\n",
    "It is often required to represent not just a specific time or sequence of timestamps, but to represent an interval of time using a start date and an end date (an example of this would be a financial quarter). This representation of a bounded interval of time can be represented in pandas using Period objects.\n",
    "Period objects consist of a start time and an end time and are created from a\n",
    "start date with a given frequency. The start time is referred to as the anchor of the Period object, and the end time is then calculated from the start date and the period specification."
   ]
  },
  {
   "cell_type": "code",
   "execution_count": 22,
   "metadata": {},
   "outputs": [
    {
     "data": {
      "text/plain": [
       "Period('2019-08', 'M')"
      ]
     },
     "execution_count": 22,
     "metadata": {},
     "output_type": "execute_result"
    }
   ],
   "source": [
    "# creates a period representing a 1-month period anchored in August 2019:\n",
    "aug2019 = pd.Period('2019-08', freq='M')\n",
    "aug2019"
   ]
  },
  {
   "cell_type": "code",
   "execution_count": 23,
   "metadata": {},
   "outputs": [
    {
     "data": {
      "text/plain": [
       "(Timestamp('2019-08-01 00:00:00'), Timestamp('2019-08-31 23:59:59.999999999'))"
      ]
     },
     "execution_count": 23,
     "metadata": {},
     "output_type": "execute_result"
    }
   ],
   "source": [
    "# The Period function has start_time and end_time properties \n",
    "# that inform us of the derived start and end times of Period:\n",
    "\n",
    "aug2019.start_time, aug2019.end_time"
   ]
  },
  {
   "cell_type": "code",
   "execution_count": 24,
   "metadata": {},
   "outputs": [
    {
     "data": {
      "text/plain": [
       "(Timestamp('2019-09-01 00:00:00'), Timestamp('2019-09-30 23:59:59.999999999'))"
      ]
     },
     "execution_count": 24,
     "metadata": {},
     "output_type": "execute_result"
    }
   ],
   "source": [
    "# simple Mathematical operations work on Period object\n",
    "sept2019 = aug2019+1\n",
    "\n",
    "sept2019.start_time, sept2019.end_time\n",
    "\n",
    "# Note : Period object has the ability to know that September has 30 days and \n",
    "# not 31. This is the advantage that the Period object has over simple addition."
   ]
  },
  {
   "cell_type": "markdown",
   "metadata": {},
   "source": [
    "Period objects are useful when combined into a collection referred to as a\n",
    "PeriodIndex. The following command creates a pandas PeriodIndex consisting of\n",
    "1-month intervals for the year of 2020 :"
   ]
  },
  {
   "cell_type": "code",
   "execution_count": 26,
   "metadata": {},
   "outputs": [
    {
     "data": {
      "text/plain": [
       "PeriodIndex(['2020-01', '2020-02', '2020-03', '2020-04', '2020-05', '2020-06',\n",
       "             '2020-07', '2020-08', '2020-09', '2020-10', '2020-11', '2020-12'],\n",
       "            dtype='period[M]', freq='M')"
      ]
     },
     "execution_count": 26,
     "metadata": {},
     "output_type": "execute_result"
    }
   ],
   "source": [
    "mp2020 = pd.period_range('1/1/2020', '12/31/2020', freq='M')\n",
    "mp2020"
   ]
  },
  {
   "cell_type": "code",
   "execution_count": 32,
   "metadata": {},
   "outputs": [
    {
     "name": "stdout",
     "output_type": "stream",
     "text": [
      "2020-01 <MonthEnd> 2020-01-01 00:00:00 2020-01-31 23:59:59.999999999\n",
      "2020-02 <MonthEnd> 2020-02-01 00:00:00 2020-02-29 23:59:59.999999999\n",
      "2020-03 <MonthEnd> 2020-03-01 00:00:00 2020-03-31 23:59:59.999999999\n",
      "2020-04 <MonthEnd> 2020-04-01 00:00:00 2020-04-30 23:59:59.999999999\n",
      "2020-05 <MonthEnd> 2020-05-01 00:00:00 2020-05-31 23:59:59.999999999\n",
      "2020-06 <MonthEnd> 2020-06-01 00:00:00 2020-06-30 23:59:59.999999999\n",
      "2020-07 <MonthEnd> 2020-07-01 00:00:00 2020-07-31 23:59:59.999999999\n",
      "2020-08 <MonthEnd> 2020-08-01 00:00:00 2020-08-31 23:59:59.999999999\n",
      "2020-09 <MonthEnd> 2020-09-01 00:00:00 2020-09-30 23:59:59.999999999\n",
      "2020-10 <MonthEnd> 2020-10-01 00:00:00 2020-10-31 23:59:59.999999999\n",
      "2020-11 <MonthEnd> 2020-11-01 00:00:00 2020-11-30 23:59:59.999999999\n",
      "2020-12 <MonthEnd> 2020-12-01 00:00:00 2020-12-31 23:59:59.999999999\n"
     ]
    }
   ],
   "source": [
    "# A PeriodIndex differs from a DatetimeIndex in that in a PeriodIndex, \n",
    "# the index labels are Period objects:\n",
    "\n",
    "for p in mp2020:\n",
    " print(\"{0} {1} {2} {3}\".format(p, p.freq, p.start_time, p.end_time))"
   ]
  },
  {
   "cell_type": "code",
   "execution_count": 33,
   "metadata": {},
   "outputs": [
    {
     "data": {
      "text/plain": [
       "2020-01    0.469112\n",
       "2020-02   -0.282863\n",
       "2020-03   -1.509059\n",
       "2020-04   -1.135632\n",
       "2020-05    1.212112\n",
       "2020-06   -0.173215\n",
       "2020-07    0.119209\n",
       "2020-08   -1.044236\n",
       "Freq: M, dtype: float64"
      ]
     },
     "execution_count": 33,
     "metadata": {},
     "output_type": "execute_result"
    }
   ],
   "source": [
    "# With a PeriodIndex, we can then construct a Series using it as the index:\n",
    "np.random.seed(123456)\n",
    "ps = pd.Series(np.random.randn(12), mp2020)\n",
    "ps[:8]"
   ]
  },
  {
   "cell_type": "markdown",
   "metadata": {},
   "source": [
    "**4.** ``Shifting and lagging time-series data``\n",
    "\n",
    "A common operation on time-series data is to shift or \"lag\" the values back and\n",
    "forward in time, such as to calculate percentage change from sample to sample. The pandas method for this is .shift(), which will shift the values in the index by a specified number of units of the index's period."
   ]
  },
  {
   "cell_type": "code",
   "execution_count": 36,
   "metadata": {},
   "outputs": [
    {
     "data": {
      "text/plain": [
       "2020-01         NaN\n",
       "2020-02    0.469112\n",
       "2020-03   -0.282863\n",
       "2020-04   -1.509059\n",
       "2020-05   -1.135632\n",
       "Freq: M, dtype: float64"
      ]
     },
     "execution_count": 36,
     "metadata": {},
     "output_type": "execute_result"
    }
   ],
   "source": [
    "# The following command shifts the values forward by 1 unit :\n",
    "# here 1 unit is 1 Month\n",
    "\n",
    "shifted_forward = ps.shift(1)\n",
    "shifted_forward[:5]\n"
   ]
  },
  {
   "cell_type": "code",
   "execution_count": 39,
   "metadata": {},
   "outputs": [
    {
     "data": {
      "text/plain": [
       "2020-08   -0.861849\n",
       "2020-09   -2.104569\n",
       "2020-10   -0.494929\n",
       "2020-11    1.071804\n",
       "2020-12         NaN\n",
       "Freq: M, dtype: float64"
      ]
     },
     "execution_count": 39,
     "metadata": {},
     "output_type": "execute_result"
    }
   ],
   "source": [
    "# It is also possible to shift values in the opposite direction. \n",
    "# The following command demonstrates this by shifting the Series by -1:\n",
    "\n",
    "\n",
    "shifted_forward = ps.shift(-1)\n",
    "shifted_forward[-5:]\n"
   ]
  },
  {
   "cell_type": "markdown",
   "metadata": {},
   "source": [
    "**5.** ``Frequency conversion of time-series data``\n",
    "\n",
    "The frequency of the data in a time-series can be converted in pandas using the\n",
    ".asfreq() method of a Series or DataFrame."
   ]
  },
  {
   "cell_type": "code",
   "execution_count": 40,
   "metadata": {},
   "outputs": [
    {
     "data": {
      "text/html": [
       "<div>\n",
       "<style scoped>\n",
       "    .dataframe tbody tr th:only-of-type {\n",
       "        vertical-align: middle;\n",
       "    }\n",
       "\n",
       "    .dataframe tbody tr th {\n",
       "        vertical-align: top;\n",
       "    }\n",
       "\n",
       "    .dataframe thead th {\n",
       "        text-align: right;\n",
       "    }\n",
       "</style>\n",
       "<table border=\"1\" class=\"dataframe\">\n",
       "  <thead>\n",
       "    <tr style=\"text-align: right;\">\n",
       "      <th></th>\n",
       "      <th>Col_1</th>\n",
       "    </tr>\n",
       "  </thead>\n",
       "  <tbody>\n",
       "    <tr>\n",
       "      <th>2019-01-06</th>\n",
       "      <td>0.0</td>\n",
       "    </tr>\n",
       "    <tr>\n",
       "      <th>2019-01-13</th>\n",
       "      <td>NaN</td>\n",
       "    </tr>\n",
       "    <tr>\n",
       "      <th>2019-01-20</th>\n",
       "      <td>2.0</td>\n",
       "    </tr>\n",
       "  </tbody>\n",
       "</table>\n",
       "</div>"
      ],
      "text/plain": [
       "            Col_1\n",
       "2019-01-06    0.0\n",
       "2019-01-13    NaN\n",
       "2019-01-20    2.0"
      ]
     },
     "execution_count": 40,
     "metadata": {},
     "output_type": "execute_result"
    }
   ],
   "source": [
    "# Creating a date_time from index  \n",
    "index_values = (pd.date_range('1/1/2019',periods=3,freq='W')) \n",
    "  \n",
    "# Creating a series using 'index_values' \n",
    "# Notice, one of the series value is nan value \n",
    "series = (pd.Series([0.0,None,2.0], index=index_values)) \n",
    "  \n",
    "# Creating dataframe using the series \n",
    "df=pd.DataFrame({\"Col_1\":series}) \n",
    "  \n",
    "# Print the Dataframe \n",
    "df "
   ]
  },
  {
   "cell_type": "code",
   "execution_count": 43,
   "metadata": {},
   "outputs": [
    {
     "data": {
      "text/html": [
       "<div>\n",
       "<style scoped>\n",
       "    .dataframe tbody tr th:only-of-type {\n",
       "        vertical-align: middle;\n",
       "    }\n",
       "\n",
       "    .dataframe tbody tr th {\n",
       "        vertical-align: top;\n",
       "    }\n",
       "\n",
       "    .dataframe thead th {\n",
       "        text-align: right;\n",
       "    }\n",
       "</style>\n",
       "<table border=\"1\" class=\"dataframe\">\n",
       "  <thead>\n",
       "    <tr style=\"text-align: right;\">\n",
       "      <th></th>\n",
       "      <th>Col_1</th>\n",
       "    </tr>\n",
       "  </thead>\n",
       "  <tbody>\n",
       "    <tr>\n",
       "      <th>2019-01-06</th>\n",
       "      <td>0.0</td>\n",
       "    </tr>\n",
       "    <tr>\n",
       "      <th>2019-01-07</th>\n",
       "      <td>9.0</td>\n",
       "    </tr>\n",
       "    <tr>\n",
       "      <th>2019-01-08</th>\n",
       "      <td>9.0</td>\n",
       "    </tr>\n",
       "    <tr>\n",
       "      <th>2019-01-09</th>\n",
       "      <td>9.0</td>\n",
       "    </tr>\n",
       "    <tr>\n",
       "      <th>2019-01-10</th>\n",
       "      <td>9.0</td>\n",
       "    </tr>\n",
       "    <tr>\n",
       "      <th>2019-01-11</th>\n",
       "      <td>9.0</td>\n",
       "    </tr>\n",
       "    <tr>\n",
       "      <th>2019-01-12</th>\n",
       "      <td>9.0</td>\n",
       "    </tr>\n",
       "    <tr>\n",
       "      <th>2019-01-13</th>\n",
       "      <td>NaN</td>\n",
       "    </tr>\n",
       "    <tr>\n",
       "      <th>2019-01-14</th>\n",
       "      <td>9.0</td>\n",
       "    </tr>\n",
       "    <tr>\n",
       "      <th>2019-01-15</th>\n",
       "      <td>9.0</td>\n",
       "    </tr>\n",
       "    <tr>\n",
       "      <th>2019-01-16</th>\n",
       "      <td>9.0</td>\n",
       "    </tr>\n",
       "    <tr>\n",
       "      <th>2019-01-17</th>\n",
       "      <td>9.0</td>\n",
       "    </tr>\n",
       "    <tr>\n",
       "      <th>2019-01-18</th>\n",
       "      <td>9.0</td>\n",
       "    </tr>\n",
       "    <tr>\n",
       "      <th>2019-01-19</th>\n",
       "      <td>9.0</td>\n",
       "    </tr>\n",
       "    <tr>\n",
       "      <th>2019-01-20</th>\n",
       "      <td>2.0</td>\n",
       "    </tr>\n",
       "  </tbody>\n",
       "</table>\n",
       "</div>"
      ],
      "text/plain": [
       "            Col_1\n",
       "2019-01-06    0.0\n",
       "2019-01-07    9.0\n",
       "2019-01-08    9.0\n",
       "2019-01-09    9.0\n",
       "2019-01-10    9.0\n",
       "2019-01-11    9.0\n",
       "2019-01-12    9.0\n",
       "2019-01-13    NaN\n",
       "2019-01-14    9.0\n",
       "2019-01-15    9.0\n",
       "2019-01-16    9.0\n",
       "2019-01-17    9.0\n",
       "2019-01-18    9.0\n",
       "2019-01-19    9.0\n",
       "2019-01-20    2.0"
      ]
     },
     "execution_count": 43,
     "metadata": {},
     "output_type": "execute_result"
    }
   ],
   "source": [
    "# Now unsample this weekly sampled data into daily sampled data. \n",
    "# By default newly created bins will have nan value. \n",
    "# So, use fill_value parameter to fill all newly created bins \n",
    "# with a provided value.\n",
    "\n",
    "# unsampling and providing a fill value = 9.0 \n",
    "df.asfreq(freq ='D', fill_value = 9.0)"
   ]
  },
  {
   "cell_type": "code",
   "execution_count": 44,
   "metadata": {},
   "outputs": [
    {
     "data": {
      "text/html": [
       "<div>\n",
       "<style scoped>\n",
       "    .dataframe tbody tr th:only-of-type {\n",
       "        vertical-align: middle;\n",
       "    }\n",
       "\n",
       "    .dataframe tbody tr th {\n",
       "        vertical-align: top;\n",
       "    }\n",
       "\n",
       "    .dataframe thead th {\n",
       "        text-align: right;\n",
       "    }\n",
       "</style>\n",
       "<table border=\"1\" class=\"dataframe\">\n",
       "  <thead>\n",
       "    <tr style=\"text-align: right;\">\n",
       "      <th></th>\n",
       "      <th>Col_1</th>\n",
       "    </tr>\n",
       "  </thead>\n",
       "  <tbody>\n",
       "    <tr>\n",
       "      <th>2019-01-01 00:00:00</th>\n",
       "      <td>0.0</td>\n",
       "    </tr>\n",
       "    <tr>\n",
       "      <th>2019-01-01 00:01:00</th>\n",
       "      <td>1.0</td>\n",
       "    </tr>\n",
       "    <tr>\n",
       "      <th>2019-01-01 00:02:00</th>\n",
       "      <td>NaN</td>\n",
       "    </tr>\n",
       "  </tbody>\n",
       "</table>\n",
       "</div>"
      ],
      "text/plain": [
       "                     Col_1\n",
       "2019-01-01 00:00:00    0.0\n",
       "2019-01-01 00:01:00    1.0\n",
       "2019-01-01 00:02:00    NaN"
      ]
     },
     "execution_count": 44,
     "metadata": {},
     "output_type": "execute_result"
    }
   ],
   "source": [
    "# Example #2: Unsample a one minute timestamped data into 30s bins.\n",
    "\n",
    "# First create a series with 3 one minute timestamps.\n",
    "# Creating a date_time form index  \n",
    "index_values = (pd.date_range('1/1/2019', periods=3,freq='T')) \n",
    "  \n",
    "# Creating a series using 'index_values' \n",
    "# Notice, one of the series value is nan value \n",
    "series = (pd.Series([0.0,1.0,None], index=index_values)) \n",
    "  \n",
    "# Creating dataframe using the series \n",
    "df=pd.DataFrame({\"Col_1\":series}) \n",
    "  \n",
    "# Print the Dataframe \n",
    "df "
   ]
  },
  {
   "cell_type": "code",
   "execution_count": 45,
   "metadata": {},
   "outputs": [
    {
     "data": {
      "text/html": [
       "<div>\n",
       "<style scoped>\n",
       "    .dataframe tbody tr th:only-of-type {\n",
       "        vertical-align: middle;\n",
       "    }\n",
       "\n",
       "    .dataframe tbody tr th {\n",
       "        vertical-align: top;\n",
       "    }\n",
       "\n",
       "    .dataframe thead th {\n",
       "        text-align: right;\n",
       "    }\n",
       "</style>\n",
       "<table border=\"1\" class=\"dataframe\">\n",
       "  <thead>\n",
       "    <tr style=\"text-align: right;\">\n",
       "      <th></th>\n",
       "      <th>Col_1</th>\n",
       "    </tr>\n",
       "  </thead>\n",
       "  <tbody>\n",
       "    <tr>\n",
       "      <th>2019-01-01 00:00:00</th>\n",
       "      <td>0.0</td>\n",
       "    </tr>\n",
       "    <tr>\n",
       "      <th>2019-01-01 00:00:30</th>\n",
       "      <td>100.0</td>\n",
       "    </tr>\n",
       "    <tr>\n",
       "      <th>2019-01-01 00:01:00</th>\n",
       "      <td>1.0</td>\n",
       "    </tr>\n",
       "    <tr>\n",
       "      <th>2019-01-01 00:01:30</th>\n",
       "      <td>100.0</td>\n",
       "    </tr>\n",
       "    <tr>\n",
       "      <th>2019-01-01 00:02:00</th>\n",
       "      <td>NaN</td>\n",
       "    </tr>\n",
       "  </tbody>\n",
       "</table>\n",
       "</div>"
      ],
      "text/plain": [
       "                     Col_1\n",
       "2019-01-01 00:00:00    0.0\n",
       "2019-01-01 00:00:30  100.0\n",
       "2019-01-01 00:01:00    1.0\n",
       "2019-01-01 00:01:30  100.0\n",
       "2019-01-01 00:02:00    NaN"
      ]
     },
     "execution_count": 45,
     "metadata": {},
     "output_type": "execute_result"
    }
   ],
   "source": [
    "# Now Unsampling into 30-second bins and providing a fill_value of 100.0\n",
    "df.asfreq(freq ='30S', fill_value = 100.0) "
   ]
  },
  {
   "cell_type": "markdown",
   "metadata": {},
   "source": [
    "**Self Try out method='bfill'  --> backward fill**\n",
    "\n",
    "scans from last to first\n",
    "\n",
    "\n",
    "``df.asfreq(freq ='30S', method='bfill')`` \n",
    "\n",
    "**and method='ffill'  --> forward fill**\n",
    "\n",
    "scans from first to last\n",
    "\n",
    "``df.asfreq(freq ='30S', method='ffill')`` "
   ]
  },
  {
   "cell_type": "code",
   "execution_count": 46,
   "metadata": {},
   "outputs": [
    {
     "data": {
      "text/html": [
       "<div>\n",
       "<style scoped>\n",
       "    .dataframe tbody tr th:only-of-type {\n",
       "        vertical-align: middle;\n",
       "    }\n",
       "\n",
       "    .dataframe tbody tr th {\n",
       "        vertical-align: top;\n",
       "    }\n",
       "\n",
       "    .dataframe thead th {\n",
       "        text-align: right;\n",
       "    }\n",
       "</style>\n",
       "<table border=\"1\" class=\"dataframe\">\n",
       "  <thead>\n",
       "    <tr style=\"text-align: right;\">\n",
       "      <th></th>\n",
       "      <th>Col_1</th>\n",
       "    </tr>\n",
       "  </thead>\n",
       "  <tbody>\n",
       "    <tr>\n",
       "      <th>2019-01-01 00:00:00</th>\n",
       "      <td>0.0</td>\n",
       "    </tr>\n",
       "    <tr>\n",
       "      <th>2019-01-01 00:00:30</th>\n",
       "      <td>0.0</td>\n",
       "    </tr>\n",
       "    <tr>\n",
       "      <th>2019-01-01 00:01:00</th>\n",
       "      <td>1.0</td>\n",
       "    </tr>\n",
       "    <tr>\n",
       "      <th>2019-01-01 00:01:30</th>\n",
       "      <td>1.0</td>\n",
       "    </tr>\n",
       "    <tr>\n",
       "      <th>2019-01-01 00:02:00</th>\n",
       "      <td>NaN</td>\n",
       "    </tr>\n",
       "  </tbody>\n",
       "</table>\n",
       "</div>"
      ],
      "text/plain": [
       "                     Col_1\n",
       "2019-01-01 00:00:00    0.0\n",
       "2019-01-01 00:00:30    0.0\n",
       "2019-01-01 00:01:00    1.0\n",
       "2019-01-01 00:01:30    1.0\n",
       "2019-01-01 00:02:00    NaN"
      ]
     },
     "execution_count": 46,
     "metadata": {},
     "output_type": "execute_result"
    }
   ],
   "source": [
    "forward_fill=df.asfreq(freq ='30S', method='ffill')"
   ]
  },
  {
   "cell_type": "code",
   "execution_count": 48,
   "metadata": {},
   "outputs": [
    {
     "name": "stdout",
     "output_type": "stream",
     "text": [
      "                     Col_1\n",
      "2019-01-01 00:00:00    0.0\n",
      "2019-01-01 00:00:30    1.0\n",
      "2019-01-01 00:01:00    1.0\n",
      "2019-01-01 00:01:30    NaN\n",
      "2019-01-01 00:02:00    NaN\n"
     ]
    }
   ],
   "source": [
    "backward_fill=df.asfreq(freq ='30S', method='bfill')\n",
    "print(backward_fill)"
   ]
  },
  {
   "cell_type": "markdown",
   "metadata": {},
   "source": [
    "**6.** ``Resampling of time-series``\n",
    "\n",
    "Frequency conversion provides basic conversion of data using the new frequency\n",
    "intervals and allows the filling of missing data using either NaN, forward filling, or backward filling. \n",
    "\n",
    "More elaborate control is provided through the process of resampling.\n",
    "**(as seen in above code samples)**\n",
    "\n",
    "**``Resampling``** can be either ``downsampling``, where data is converted to wider frequency ranges (such as downsampling from day-to-day to month-to-month)\n",
    "or ``upsampling``, where data is converted to narrower time ranges. Data for the associated labels are then calculated by a function provided to pandas instead of simple filling."
   ]
  },
  {
   "cell_type": "markdown",
   "metadata": {},
   "source": [
    "**Must Read**  : ``difference-between-asfreq-and-resample``\n",
    "\n",
    "https://stackoverflow.com/questions/18060619/difference-between-asfreq-and-resample"
   ]
  },
  {
   "cell_type": "markdown",
   "metadata": {},
   "source": [
    "**A simple ``meaningful example on resample`` :**  ( 8-10 mins read )\n",
    "\n",
    "Resampling time series data with pandas : http://benalexkeen.com/resampling-time-series-data-with-pandas/"
   ]
  },
  {
   "cell_type": "markdown",
   "metadata": {},
   "source": [
    "**For Future Reference :**\n",
    "\n",
    "> In terms of date ranges, the following is a table for common time period options when resampling a time series:"
   ]
  },
  {
   "cell_type": "markdown",
   "metadata": {},
   "source": [
    "<img src=\"img/timePeriods_freqValues.jpg\">\n"
   ]
  }
 ],
 "metadata": {
  "kernelspec": {
   "display_name": "Python 3",
   "language": "python",
   "name": "python3"
  },
  "language_info": {
   "codemirror_mode": {
    "name": "ipython",
    "version": 3
   },
   "file_extension": ".py",
   "mimetype": "text/x-python",
   "name": "python",
   "nbconvert_exporter": "python",
   "pygments_lexer": "ipython3",
   "version": "3.6.5"
  }
 },
 "nbformat": 4,
 "nbformat_minor": 2
}
