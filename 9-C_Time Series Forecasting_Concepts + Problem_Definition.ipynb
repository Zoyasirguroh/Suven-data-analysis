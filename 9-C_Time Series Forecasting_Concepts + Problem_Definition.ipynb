{
 "cells": [
  {
   "cell_type": "markdown",
   "metadata": {},
   "source": [
    "We will work through a time series forecasting project from end-to-end, from loading the dataset and defining the problem to training a final model and making predictions."
   ]
  },
  {
   "cell_type": "markdown",
   "metadata": {},
   "source": [
    "Set up the Environment\n",
    "--\n",
    "This project, assumes that you have installed and working with :\n",
    "> SciPy\n",
    "\n",
    "> NumPy\n",
    "\n",
    "> Matplotlib\n",
    "\n",
    "> Pandas\n",
    "\n",
    "> scikit-learn\n",
    "\n",
    "> statsmodels"
   ]
  },
  {
   "cell_type": "code",
   "execution_count": 1,
   "metadata": {},
   "outputs": [
    {
     "name": "stdout",
     "output_type": "stream",
     "text": [
      "scipy: 1.4.1\n",
      "numpy: 1.18.0\n",
      "matplotlib: 3.1.2\n",
      "pandas: 0.25.3\n",
      "sklearn: 0.22.1\n",
      "statsmodels: 0.11.0\n"
     ]
    }
   ],
   "source": [
    "# scipy\n",
    "import scipy\n",
    "print('scipy: %s' % scipy.__version__)\n",
    "# numpy\n",
    "import numpy\n",
    "print('numpy: %s' % numpy.__version__)\n",
    "# matplotlib\n",
    "import matplotlib\n",
    "print('matplotlib: %s' % matplotlib.__version__)\n",
    "# pandas\n",
    "import pandas\n",
    "print('pandas: %s' % pandas.__version__)\n",
    "# scikit-learn\n",
    "import sklearn\n",
    "print('sklearn: %s' % sklearn.__version__)\n",
    "# statsmodels\n",
    "import statsmodels\n",
    "print('statsmodels: %s' % statsmodels.__version__)"
   ]
  },
  {
   "cell_type": "markdown",
   "metadata": {},
   "source": [
    "Problem Description\n",
    "--\n",
    "**The problem is to predict annual water usage.**\n",
    "\n",
    "The dataset provides the annual water usage in Baltimore from 1885 to 1963, or 79 years of data."
   ]
  },
  {
   "cell_type": "code",
   "execution_count": 4,
   "metadata": {},
   "outputs": [
    {
     "data": {
      "text/html": [
       "<div>\n",
       "<style scoped>\n",
       "    .dataframe tbody tr th:only-of-type {\n",
       "        vertical-align: middle;\n",
       "    }\n",
       "\n",
       "    .dataframe tbody tr th {\n",
       "        vertical-align: top;\n",
       "    }\n",
       "\n",
       "    .dataframe thead th {\n",
       "        text-align: right;\n",
       "    }\n",
       "</style>\n",
       "<table border=\"1\" class=\"dataframe\">\n",
       "  <thead>\n",
       "    <tr style=\"text-align: right;\">\n",
       "      <th></th>\n",
       "      <th>Water</th>\n",
       "    </tr>\n",
       "    <tr>\n",
       "      <th>Year</th>\n",
       "      <th></th>\n",
       "    </tr>\n",
       "  </thead>\n",
       "  <tbody>\n",
       "    <tr>\n",
       "      <th>1885</th>\n",
       "      <td>356</td>\n",
       "    </tr>\n",
       "    <tr>\n",
       "      <th>1886</th>\n",
       "      <td>386</td>\n",
       "    </tr>\n",
       "    <tr>\n",
       "      <th>1887</th>\n",
       "      <td>397</td>\n",
       "    </tr>\n",
       "    <tr>\n",
       "      <th>1888</th>\n",
       "      <td>397</td>\n",
       "    </tr>\n",
       "    <tr>\n",
       "      <th>1889</th>\n",
       "      <td>413</td>\n",
       "    </tr>\n",
       "  </tbody>\n",
       "</table>\n",
       "</div>"
      ],
      "text/plain": [
       "      Water\n",
       "Year       \n",
       "1885    356\n",
       "1886    386\n",
       "1887    397\n",
       "1888    397\n",
       "1889    413"
      ]
     },
     "execution_count": 4,
     "metadata": {},
     "output_type": "execute_result"
    }
   ],
   "source": [
    "from pandas import read_csv\n",
    "\n",
    "series = read_csv('C:\\Program Files/Python36/suven/Data Anaylsis/Dataset/yearly-water-usage.csv',index_col=0)\n",
    "\n",
    "series.head()"
   ]
  },
  {
   "cell_type": "code",
   "execution_count": 5,
   "metadata": {},
   "outputs": [
    {
     "name": "stdout",
     "output_type": "stream",
     "text": [
      "<class 'pandas.core.frame.DataFrame'>\n",
      "Int64Index: 79 entries, 1885 to 1963\n",
      "Data columns (total 1 columns):\n",
      "Water    79 non-null int64\n",
      "dtypes: int64(1)\n",
      "memory usage: 1.2 KB\n"
     ]
    }
   ],
   "source": [
    "series.info()  # Note : Yearly data from 1885 to 1963"
   ]
  },
  {
   "cell_type": "markdown",
   "metadata": {},
   "source": [
    "Test Harness\n",
    "--\n",
    "\n",
    "We must develop a test harness(*i.e a test data*) to investigate the data and evaluate candidate models.\n",
    "\n",
    "This involves two steps:\n",
    "1. Defining a Validation Dataset.\n",
    "\n",
    "2. Developing a Method for Model Evaluation.\n",
    "\n",
    "**1. Validation Dataset**\n",
    "\n",
    "The dataset is not current. This means that we cannot easily collect updated data to validate the model.\n",
    "\n",
    "Therefore, we will pretend that it is 1953 and withhold the last 10 years of data from analysis and model selection.\n",
    "\n",
    "This final decade of data will be used to validate the final model.\n",
    "\n",
    "The code below will load the dataset as a Pandas Series and split into two, one for model development (dataset.csv) and the other for validation (validation.csv)."
   ]
  },
  {
   "cell_type": "code",
   "execution_count": 7,
   "metadata": {},
   "outputs": [
    {
     "name": "stdout",
     "output_type": "stream",
     "text": [
      "Dataset 69, Validation 10\n"
     ]
    }
   ],
   "source": [
    "from pandas import read_csv\n",
    "\n",
    "split_point = len(series) - 10\n",
    "\n",
    "dataset, validation = series[0:split_point], series[split_point:]\n",
    "print('Dataset %d, Validation %d' % (len(dataset), len(validation)))\n",
    "\n",
    "dataset.to_csv('C:\\Program Files/Python36/suven/Data Anaylsis/Dataset/dataset.csv', index=False)\n",
    "validation.to_csv('C:\\Program Files/Python36/suven/Data Anaylsis/Dataset/validation.csv', index=False)"
   ]
  },
  {
   "cell_type": "markdown",
   "metadata": {},
   "source": [
    "The specific contents of these files are:\n",
    "*dataset.csv: Observations from 1885 to 1953 (69 observations).*\n",
    "*validation.csv: Observations from 1954 to 1963 (10 observations).*\n",
    "**The validation dataset is about 12% of the original dataset.**\n",
    "\n"
   ]
  },
  {
   "cell_type": "markdown",
   "metadata": {},
   "source": [
    "**2. Model Evaluation**\n",
    "\n",
    "Model evaluation will only be performed on the data in *dataset.csv* prepared in the previous section.\n",
    "\n",
    "Model evaluation involves two elements:\n",
    "\n",
    "> 1. Performance Measure.\n",
    "\n",
    "> 2. Test Strategy."
   ]
  },
  {
   "cell_type": "markdown",
   "metadata": {},
   "source": [
    "**2. 1 Performance Measure**\n",
    "\n",
    "We will evaluate the performance of predictions using the **`root mean squared error (RMSE).`**\n",
    "\n",
    "*This gives us a `baseline`, that the Model we make should atleast have less or equal to RMSE*\n",
    "\n",
    "**schematic of the code :**\n",
    "\n",
    "`from sklearn.metrics import mean_squared_error\n",
    "from math import sqrt\n",
    "...\n",
    "test = ...\n",
    "predictions = ...\n",
    "mse = mean_squared_error(test, predictions)\n",
    "rmse = sqrt(mse)\n",
    "print('RMSE: %.3f' % rmse)`"
   ]
  },
  {
   "cell_type": "markdown",
   "metadata": {},
   "source": [
    "2.2 **Test Strategy**\n",
    "\n",
    "Candidate models will be evaluated using **`walk-forward validation.`** (*In walk-forward validation method each time step in the test dataset will be enumerated, a model constructed on history data, and the forecast compared to the expected value. The observation will then be added to the training dataset and the process repeated. Walk-Forward validation creates a **`rolling-forecast type`** model as well it is a realistic way to evaluate time series forecast models as one would expect models to be updated as new observations are made available.*)\n",
    "\n",
    "A **`rolling-forecast type`** model is best for **Time series**. This is where one-step forecasts are needed given all available data.\n",
    "\n",
    "The **walk-forward validation** will work as follows:\n",
    "\n",
    "1. The first 50% of the dataset will be used to train the model.\n",
    "\n",
    "2. The remaining 50% of the dataset will be iterated to test the model.\n",
    "\n",
    "**`For each step in the test dataset:`** (see code sample below *first*)\n",
    "\n",
    "1. A model will be trained.\n",
    "\n",
    "2. A one-step prediction made and the prediction stored for later evaluation.\n",
    "\n",
    "3. The actual observation from the test dataset will be added to the training dataset for the next iteration.\n",
    "\n",
    "4. The predictions made during the enumeration of the test dataset will be evaluated and an RMSE score reported.\n",
    "\n",
    "5. Given the small size of the data, we will allow a model to be re-trained given all available data prior to each prediction."
   ]
  },
  {
   "cell_type": "code",
   "execution_count": 8,
   "metadata": {},
   "outputs": [],
   "source": [
    "# prepare data. spliting into train and test set\n",
    "X = series.values\n",
    "X = X.astype('float32')\n",
    "# Always convert a loaded dataset to float32 in case the loaded data \n",
    "# still has some String or Integer data types.\n",
    "\n",
    "train_size = int(len(X) * 0.50)\n",
    "train, test = X[0:train_size], X[train_size:]"
   ]
  },
  {
   "cell_type": "raw",
   "metadata": {},
   "source": [
    "#-------------- code structure ----------------------- #\n",
    "## ---------- walk-forward validation ---------------- #\n",
    "\n",
    "history = [x for x in train]\n",
    "\n",
    "predictions = list()\n",
    "\n",
    "for i in range(len(test)):\n",
    "    # predicting test[i] and storing it in yhat\n",
    "    yhat = ...\n",
    "    predictions.append(yhat)\n",
    "\t\n",
    "    # observation\n",
    "    obs = test[i] #storing actual test[i] in observation\n",
    "    history.append(obs)\n",
    "    print('>Predicted=%.3f, Expected=%3.f' % (yhat, obs))\n",
    "    \n",
    "# Note : The actual observation from the test dataset will be added \n",
    "# to the training dataset for the next iteration."
   ]
  },
  {
   "cell_type": "markdown",
   "metadata": {},
   "source": [
    "**Baseline prediction or Persistance**\n",
    "\n",
    " Baseline prediction for time series forecasting is called the naive forecast, or persistence. This is where the observation from the current time step is used as the prediction for the observation at the next time step. (refer step 2.1 once )"
   ]
  },
  {
   "cell_type": "code",
   "execution_count": 9,
   "metadata": {},
   "outputs": [
    {
     "name": "stdout",
     "output_type": "stream",
     "text": [
      ">Predicted=  [492.] Expected=  [503.]\n",
      ">Predicted=  [503.] Expected=  [503.]\n",
      ">Predicted=  [503.] Expected=  [450.]\n",
      ">Predicted=  [450.] Expected=  [432.]\n",
      ">Predicted=  [432.] Expected=  [432.]\n",
      ">Predicted=  [432.] Expected=  [458.]\n",
      ">Predicted=  [458.] Expected=  [462.]\n",
      ">Predicted=  [462.] Expected=  [503.]\n",
      ">Predicted=  [503.] Expected=  [488.]\n",
      ">Predicted=  [488.] Expected=  [466.]\n",
      ">Predicted=  [466.] Expected=  [492.]\n",
      ">Predicted=  [492.] Expected=  [503.]\n",
      ">Predicted=  [503.] Expected=  [515.]\n",
      ">Predicted=  [515.] Expected=  [500.]\n",
      ">Predicted=  [500.] Expected=  [522.]\n",
      ">Predicted=  [522.] Expected=  [575.]\n",
      ">Predicted=  [575.] Expected=  [583.]\n",
      ">Predicted=  [583.] Expected=  [587.]\n",
      ">Predicted=  [587.] Expected=  [628.]\n",
      ">Predicted=  [628.] Expected=  [640.]\n",
      ">Predicted=  [640.] Expected=  [609.]\n",
      ">Predicted=  [609.] Expected=  [606.]\n",
      ">Predicted=  [606.] Expected=  [632.]\n",
      ">Predicted=  [632.] Expected=  [617.]\n",
      ">Predicted=  [617.] Expected=  [613.]\n",
      ">Predicted=  [613.] Expected=  [598.]\n",
      ">Predicted=  [598.] Expected=  [575.]\n",
      ">Predicted=  [575.] Expected=  [564.]\n",
      ">Predicted=  [564.] Expected=  [549.]\n",
      ">Predicted=  [549.] Expected=  [538.]\n",
      ">Predicted=  [538.] Expected=  [568.]\n",
      ">Predicted=  [568.] Expected=  [575.]\n",
      ">Predicted=  [575.] Expected=  [579.]\n",
      ">Predicted=  [579.] Expected=  [587.]\n",
      ">Predicted=  [587.] Expected=  [602.]\n",
      ">Predicted=  [602.] Expected=  [594.]\n",
      ">Predicted=  [594.] Expected=  [587.]\n",
      ">Predicted=  [587.] Expected=  [587.]\n",
      ">Predicted=  [587.] Expected=  [625.]\n",
      ">Predicted=  [625.] Expected=  [613.]\n",
      "RMSE: 21.658\n"
     ]
    }
   ],
   "source": [
    "from pandas import read_csv\n",
    "from sklearn.metrics import mean_squared_error\n",
    "from math import sqrt\n",
    "import numpy as np\n",
    "\n",
    "# load data\n",
    "series = read_csv('C:\\Program Files/Python36/suven/Data Anaylsis/Dataset/yearly-water-usage.csv', index_col=0)\n",
    "\n",
    "# prepare data\n",
    "X = series.values\n",
    "X = X.astype('float32')\n",
    "train_size = int(len(X) * 0.50)\n",
    "train, test = X[0:train_size], X[train_size:]\n",
    "\n",
    "# walk-forward validation\n",
    "history = [x for x in train]\n",
    "predictions = list()\n",
    "for i in range(len(test)):\n",
    "\t# predict\n",
    "\tyhat = history[-1] # using the last i.e 69th record to predict 70th record\n",
    "\tpredictions.append(yhat)\n",
    "\n",
    "    # observation\n",
    "\tobs = test[i]\n",
    "\thistory.append(obs)\n",
    "\tprint('>Predicted= ' ,yhat, 'Expected= ', obs)\n",
    "\n",
    "# report performance\n",
    "mse = mean_squared_error(test, predictions)\n",
    "rmse = sqrt(mse)\n",
    "print('RMSE: %.3f' % rmse)"
   ]
  },
  {
   "cell_type": "markdown",
   "metadata": {},
   "source": [
    "In this above case, we can see that the `persistence model` achieved an RMSE of 21.658. **This means that on average, the model was wrong by about 22 liters per capita per day for each prediction made.**"
   ]
  },
  {
   "cell_type": "markdown",
   "metadata": {},
   "source": [
    "Check does data has trend and /or Seasonality ?\n",
    "--\n",
    " The best way `to find the Trend or Seasonality`is to plot a Line graph,  of the time series dataset.\n",
    " \n",
    " Accordingly then we can check whether the data is **`STATIONARY` or not**."
   ]
  },
  {
   "cell_type": "code",
   "execution_count": 10,
   "metadata": {},
   "outputs": [
    {
     "data": {
      "image/png": "[encoded data removed]",
      "text/plain": [
       "<Figure size 432x288 with 1 Axes>"
      ]
     },
     "metadata": {
      "needs_background": "light"
     },
     "output_type": "display_data"
    }
   ],
   "source": [
    "from pandas import read_csv\n",
    "from matplotlib import pyplot\n",
    "\n",
    "series.plot();\n",
    "pyplot.show();\n",
    "\n"
   ]
  },
  {
   "cell_type": "markdown",
   "metadata": {},
   "source": [
    "1. There looks to be an **increasing trend** in water usage over time.\n",
    "\n",
    "2. There do not appear to be any obvious outliers, although there are some large fluctuations.\n",
    "\n",
    "3. There is a downward trend for the periods 1915 to 1930, 1945 to 1955."
   ]
  },
  {
   "cell_type": "markdown",
   "metadata": {},
   "source": [
    "Analysis of the time series data assumes that we are working with a **stationary time series.** ( `as explained in NB 9_B` )\n",
    "\n",
    "The time series is likely non-stationary. We can **`make it stationary by first differencing the series and using a statistical test to confirm that the result is stationary.`**\n",
    "\n",
    "The example below creates a stationary version of the series and saves it to file stationary.csv."
   ]
  },
  {
   "cell_type": "code",
   "execution_count": 14,
   "metadata": {},
   "outputs": [
    {
     "data": {
      "image/png": "[encoded data removed]",
      "text/plain": [
       "<Figure size 432x288 with 1 Axes>"
      ]
     },
     "metadata": {
      "needs_background": "light"
     },
     "output_type": "display_data"
    }
   ],
   "source": [
    "import pandas as pd \n",
    "from pandas import read_csv\n",
    "from matplotlib import pyplot\n",
    " \n",
    "series = read_csv('C:\\Program Files/Python36/suven/Data Anaylsis/Dataset/dataset.csv')\n",
    "X = series.values\n",
    "X = X.astype('float32')\n",
    "\n",
    "# Differencing data to make the time series stationary\n",
    "# this would help us in reducing the trend\n",
    "diff = list()\n",
    "for i in range(1, len(X)):\n",
    "    value = X[i] - X[i - 1]\n",
    "    diff.append(value)\n",
    "\n",
    "stationary = pd.DataFrame(diff)\n",
    "#stationary.dropna();\n",
    "# stationary = stationary[1:]\n",
    "\n",
    "# plot differenced data\n",
    "stationary.plot(legend=False)\n",
    "pyplot.show();\n",
    "\n",
    "# save\n",
    "stationary.to_csv('C:\\Program Files/Python36/suven/Data Anaylsis/Dataset/stationary.csv', index=False)"
   ]
  },
  {
   "cell_type": "code",
   "execution_count": 97,
   "metadata": {},
   "outputs": [
    {
     "name": "stdout",
     "output_type": "stream",
     "text": [
      "ADF Statistic: -6.055566\n",
      "p-value: 0.000000\n",
      "Critical Values:\n",
      "Critical Values: {'1%': -3.5352168748293127, '5%': -2.9071540828402367, '10%': -2.5911025443786984}\n"
     ]
    }
   ],
   "source": [
    "from statsmodels.tsa.stattools import adfuller\n",
    "\n",
    "# check for Stationarity\n",
    "X = stationary.iloc[:,0].values\n",
    "#print(X) \n",
    "result = adfuller(X)\n",
    "\n",
    "print('ADF Statistic: %f' % result[0])\n",
    "print('p-value: %f' % result[1])\n",
    "print('Critical Values:')\n",
    "print('Critical Values:' ,result[4])"
   ]
  },
  {
   "cell_type": "markdown",
   "metadata": {},
   "source": [
    "Running the example outputs the result of a statistical significance test of whether the differenced series is stationary or not. Here we used, the most popular statistical test : `augmented Dickey-Fuller test`.\n",
    "\n",
    "The results show that the **test statistic value -6.055566 is smaller than the critical value at 1% of -3.535**. This suggests that we can reject the null hypothesis with a significance level of less than 1%. or Accept the Alternate Hypothesis with 99% confidence.\n",
    "\n",
    "**`Remember`**\n",
    "--\n",
    "The null hypothesis of the test is that the time series can be represented by a unit root, that it is not stationary (has some time-dependent structure). The alternate hypothesis (rejecting the null hypothesis) is that the time series is stationary.\n",
    "\n",
    "**Null Hypothesis (H0)**: If failed to be rejected, it suggests the time series has a unit root, meaning it is non-stationary. It has some time dependent structure.\n",
    "\n",
    "**Alternate Hypothesis (H1)**: The null hypothesis is rejected; it suggests the time series does not have a unit root, meaning it is stationary. It does not have time-dependent structure.\n",
    "\n",
    "We interpret this result using the p-value from the test. A p-value below a threshold (such as 5% or 1%) suggests we reject the null hypothesis (stationary), otherwise a p-value above the threshold suggests we fail to reject the null hypothesis (non-stationary). \n",
    "\n",
    "***Examples***\n",
    "\n",
    "> p-value > 0.05: Fail to reject the null hypothesis (H0), the data has a unit root and is non-stationary.\n",
    "\n",
    "> p-value <= 0.05: Reject the null hypothesis (H0), the data does not have a unit root and is stationary."
   ]
  },
  {
   "cell_type": "markdown",
   "metadata": {},
   "source": [
    "**Learning and Applying ARIMA Model. As well doing the necessary Model validation is covered in `9_D_Time_Series_Forecasting_Problem_Solving`.**"
   ]
  }
 ],
 "metadata": {
  "kernelspec": {
   "display_name": "Python 3",
   "language": "python",
   "name": "python3"
  },
  "language_info": {
   "codemirror_mode": {
    "name": "ipython",
    "version": 3
   },
   "file_extension": ".py",
   "mimetype": "text/x-python",
   "name": "python",
   "nbconvert_exporter": "python",
   "pygments_lexer": "ipython3",
   "version": "3.6.5"
  }
 },
 "nbformat": 4,
 "nbformat_minor": 2
}
