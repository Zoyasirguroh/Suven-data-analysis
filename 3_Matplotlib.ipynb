<!DOCTYPE html>
<html xmlns="http://www.w3.org/1999/xhtml">

  <head><meta http-equiv="Content-Type" content="text/html; charset=utf-8">
      <title>Data Science | Machine Learning | Python | Data Analytics | R | Suven Consultants</title>
    
    <meta name="viewport" content="width=device-width, initial-scale=1.0">
    <!-- <link rel="stylesheet" type="text/css" href="dist/fullpage.css" /> -->
    <link rel="stylesheet" href="https://stackpath.bootstrapcdn.com/bootstrap/3.4.1/css/bootstrap.min.css" integrity="sha384-HSMxcRTRxnN+Bdg0JdbxYKrThecOKuH5zCYotlSAcp1+c8xmyTe9GYg1l9a69psu" crossorigin="anonymous">
    <link rel="stylesheet" href="https://stackpath.bootstrapcdn.com/bootstrap/3.4.1/css/bootstrap-theme.min.css" integrity="sha384-6pzBo3FDv/PJ8r2KRkGHifhEocL+1X2rVCTTkUfGk7/0pbek5mMa1upzvWbrUbOZ" crossorigin="anonymous">
    <script src="https://stackpath.bootstrapcdn.com/bootstrap/3.4.1/js/bootstrap.min.js" integrity="sha384-aJ21OjlMXNL5UyIl/XNwTMqvzeRMZH2w8c5cRVpzpU8Y5bApTppSuUkhZXN0VxHd" crossorigin="anonymous"></script>
    <!-- <link rel="stylesheet" type="text/css" href="dist/fullpage.css" /> -->
    <link rel="stylesheet" href="//maxcdn.bootstrapcdn.com/font-awesome/4.1.0/css/font-awesome.min.css">
    <link rel="shortcut icon" href="newimage/favicon.ico" type="image/x-icon">
  <link rel="icon" href="newimage/favicon.ico" type="image/x-icon">
  <link rel="stylesheet" href="css/main.css">
  
  <link rel="stylesheet" href="https://maxcdn.bootstrapcdn.com/bootstrap/3.3.7/css/bootstrap.min.css">
  <link rel="shortcut icon" href="newimage/favicon.ico" type="image/x-icon">
  <link rel="icon" href="newimage/favicon.ico" type="image/x-icon">
    <script src="https://ajax.googleapis.com/ajax/libs/jquery/2.2.4/jquery.min.js"></script>
    <link rel="shortcut icon" href="newimage/favicon.ico" type="image/x-icon">
    <link rel="icon" href="newimage/favicon.ico" type="image/x-icon">
    <link rel="shortcut icon" href="images/favicon.ico" type="image/x-icon">
    <link rel="icon" href="images/favicon.ico" type="image/x-icon">
    <link rel="stylesheet" href="css/bootstrap.min.css">
    <link rel="stylesheet" href="css/internship.css">
    <link rel="stylesheet" href="css/font-awesome.css">
    <link rel="stylesheet" href="css/trainers.css">
    <link rel="stylesheet" href="css/timeline.css">
    <!-- <script src="js/modernizr.js"></script>
    <script src="js/jquery.flexslider-min.js"></script>
    <script src="js/masonry.pkgd.min.js"></script> -->
    <!-- Modernizr -->
     <script src="js/main.js"></script>
    <script>
      jQuery(document).ready(function($) {
        //create the slider
        $('.cd-testimonials-wrapper').flexslider({
          selector: ".cd-testimonials > li",
          animation: "slide",
          controlNav: false,
          slideshow: false,
          smoothHeight: true,
          start: function() {
            $('.cd-testimonials').children('li').css({
              'opacity': 1,
              'position': 'relative'
            });
          }
        });

        //open the testimonials modal page
        $('.cd-see-all').on('click', function() {
          $('.cd-testimonials-all').addClass('is-visible');
        });

        //close the testimonials modal page
        $('.cd-testimonials-all .close-btn').on('click', function() {
          $('.cd-testimonials-all').removeClass('is-visible');
        });
        $(document).keyup(function(event) {
          //check if user has pressed 'Esc'
          if (event.which == '27') {
            $('.cd-testimonials-all').removeClass('is-visible');
          }
        });

        //build the grid for the testimonials modal page
        $('.cd-testimonials-all-wrapper').children('ul').masonry({
          itemSelector: '.cd-testimonials-item'
        });
      });

    </script>

    <style>
   
    
    html, body {
        max-width: 100%;
        overflow-x: hidden;
    }
    .pseudo-ul li::before {
    content: "✓";
    font-weight: 2000;
}
    
.social-links a.twitter { background: url(../social-icons/twitter-gray.png); }
.social-links a.flickr { background: url(../social-icons/flickr-gray.png); }
.social-links a.vimeo { background: url(../social-icons/vimeo-gray.png); }
.social-links a.linkedin { background: url(../social-icons/linkedin-gray.png); }
.social-links a.facebook { background: url(../social-icons/facebook-gray.png); }
.social-links a.paypal { background: url(../social-icons/paypal-gray.png); }
.social-links a.email { background: url(../social-icons/email-gray.png); }
.social-links a.yahoo { background: url(../social-icons/yahoo-gray.png); }
.social-links a.github { background: url(../social-icons/github-gray.png); }
.social-links a.googleplus { background: url(../social-icons/googleplus-gray.png); }
.social-links a.apple { background: url(../social-icons/apple-gray.png); }
.social-links a.myspace { background: url(../social-icons/myspace-gray.png); }
.social-links a.youtube { background: url(../social-icons/youtube-gray.png); }
.social-links a.skype { background: url(../social-icons/skype-gray.png); }
.social-links a.tumblr { background: url(../social-icons/tumblr-gray.png); }
.social-links a.google { background: url(../social-icons/google-gray.png); }


.social-links a.twitter:hover { background: url(../social-icons/twitter.png); }
.social-links a.flickr:hover { background: url(../social-icons/flickr.png); }
.social-links a.vimeo:hover { background: url(../social-icons/vimeo.png); }
.social-links a.linkedin:hover { background: url(../social-icons/linkedin.png); }
.social-links a.facebook:hover { background: url(../social-icons/facebook.png); }
.social-links a.paypal:hover { background: url(../social-icons/paypal.png); }
.social-links a.email:hover { background: url(../social-icons/email.png); }
.social-links a.yahoo:hover { background: url(../social-icons/yahoo.png); }
.social-links a.github:hover { background: url(../social-icons/github.png); }
.social-links a.googleplus:hover { background: url(../social-icons/googleplus.png); }
.social-links a.apple:hover { background: url(../social-icons/apple.png); }
.social-links a.youtube:hover { background: url(../social-icons/youtube.png); }
.social-links a.skype:hover { background: url(../social-icons/skype.png); }
.social-links a.tumblr:hover { background: url(../social-icons/tumblr.png); }
.social-links a.aim:hover { background: url(../social-icons/aim.png); }
.social-links a.google:hover { background: url(../social-icons/google.png); }

 #footer a{
        color:white;
        text-decoration: none;
    }
.one a{
    margin-right: 30px;
    margin-bottom: 20px;
}
.two a{
    margin-right: 15px;
    margin-bottom: 20px;
}
/*For the footer of all page*/

/**/

.training{
    background-color:#fff;
    border: 1px solid silver;
    box-shadow: 0px 0px 10px silver;
    border-radius: 10px;
    padding-top:5px;
    padding-left:5px;
    padding-right:5px;
    padding-bottom:-5px;
    position: fixed;
    bottom: 50px;
    right: 10px;
    z-index: 999;
    line-height:10px;
}
.syllabus{
    padding:100px;
}
.freshers{
    background-color:#fff;
    border: 1px solid silver;
    box-shadow: 0px 0px 10px silver;
    border-top-right-radius: 10px;
    border-bottom-right-radius: 10px;
    padding-top:10px;
    padding-left:10px;
    padding-right:5px;
    padding-bottom:-10px;
    position: fixed;
    bottom: 50px;
    left: 0px;
    z-index: 999;
    line-height:10px;
}


/* xs < 768 */
@media screen and (max-width: 767px) {
    .training {
        font-size: 10px;
        line-height:1px;
        bottom: 90px;
    }
    .freshers{
        font-size: 10px;
        line-height:10px;
        bottom: 30px;
        padding-top:5px;
        padding-left:5px;
        padding-right:5px;
        padding-bottom:-10px;
    }    
}

/* sm */
@media screen and (min-width: 768px) {
    .training {
        font-size: 12px;
    }
    .freshers{
        font-size: 10px;
        line-height:10px;
        bottom: 30px;
        padding-top:5px;
        padding-left:5px;
        padding-right:5px;
        padding-bottom:-10px;
    }   
}

/* md */
@media screen and (min-width: 992px) {
    .training {
        font-size: 14px;
        line-height:10px;
    }
    .freshers{
        font-size: 14px;
        line-height:20px;
        bottom: 40px;
        padding-top:10px;
        padding-left:10px;
        padding-right:5px;
        padding-bottom:-10px;
    }   
}

/* lg */
@media screen and (min-width: 1200px) {
    .training {
        font-size: 14px;
        line-height:10px;
    }
    .freshers{
        font-size: 14px;
        line-height:20px;
        bottom: 40px;
        padding-top:10px;
        padding-left:10px;
        padding-right:5px;
        padding-bottom:-10px;
    } 
}
    .codeint {
    font-size: 11px;
    background-color: #fff;
    border: 1px solid silver;
    

box-shadow: 0px 0px 10px silver;
    border-top-right-radius: 10px;
    border-bottom-right-radius: 10px;
    padding-top: 10px;
    padding-left: 10px;
    padding-right: 5px;
  

  padding-bottom: 5px;
    position: fixed;
    bottom:130px;
    left: 0px;
    z-index: 

999;
    line-height: 10px;
    }
      .navbar-default {
        background-image: -webkit-linear-gradient(top, #34495e 0, #34495e 100%);
        background-image: -o-linear-gradient(top, #34495e 0, #34495e 100%);
        background-image: -webkit-gradient(linear, left top, left bottom, from(#34495e), to(#34495e));
        background-image: linear-gradient(to bottom, #34495e 0, #34495e 100%);
        background-repeat: repeat-x;
        filter: progid:DXImageTransform.Microsoft.gradient(enabled=false);
        border-radius: 0px;
        -webkit-box-shadow: inset 0 1px 0 rgba(255, 255, 255, .15), 0 1px 5px rgba(0, 0, 0, .075);
        box-shadow: inset 0 1px 0 rgba(255, 255, 255, .15), 0 1px 5px rgba(0, 0, 0, .075);
      }

      .navbar-default {
        background-color: #f8f8f8;
        border-color: #e7e7e7;
      }

      * {
        box-sizing: border-box;
      }

      *:before,
      *:after {
        box-sizing: border-box;
      }

      .bg-border-radius {
        : -48%;
        overflow: hidden;
        border-radius: 0px 180px 180px 0px;
        background-color: #0080C1;
      }

      q {
        quotes: "“" "”" "‘" "’";
      }

      q:before {
        content: open-quote;
      }

      q:after {
        content: close-quote;
      }

      .btn-default {
        margin: 3px;
        padding: 20px;
        text-align: center;
        text-transform: uppercase;
        transition: 0.5s;
        background-size: 200% auto;
        color: white;
        /* text-shadow: 0px 0px 10px rgba(0,0,0,0.2);*/
        box-shadow: 0 0 20px #eee;
        border-radius: 10px;
        left: 250px;
      }

      .syllabus{
        margin-top:-80px;
      }
      
      .container{
        margin:0;
        padding:0;
      }
      /* Demo Stuff End -> */

      /* <- Magic Stuff Start */

      .btn-default:hover {
        background-position: right center;
        /* change the direction of the change here */
      }

      .btn-1 {
        background-image: linear-gradient(to right, #f6d365 0%, #fda085 51%, #f6d365 100%);
      }

      .card-box {
        /* min-height: 0; */
        position: relative;
        padding: 10px;
        margin-bottom: 20px;
        display: -ms-flexbox;
        display: flex;
        -ms-flex-direction: column;
        flex-direction: column;
        -webkit-box-pack: justify;
        -ms-flex-pack: justify;
        justify-content: space-between;
        position: relative;
        cursor: pointer;
        text-align: center;
        margin-top: -48px;
      }

      .card-box:hover {
        background: linear-gradient(to right, #1fa2ff17 0%, #12d8fa2b 51%, #1fa2ff36 100%);
      }

      .card-box:after {
        display: block;
        content: '';
        width: 100%;
        position: absolute;
        left: 0;
        right: 0;
        top: 0;
      }

      .card-title h2 {
        margin: 0;
        padding-top: 5%;
        color: #2196F3;
        font-family: 'Oswald', sans-serif;
        text-transform: uppercase;
        font-size: 24px;
        line-height: 1;
        margin-bottom: 15px;
      }

      .card-title p {
        margin: 0;
        margin-bottom: 10px;
        font-size: 16px;
      }

      .card-link a {
        text-decoration: none;
        font-family: 'Oswald', sans-serif;
        color: #FF5722;
        font-size: 15px;
      }

      .bg-border-radius {
        overflow: hidden;
        border-radius: 0px 100px 100px 0px;
        background-color: #0080C1;
      }
    @media only screen and (max-width: 600px) {
        .bg-border-radius {
            width: 95%;
        }
    }
      
    .strikethrough-diagonal {
      position: relative;
      color: red;
      font-weight: 500;
    }
    .strikethrough-diagonal:before {
      position: absolute;
      content: '';
      left: 0;
      top: 45%;
      right: 0;
      border-top: 1px solid;
      border-color: inherit;
      -webkit-transform: skewY(-10deg);
      -moz-transform: skewY(-10deg);
      transform: skewY(-10deg);
    }
    .well{
       background:#228B22;
       color:#fff;
    }
    .mysqrbrac{
          background-image: linear-gradient(#ffb1bb, #ffb1bb),
                    linear-gradient(#ffb1bb, #ffb1bb),
                    linear-gradient(#ffb1bb, #ffb1bb),
                    linear-gradient(#ffb1bb, #ffb1bb);

        background-repeat: no-repeat;
        background-size: 8px 3px;
                        // ^^^ This value should be equal to width of left OR right border.
        background-position: top left, top right, bottom left, bottom right;
        
        border: solid #ffb1bb;
        border-width: 0 3px;
    }
    
    .reduceme{
        @font-face {
          font-family: "Helvetica Neue";
          font-weight: 100;
          src: url(helveticaneue-ultrathin.woff);
        }
    }
    </style>
    
    <meta name="google-site-verification" content="PI-ZP6ua4nWrRzz9ZBRHSIioHv3CgSlf9FWicBdYJ5s" />
  </head>

  <body style="">

    <!-- nav bar -->


    <nav class="navbar navbar-default navbar-fixed-top">
      <div class="container-fluid">
        <div class="navbar-header">
          <a class="navbar-brand" href="https://suvenconsultants.com/" style=""><img src="https://suvenconsultants.com/mainpagefiles/images/sctpl_logo.png" style="display:inline; margin-left:30px;">
              <span>Suven Consultants & Technology Pvt. Ltd.</span></a>
          <button type="button" class="navbar-toggle" data-toggle="collapse" data-target="#myNavbar">
                <span class="icon-bar"></span>
                <span class="icon-bar"></span>
                <span class="icon-bar"></span> 
              </button>
        </div>
        <div class="collapse navbar-collapse" id="myNavbar">
          <ul class="nav navbar-nav navbar-right hidden-sm hidden-xs">
            <li  style="margin-left:-10px;padding-left:3px;"><a href="https://datascience.suvenconsultants.com/interviews/" class="head_panel" style="font-size:14px">Interview Prep</a></li>
            <li  style="margin-left:-10px;padding-left:3px;"><a href="#sql" class="head_panel" style="font-size:14px">SQL</a></li>
            <li  style="margin-left:-10px;padding-left:3px;"><a href="#dataanalytics" class="head_panel" style="font-size:14px">Data-Analytics</a></li>
            <li  style="margin-left:-10px;padding-left:3px;"><a href="#statistics" class="head_panel" style="font-size:14px">Statistics</a></li>
            <li  style="margin-left:-10px;padding-left:3px;"><a href="#python" class="head_panel" style="font-size:14px">Python</a></li>
            <li  style="margin-left:-10px;padding-left:3px;"><a href="#ml" class="head_panel" style="font-size:14px">ML</a></li>
            <li  style="margin-left:-10px;padding-left:3px;"><a href="#advml" class="head_panel" style="font-size:14px">Adv. ML</a></li>
          </ul>
          <ul class="nav navbar-nav navbar-right hidden-lg hidden-md">
            <li style="margin-top:-2px;"><a href="https://datascience.suvenconsultants.com/interviews/" class="head_panel" style="font-size:14px">Interview Prep</a></li>
            <li style="margin-top:-5px;"><a href="#sql" class="head_panel" style="font-size:14px">SQL</a></li>
            <li style="margin-top:-5px;"><a href="#dataanalytics" class="head_panel" style="font-size:14px">Data-Analytics</a></li>
            <li style="margin-top:-5px;"><a href="#statistics" class="head_panel" style="font-size:14px">Statistics</a></li>
            <li style="margin-top:-5px;"><a href="#python" class="head_panel" style="font-size:14px">Python</a></li>
            <li style="margin-top:-5px;"><a href="#ml" class="head_panel" style="font-size:14px">ML</a></li>
            <li style="margin-top:-5px;"><a href="#advml" class="head_panel" style="font-size:14px">Adv. ML</a></li>
          </ul>
        </div>
      </div>
    </nav>
    <br><br>

    <div class="row">
      <div class="col-lg-12 col-md-12 col-sm-12 col-xs-12">
        <div class="well">
            <h2 class="text-center" style="letter-spacing:3px;font-weight:bolder;">How to become a Data Scientist & get placed ?</h2>
        </div>
        </div>
      </div>
    </div>


    <!-- TESTIMONIALS -->

<section class="my">
<div class="row">
        <div class="section bg-border-radius col-md-6 col-lg-6 col-sm-12 col-xs-12" id="datascience" style="background-color:#990000;">

          <div class="container" style="">
            <div class="row-fluid" style="line-height:18px;">
              <div class="col-lg-7 col-md-7  " style="padding:50px;margin-top:-20px;">
                <p style="color: white;">
                Any fresher and candidates up to 3 years work-ex <br>can become Data Scientist<br> by pursuing
                </p>
                <p style="color: white;margin-top:-21px;"><h1 style="color: white;font-weight:580;letter-spacing:-1px;">Masters in Data Science Programme</h1>


                  
                  <ul class="pseudo-ul" style="color: white;margin-left:0px;"><p style="text-decoration:underline;"><h3 style="color: white;font-weight:bold;">Course Highlights:</h3></p>
                    <li style="color: white;40px;margin-left:8px;">&nbsp;250 hrs of hands-on class room training. Spread over a period of 6 months</li><br>
                    <li style="color: white;60px;margin-left:8px;">&nbsp;Split into <b>six modules</b>, namely <b>SQL</b> for Databases, <b>Data Analytics</b> using R, <b>Statistics</b> using Excel & Tableau, <b>Python</b> Programming, <b>Machine Learning</b>, <b>Advanced Machine learning</b> with Capstone Projects</li><br>
                    <li style="color: white;30px;margin-left:8px;">&nbsp;100% placement calls</li><br>
                    <li style="color: white;30px;margin-left:8px;">&nbsp;Course is designed to give maximum choice and time flexibility to working professionals</li><br>
                    <li style="color: white;30px;margin-left:8px;">&nbsp;Weekend batches at Thane, Chembur, Dadar and Borivali locations</li><br>
                    <li style="color: white;30px;margin-left:8px;">&nbsp;More than 3000+ reviews about training@Suven on social media</li><br>
                    <li style="color: white;30px;margin-left:8px;">&nbsp;Only Classroom coaching with 200% ROI</li><br>
                    <br>
                    <center><h3 style="color: white;font-weight:bold;margin-left:-70px;margin-top:-10px;"> Total Fee : INR <span class="strikethrough-diagonal">46000</span> 41000/-</h3></center>
                  </ul>
                </p>
                <div class="row" style="">
                  <div class="col-lg-4 col-md-4"></div>
                  <div class="col-lg-8 col-md-8 ">
                    <p style="color: white;"></p>
                  </div>
                </div>
                <p style="color: white;"></p>
              </div>

            </div>

          </div>
        </div>
        <div class="container-fluid col-md-6 col-lg-6 col-xs-12 col-sm-12 col-xs-12 hidden-sm hidden-xs" style="margin-left:-70px;margin-top:-10px;">
          <section id="testimonial">
            <div class="container">

              <div class="row text-center">
                <h1><span style="margin-left:360px;float:left;font-weight:100;">Our Trainers</span></h1><br><br><br>
              </div>

              <div class="row">
                <div class="testimonial-part">

                  <div class="col-lg-3 col-md-3 col-sm-4 col-xs-12 text-right" style=":100px;90px;">
                    <img class="img-circle" src="images/testimonials/1per.jpg" style="width: 110px;height:110px;">
                  </div>

                  <div class="col-lg-9 col-md-9 col-sm-8 col-xs-12" style="width:40%;">
                    <div class="comment-box2 " style="margin-left:-70px;margin-right:30px;padding:5px;padding-bottom:10px;">
                      <p class="" style="font-size:13px;;"><b>Rocky Jagtiani</b> : <b>Technology trainer</b> to companies like  Accenture , Morgan Stanley, EY. Have trained more than <b>18000 candidates in 0-3 years work-ex category</b>. Having 18+ of years of training experience. Would be teaching Statistics using Excel and Tableau , Python Programming and Machine learning in this course.
                      </p>
                    </div>
                  </div>

                </div>
              </div>
              <div class="row" style=":-110px;">
                <div class="testimonial-part">

                  <div class="col-lg-3 col-md-3 col-sm-4 col-xs-12 text-right" style=":100px;90px;">
                    <img class="img-circle" src="images/testimonials/3per.jpg" style="width: 110px;height:110px;">
                  </div>

                  <div class="col-lg-9 col-md-9 col-sm-8 col-xs-12" style="width:40%;">
                    <div class="comment-box2" style="margin-left:-70px;margin-right:30px;padding:5px;padding-bottom:10px;">
                      <p class="" style="font-size:13px;;">
                      <b>Lokesh Singh</b> : Presently <b>Data Scientist</b> at Eureka Mobile. Had worked for 2.5 years as a software Engineer at Accenture. An active contributor at <b>Kaggle ML-NLP competitions</b>. Having 3+ years of training experience.  Would be teaching Machine learning and Advanced Machine learning in this course.
                      </p>
                    </div>
                  </div>

                </div>
              </div>

              <div class="row" style=":-105px;">
                <div class="testimonial-part">

                  <div class="col-lg-3 col-md-3 col-sm-4 col-xs-12 text-right" style=":100px;90px;">
                    <img class="img-circle" src="images/testimonials/2per.jpg" style="width: 110px;height:110px;">
                  </div>

                  <div class="col-lg-9 col-md-9 col-sm-8 col-xs-12" style="width:40%;">
                    <div class="comment-box2" style="margin-left:-70px;margin-right:30px;padding:5px;min-height: 85px;max-height: 85px;">
                      <p class="" style="font-size:13px;margin-bottom:-5px;">
                      <b>Niraj Sharma</b> : Presently <b>Data Analyst</b> at NeoSoft (CMM level 5). An expert in R programming. An active contributor at <b>Kaggle Data Analytics using R</b> competitions. Having 3+ years of training experience.  Would be teaching Statistics and Data Analytics using R in this course. 
                      </p>
                    </div>
                  </div>

                </div>
              </div>

              <div class="row" style="">
                <div class="testimonial-part">

                  <div class="col-lg-3 col-md-3 col-sm-4 col-xs-12 text-right" style=":100px;90px;">
                    <img class="img-circle" src="images/testimonials/4per.jpg" style="width: 110px;height:110px;">
                  </div>

                  <div class="col-lg-9 col-md-9 col-sm-8 col-xs-12" style="width:40%;">
                    <div class="comment-box2" style="margin-left:-70px;margin-right:30px;padding:5px;min-height: 85px;max-height: 85px;">
                      <p class="" style="font-size:13px;"><b>Simran Jagtiani</b> : <b>Presently Head of HR & Operations</b> , awarded as Women Entrepreneur of the year in 2011. Having mentored <b>more than 5000 participants</b> in the 0-3 years <span style="text-decoration:underline;">WorkEx category</span> and having successfully placed <span style="text-decoration:underline;">all</span> of them as IT professional.
                      </p>
                    </div>
                  </div>

                </div>
              </div>

            </div>
          </section>

        </div>
      </div>
<!--99999999999999999999999999999999999999999999999999999999999999999999999999999999999999999999-->
      <br>
      <br>
      <br>
      <div class="row">
        <div class="section col-md-11 col-lg-11" style="min-height:400px;">

          <div class="container" style="">
            <div class="row-fluid" style=":48%;line-height:18px;">
              <div class="col-lg-7 col-md-7  " style="padding:50px;">
                <div class="container">
                  <h1 class="text-center"><strong><span style="color:#28a745;">Success</span><span style="color:#28a745;"></span> Stories</strong></h1><br>

                  <div id="myCarousel" class="carousel slide" data-ride="carousel">


                    <!-- Wrapper for slides -->
                    <div class="carousel-inner">
                      <div class="item active">
                        <div class="row">
                          <div class="col-lg-offset-1 col-lg-3">
                            <img src="images/getpic1.png" alt="" width="170" class="img-responsive img-circle center-block">
                          </div>
                          <div class="col-lg-8">
                            <h3> Archie Dsouza , XLRI Jamshedpur</h3>
                            <p><span style="color:#28a745;">Hiring for ML + CV + Deep learning frameworks</span><br>Well , I have known prof. Rocky and his team@Suven for quality training and placements. Their team is very hard working and ensures the best teaching with lots of hands-on practicals , case studies and a couple of Capstone projects. Their students are 100% place-able and in fact some of them have been active contributors at kaggle ML competitions.
                            </p>
                          </div>
                        </div>
                      </div>

                      <div class="item">
                        <div class="row">
                          <div class="col-lg-offset-1 col-lg-3">
                            <img src="images/aahan.PNG" alt="" class="img-responsive img-circle center-block" width="170">
                          </div>
                          <div class="col-lg-8">
                            <h3>Aahan Gupta</h3>
                            <p><span style="color:#28a745;">Data Engineer @ Quosphere Infosloutions</span><br>After pursuing SCTPL's 6 -7 months weekend Data Science
                            training track, I got 2 Job offers for Data Science profile. I'm now working as a full-time employee as a #Data #Engineer. The course content designed
                            by Rocky Sir is remarkable also for future
                            participants I assure that the projects based knowlegede imparted by Sir is surprising at such budget-friendly fee.
                            </p>
                            
                          </div>
                        </div>
                      </div>
                      
                      <div class="item">
                        <div class="row">
                          <div class="col-lg-offset-1 col-lg-3">
                            <img src="images/getpic2.png" alt="" class="img-responsive img-circle center-block" width="170">
                          </div>
                          <div class="col-lg-8">
                            <h3>Bhavik Dand</h3>
                            <p><span style="color:#28a745;">Software Engineer @ MAQ Software</span><br>I have learned no. of courses namely Java, Android and few more,  at Suven Consultants & Technology Pvt Ltd. I love the teaching pattern of Prof. Rocky, his notes are greatly useful. I remember of thanking him on whats-app on getting placed at MAQ through campus placements @ VESIT. Rocky Sir's concept building really helped me in engineering.   I wish Suven's team all the best for their good work.
                            </p>
                            
                          </div>
                        </div>
                      </div>

                      <div class="item">
                        <div class="row">
                          <div class="col-lg-offset-1 col-lg-3">
                            <img src="images/getpic3.png" alt="Niraj Sharma" class="img-responsive img-circle center-block" width="170">
                          </div>
                          <div class="col-lg-8">
                            <h3>Aman Goel, IIT Bombay</h3>
                            <p><span style="color:#28a745;">CEO at AllinCall, Tech Entrepreneur</span><br>I know Prof Rocky and Ms Simran professionally. They are extremely passionate about their work. I have addressed many freshers@Suven , motivating them towards this wonderful field of Machine Learning and its applications. In fact many students from Suven have applied and got selected as data science interns within 3-4 months of training.
                            </p>
                            
                          </div>
                        </div>
                      </div>

                      <div class="item">
                        <div class="row">
                          <div class="col-lg-offset-1 col-lg-3">
                            <img src="images/getpic4.png" alt="" class="img-responsive img-circle center-block" width="170">
                          </div>
                          <div class="col-lg-8">
                            <h3>Nikita Barve</h3>
                            <p><span style="color:#28a745;">Data Analyst @ Qlikview</span><br>Well any course training, be it <b>"full stack Web developer"</b> or the <b>"Masters of Data Science"</b> at Suven is excellent. Prof Rocky and Ms Simran are very experienced and professional in their work. I am very happy for having them as mentors. Their courses are a great value for money. Make sure you talk to Rocky Sir, he counsels very well, according to our present job role and guides us through the whole course.
                            </p>
                          </div>
                        </div>
                      </div>
                      
                      <div class="item">
                        <div class="row">
                          <div class="col-lg-offset-1 col-lg-3">
                            <img src="images/getpic5.png" alt="" class="img-responsive img-circle center-block" width="170">
                          </div>
                          <div class="col-lg-8">
                            <h3>Asawari Kadam</h3>
                            <p><span style="color:#28a745;">Data Analyst @ Mercer</span><br>I believe that 100% knowledge of a subject leads to Jobs for freshers. I would recommend each one for Python , Data Analytics and Machine learning courses from Suven under the mentor-ship of Rocky Sir.  Their team is very hard working and goes out of the way to solve our doubts. Simran Madam personally prepares each candidate for the Interviews and ensures that they get placed.
                            </p>
                          </div>
                        </div>
                      </div>
                      <!--<div class="item">
                        <div class="row">
                          <div class="col-lg-offset-1 col-lg-3">
                            <img src="getpic5.png" alt="" class="img-responsive img-circle center-block" width="170">
                          </div>
                          <div class="col-lg-8">
                            <h3>Ankur Tripathi</h3>
                            <p><span style="color:#28a745;">Business Intelligence Analyst at Ookla</span><br>Well , I was working at Relience Jio for 3 years from 2014 to 2017 as Senior RF engineer. I met Prof Rocky , who changed my view point by positive counselling that Data Science is for every one. I did all the course modules under <b>"Masters in Data Science"</b>  before flying to Ireland to do my MS in data analytics. And presently I am working in one of the most interesting and top paying profiles.</p>
                            
                          </div>
                        </div>
                      </div>-->
                      
                      
                      
                      
                      
                    </div>

                    <ol class="carousel-indicators" style="bottom: -30px;">
                      <li data-target="#myCarousel" data-slide-to="0" class="active"></li>
                      <li data-target="#myCarousel" data-slide-to="1"></li>
                      <li data-target="#myCarousel" data-slide-to="2"></li>
                      <li data-target="#myCarousel" data-slide-to="3"></li>
                      <li data-target="#myCarousel" data-slide-to="4"></li>
                      <li data-target="#myCarousel" data-slide-to="5"></li>
                    </ol>

                  </div>
                </div>

              </div>



            </div>
          </div>

        </div>
        <div class="row">
          <div class="col-lg-12 col-md-12 col-xs-12"><br>

            <div class="col-md-3 col-xs-12">
              <div class="card-box center-block"><img src="images/download1.png" class="center-block" width="180" height="115" alt="">
                <div class="card-title">
                 <br>
                  <p>78% placement ratio averaged over last 10 years</p>
                </div>
              </div>
            </div>
            <div class="col-md-3 col-xs-12">
              <div class="card-box center-block"><img src="images/classroom-and-online-training.png" class="center-block" width="120" height="115" alt="">
                <div class="card-title">
                    <br>
                  
                  <p>3000+ students trained and placed in last 5 years</p>
                </div>
              </div>
            </div>
            <div class="col-md-3 col-xs-12">
              <div class="card-box center-block"><img src="images/4.6+star+rating+on+Google.png" class="center-block" width="120" height="115" alt="">
                <div class="card-title">
                  <br>
                  <p>Have got 4.6 stars on Google reviews</p>
                </div>
              </div>
            </div>
            <div class="col-md-3 col-xs-12">
            <div><br>
              <a href="https://docs.google.com/forms/d/e/1FAIpQLSdic3kbD44rZy_Qgp0WHwy0R-ZYJZlmi16Mhiq2bClztEBvlg/viewform" 
              target="_blank" class="btn-default" style="margin-top:30px;margin-left:60px;margin-right:10px;margin-bottom:30px;background-image: linear-gradient(to right, #f6d365 0%, #fda085 51%, #f6d365 100%);">Request a call back</a>
            </div>
            </div>
            
          </div>
        </div>


      </div>
      </div><br><br><br>


    
      <div class="row">
        <div class="section bg-border-radius col-md-6 col-lg-6" style="background-color:#003366;color:#ffffff;">

          <div class="container" style="">
            <div class="row-fluid" id="sql" style="line-height:18px;padding-right:50px;">
              <div class="col-lg-7 col-md-7  " style="padding:50px;margin-top:-20px;margin-left:25px;">
                <p style="color: white;">SQL the <b>first skill</b> to learn under <br>
this course <br>
"Masters in Data Science"
                
                </p>
                <p style="color: white;margin-top:-21px;"><h1 style="color: white;font-weight:580;letter-spacing:-1px;">Oracle SQL training and Exam Prep Module</h1>
                What is SQL?<br>
                SQL (Structured Query Language) is the primary language responsible for managing data held in a relational database management system (RDBMS). Simply put, SQL is the language you use to interact with a database.
                <br><br>
                Who should learn SQL ?<br>
                Product Managers, Data Analysts, Data Scientists, Data Engineers,<br>
                Backend Developers, Frontend developers, Mobile App Developers, Marketers


                  
                  <ul class="pseudo-ul" style="color: white;"><p style="text-decoration:underline;"><h3 style="color: white;font-weight:bold;">Course Highlights:</h3></p>
                    <li style="color: white;40px;">&nbsp;24 hrs of Hands-on training on oracle-11g/12c/18c/19c</li><br>
                    <li style="color: white;60px;">&nbsp;4 printed books : Theory, Practical Try-outs, 2 Oracle Mock test papers</li><br>
                    <li style="color: white;30px;">&nbsp;Complete software support on <a href="" target="_blank" style="text-decoration:underline;">db.suvenconsultants.com</a></li><br>
                    <li style="color: white;30px;">&nbsp;100% Oracle SQL Exam clearance guarantee</li><br>
                    <li style="color: white;30px;">&nbsp;One online mock test exactly on lines of Oracle</li><br><br>
                    <center><h4 style="color: white;font-weight:bold;margin-left:-50px;margin-top:-10px;"> Fee (only for) Oracle SQL Training : INR 5000/-</h4></center>
                  </ul>
                </p>
                <div class="row" style="">
                  <div class="col-lg-4 col-md-4"></div>
                  <div class="col-lg-8 col-md-8 ">
                    <p style="color: white;"></p>
                  </div>
                </div>
                <p style="color: white;"></p>
              </div>

            </div>

          </div>

        </div>
        <div class="col-md-6 col-lg-6 syllabus" style="color:#34495e;line-height:12px;">
          <div class="row">
            <h2>Syllabus:</h2>
            <ol>
            <p>For Syllabus visit <a href="https://db.suvenconsultants.com/#syllabus" target="_blank" style="text-decoration:underline;">db.suvenconsultants.com</a></p> 
            <p> Register <a href="https://docs.google.com/forms/d/e/1FAIpQLSdic3kbD44rZy_Qgp0WHwy0R-ZYJZlmi16Mhiq2bClztEBvlg/viewform" target="_blank" style="text-decoration:underline;">here</a> for getting batch updates</p> 
            <p> Batch time table for all subjects -  <a href="http://bit.ly/2WnuQYL" target="_blank" style="text-decoration:underline;">here</a></p
            </ol>
          </div>
          <div class="row">
            <h2>Downloads:</h2>
            <ol>
				    			<p>1) Oracle Database Express Edition 12c <a   target="_blank" href="http://www.oracle.com/technetwork/database/enterprise-edition/downloads/index-092322.html">Download <span class='glyphicon glyphicon-download'></span></a> Or <a href="https://livesql.oracle.com" target="_blank">use live SQL</a></p>
				    			<p>2) Oracle Database Express Edition 11g <a   target="_blank" href="https://www.oracle.com/technetwork/database/enterprise-edition/downloads/index.html">Download <span class='glyphicon glyphicon-download'></span></a> Or <a href="https://livesql.oracle.com" target="_blank">use live SQL</a></p>
				    			
				    			<p>3) Installation Steps - Oracle DB 10g/11g - By Rocky Sir <a  target="_blank"  href="http://db.suvenconsultants.com/Installing_Oracle_Database_10%20or%2011g_Express_Edition-By_Rocky_Sir.pdf">Download <span class='glyphicon glyphicon-download'></span></a></p>
				    			<p>4) How to run java-database programs from my PC ? <a  target="_blank"  href="https://drive.google.com/file/d/1B6Ya1m0U-Gd17M7ThHiRUqGpR9ygW7MI/view">Download <span class='glyphicon glyphicon-download'></span></a></p>
				    			<p>5) Solution (by Rocky Sir) to   <a target="_blank"  href="https://www.hackerrank.com/domains/sql/select"> HackerRank > SQL problems </a> <a href="sql_practice_home_Queries_Extra.rar">Download<span class='glyphicon glyphicon-download'></span></a> &nbsp;&nbsp; <a href="readMe.txt">ReadMe.txt<span class='glyphicon glyphicon-download'></span></a></p>
				    			<p>6) Foreign Key Constraint Example -- important !!<a type="button" target="_blank"  href="Foreign_key_constraints_example.pdf"> Must See Once </a></p>
                  <p>7) Learn Oracle SQL : The Hierarchical Query Clause<a type="button" target="_blank"  href="https://suventechnology.blogspot.com/2018/11/learn-oracle-sql-hierarchical-query.html"> Must See Once</a></p>
                  <p>8) Top-N queries in Oracle SQL<a type="button" target="_blank"  href="https://suventechnology.blogspot.com/2018/11/top-n-queries-in-oracle-sql-by-rocky.html"> Must See Once</a></p>
                  <p>9) Understanding Analytic Functions in Oracle SQL<a type="button" target="_blank"  href="https://suventechnology.blogspot.com/2018/11/understanding-analytic-functions-in.html"> Must See Once</a></p>
                  <p>10) Overview of Regular Expressions in Oracle 11g<a type="button" target="_blank"  href="https://docs.oracle.com/cd/B28359_01/appdev.111/b28424/adfns_regexp.htm#CHDEDGJD"> Must See Once</a></p>
				    			<p>For many more downloads please visit <a href="https://db.suvenconsultants.com/#downloads" target="_blank" style="text-decoration:underline;">db.suvenconsultants.com</a></p>
                      
				    		</ol>

          </div>
    
        </div>

      </div>



      <div class="row">
        <div class="section bg-border-radius col-md-6 col-lg-6" id="dataanalytics" style="background-color:#990000;color:#ffffff;">

          <div class="container" style="">
            <div class="row-fluid" style="line-height:18px;padding-right:50px;">
              <div class="col-lg-7 col-md-7  " style="padding:50px;margin-top:-19px;margin-left:25px;">  <br><br>

                <p style="color: white;">Data Analysis is the <b>second skill</b> to learn under <br>
this course <br>
"Masters in Data Science"
                
                </p><br> <br>
                <p style="color: white;margin-top:-21px;"><h1 style="color: white;font-weight:580;letter-spacing:0px;">Data Analytics using R / Python</h1>
                What Makes Programming Languages Like Python or R a Good Choice ?<br>
                1) Python as well as R are two open-source programming languages.<br>
                2) Best used for performing statistics, analysis and visualization.<br>
                3) It as The Ultimate Statistical Analysis Kit.
                <br><br>


                  
                  <ul class="pseudo-ul" style="color: white;"><p style="text-decoration:underline;"><h3 style="color: white;font-weight:bold;">Course Highlights:</h3></p>
                    <li style="color: white;40px;">&nbsp;40 hrs of hands-on training on week-ends</li><br>
                    <!--<li style="color: white;60px;">&nbsp;complete knowledge of R programming language</li><br>-->
                    <li style="color: white;30px;">&nbsp;One month of internship on semi-live datasets</li><br>
                    <li style="color: white;30px;">&nbsp;Participate in Kaggle Data Analytics competition, with the subject trainer as mentor.</li><br>
                    <li style="color: white;30px;">&nbsp;Post the course a participant can easily analyze real-time datasets and crack interviews for junior data Analyst positions.</li><br><br>
                    <center><h4 style="color: white;font-weight:bold;margin-left:-50px;margin-top:-10px;"> Fee (only for) this module : INR 6000/-</h4></center>
                  </ul>
                  
                  <ul class="text-center hidden-xs hidden-sm" style="margin-left:-5em;margin-top:15px;">
                    <span class="hidden-sm hidden-xs reduceme" style="opacity: 0.8;font-family: 'Helvetica Neue';font-weight:100;position:absolute;font-size:80px;margin-left:20px;left:20%;bottom:15%">[</span><li type="none" style="color: white;30px;">&nbsp;&nbsp;From <b>Jan 2020</b> we would be starting with</li>
                    <li type="none" style="color: white;30px;">"<b>Data Analytics using Python also</b>"</li>
                    <li type="none" style="color: white;30px;"> see <b><a href="https://drive.google.com/open?id=1Nr7j_JHh3UZ3dl2xfe0WoIJJS_BvXwvV" style="color:white;text-decoration: underline;" target="_blank">here</a></b>&nbsp;&nbsp;</li>
                    <span class="hidden-sm hidden-xs reduceme" style="opacity: 0.8;font-family: 'Helvetica Neue';position:absolute;font-size:80px;margin-right:20px;right:25%;bottom:15%;font-weight:100;">]</span>
                  </ul>
                  <ul class="text-center hidden-lg hidden-md" style="margin-left:-5em;margin-top:15px;">
                    <span class="reduceme" style="opacity: 0.8;font-family: 'Helvetica Neue';font-weight:100;position:absolute;font-size:80px;margin-left:30px;left:-8%;bottom:10%">[</span><li type="none" style="color: white;30px;">&nbsp;&nbsp;From <b>Jan 2020</b> we would be starting with</li>
                    <li type="none" style="color: white;30px;">"<b>Data Analytics using Python also</b>"</li>
                    <li type="none" style="color: white;30px;"> see <b><a href="https://drive.google.com/open?id=1Nr7j_JHh3UZ3dl2xfe0WoIJJS_BvXwvV" style="color:white;text-decoration: underline;" target="_blank">here</a></b>&nbsp;&nbsp;</li>
                    <span class="reduceme" style="opacity: 0.8;font-family: 'Helvetica Neue';position:absolute;font-size:80px;margin-right:20px;right:5%;bottom:10%;font-weight:100;">]</span>
                  </ul>
                  
                </p>
                <div class="row" style="">
                  <div class="col-lg-4 col-md-4"></div>
                  <div class="col-lg-8 col-md-8 ">
                    <p style="color: white;"></p>
                  </div>
                </div>
                <p style="color: white;"></p>
              </div>

            </div>

          </div>

        </div>
        <div class="col-md-6 col-lg-6 syllabus" style="color:#34495e;line-height:14px;">
          <div class="row">
            <h2>Syllabus:</h2>
            <ol>
            <p>Download course contents <a href="https://drive.google.com/file/d/0B4rCFkKCsCeKa3J3MENTenJhblU/view" target="_blank" style="text-decoration:underline;">here</a></p> 
            <p> Register <a href="https://docs.google.com/forms/d/e/1FAIpQLSdic3kbD44rZy_Qgp0WHwy0R-ZYJZlmi16Mhiq2bClztEBvlg/viewform" target="_blank" style="text-decoration:underline;">here</a> for getting batch updates</p> 
            <p> Batch time table for all subjects -  <a href="http://bit.ly/2WnuQYL" target="_blank" style="text-decoration:underline;">here</a></p> 
            </ol><br>
          </div>
          <div class="row" style="margin-top:-28px;">
            <h2>Downloads for DA using R:</h2>
            <ol>
				    			<p>1) Download R studio <a   target="_blank" href="https://www.rstudio.com/products/rstudio/download/">here <span class='glyphicon glyphicon-download'></span></a></p>
				    			<p>2) ML basics and R-Programming notes <ul style="list-style-type:none;"></p> 
				    			<li style="padding-bottom:5px;"><button type="button" class="btn btn-info" onclick="hadoop_pdf(1)"> BOOK 1 <span style=""><b></b></span><span class='glyphicon glyphicon-download'></span></button>&nbsp;&nbsp;&nbsp;
				    			<button type="button" class="btn btn-info" onclick="hadoop_pdf(2)"> BOOK 2 <span style=""><b></b></span><span class='glyphicon glyphicon-download'></span></button>&nbsp;&nbsp;&nbsp;
				    			<button type="button" class="btn btn-info" onclick="hadoop_pdf(3)"> BOOK 3 <span style=""><b><em>- pwd protected </em></b></span><span class='glyphicon glyphicon-download'></span></button></li></ul>
				    			
				    			<p>3) One Month Internship Project
				    			        <ul style="list-style-type:none;">
				    			            <li><button type="button" class="btn btn-info" onclick="hadoop_pdf(9)"> Project Specification <span class='glyphicon glyphicon-download'></span></button>&nbsp;&nbsp;&nbsp;
				    			            <button type="button" class="btn btn-info" onclick="hadoop_pdf(10)"> Datasets for Project  <span class='glyphicon glyphicon-download'></span></button></a></li>
				    			        </ul>
				    			 
				    			 </p>
				    			<p>4) <a target="_blank"  href="https://github.com/ChristosChristofidis/awesome-deep-learning">A curated list of awesome Deep Learning tutorials and projects.</a> 
				    			
                      
				    		</ol>
				    		<!--For Python-->
				    		<h2>Downloads for DA using Python:</h2>
          <!--  <ol>-->
				
				    		<!--	<p>1) ML basics and R-Programming notes <ul style="list-style-type:none;"></p> -->
				    		<!--	<li style="padding-bottom:5px;"><button type="button" class="btn btn-info" onclick="hadoop_pdf(1)"> BOOK 1 <span style=""><b></b></span><span class='glyphicon glyphicon-download'></span></button>&nbsp;&nbsp;&nbsp;-->
				    		<!--	<button type="button" class="btn btn-info" onclick="hadoop_pdf(2)"> BOOK 2 <span style=""><b></b></span><span class='glyphicon glyphicon-download'></span></button>&nbsp;&nbsp;&nbsp;-->
				    		<!--	<button type="button" class="btn btn-info" onclick="hadoop_pdf(3)"> BOOK 3 <span style=""><b><em>- pwd protected </em></b></span><span class='glyphicon glyphicon-download'></span></button></li></ul>-->
				    			
				    		<!--	<p>2) One Month Internship Project-->
				    		<!--	        <ul style="list-style-type:none;">-->
				    		<!--	            <li><button type="button" class="btn btn-info" onclick="hadoop_pdf(9)"> Project Specification <span class='glyphicon glyphicon-download'></span></button>&nbsp;&nbsp;&nbsp;-->
				    		<!--	            <button type="button" class="btn btn-info" onclick="hadoop_pdf(10)"> Datasets for Project  <span class='glyphicon glyphicon-download'></span></button></a></li>-->
				    		<!--	            <li>&nbsp;</li>-->
				    		<!--	        </ul>-->
				    			 
				    		<!--	 </p>-->
				    			
				    		<!--</ol>-->
				    		<ol type="1" style="line-height:22px;">
				    		    <li>NumPy: Python's Vectorization Solution - <a href="./downloads/da-python/1_NumPy _ first step towards Data Analysis using Python.ipynb" target="_blank" style="text-decoration:underline;" download>Jupyter notebook download</a></li>
				    		    <li>Data Analysis With Pandas - <a href="./downloads/da-python/2_DataAnalysisWithPandas.ipynb" target="_blank" style="text-decoration:underline;" download>Jupyter notebook download</a></li>
				    		    <li>Matplotlib - <a href="./datascience/downloads/da-python/3_Matplotlib.ipynb" target="_blank" style="text-decoration:underline;" download>Jupyter notebook download</a></li>
				    		    <li>Exploratory Data Analysis - <a href="./downloads/da-python/4_ExploratoryDataAnalysis.ipynb" target="_blank" style="text-decoration:underline;" download>Jupyter notebook download</a></li>
				    		</ol>
				    		<ol type="A" style="line-height:25px;">
				    		    <li>Datasets used in the course work - <a href="./downloads/da-python/datasets.rar" target="_blank" style="text-decoration:underline;">download</a></li>
				    		    <li> Images used in the Notebooks - <a href="./downloads/da-python/img.rar" target="_blank" style="text-decoration:underline;">download</a></li>
				    		    <li> Workspace for DA using Python - <button type="button" class="btn btn-info" style="padding:3px;margin-top:2px;border-radius:3px;" onclick="python_da()">download - <span style=""><b><em>pwd protected</em></b>
				    			    </span><span class='glyphicon glyphicon-download'></span></button></li>
				    		</ol>


          </div>
    
        </div>

      </div>


      <div class="row">
        <div class="section bg-border-radius col-md-6 col-lg-6" id="statistics" style="background-color:#003366;color:#ffffff;margin-top:-19px">

          <div class="container" style="">
            <div class="row-fluid" style="line-height:18px;padding-right:50px;">
              <div class="col-lg-7 col-md-7  " style="padding:50px;margin-top:-20px;margin-left:25px;">
                <p style="color: white;">Statistics is the <b>third skill</b> to learn under <br>
this course <br>
"Masters in Data Science"
                
                </p>
                <p style="color: white;margin-top:-21px;"><h1 style="color: white;font-weight:580;letter-spacing:-1px;">Statistics using Excel and Tableau</h1>
                
                Statistics is the science concerned with developing and studying methods for collecting, analyzing, interpreting and presenting empirical data.
                <br><br>
                For example, data analysis requires descriptive statistics and probability theory, at a minimum. These concepts will help you make better business decisions from data.<br><br>
                Key concepts include probability distributions, statistical significance, hypothesis testing, and regression.


                  
                  <ul class="pseudo-ul" style="color: white;"><p style="text-decoration:underline;"><h3 style="color: white;font-weight:bold;">Course Highlights:</h3></p>
                    <li style="color: white;40px;">&nbsp;Complete know-how of Statistical concepts with applications.</li><br>
                    <li style="color: white;60px;">&nbsp;Implementation of Statistical concepts through Excel</li><br>
                    <li style="color: white;30px;">&nbsp;Data visualization through Tableau</li><br>
                    <li style="color: white;30px;">&nbsp;Two Excel-data Analysis projects to be submitted as part of the term-work for course completion</li><br>
                    <li style="color: white;30px;">&nbsp;Any participant post this course module can easily understand real-time data.</li><br><br>
                    <center><h4 style="color: white;font-weight:bold;margin-left:-50px;margin-top:-10px;"> Fee (only for) Statistics : INR 6000/-</h4></center>
                  </ul>
                </p>
                <div class="row" style="">
                  <div class="col-lg-4 col-md-4"></div>
                  <div class="col-lg-8 col-md-8 ">
                    <p style="color: white;"></p>
                  </div>
                </div>
                <p style="color: white;"></p>
              </div>

            </div>

          </div>

        </div>
        <div class="col-md-6 col-lg-6 hidden-sm hidden-xs syllabus" style="color:#34495e;line-height:11px;">
          <div class="row">
            <h2>Syllabus:</h2>
            <ol>
            <p>Download course contents <a href="https://drive.google.com/file/d/19dVxofFgR2wqnoqvucFuyd9q2BfDuh1W/view" target="_blank" style="text-decoration:underline;">here</a></p> 
            <p>Register <a href="https://docs.google.com/forms/d/e/1FAIpQLSdic3kbD44rZy_Qgp0WHwy0R-ZYJZlmi16Mhiq2bClztEBvlg/viewform" target="_blank" style="text-decoration:underline;">here</a> for getting batch updates</p> 
            <p> Batch time table for all subjects -  <a href="http://bit.ly/2WnuQYL" target="_blank" style="text-decoration:underline;">here</a></p
            </ol>
          </div>
          <div class="row">
            <h2>Downloads:</h2>
            <p style="font-size:12px;">(please download all resources from <a   target="_blank" style="text-devoration:underline" href="https://statistics.suvenconsultants.com">statistics.suvenconsultants.com</a>)</p>
            <ol>
				    			<p><b>Course e-Books</b> (download all resources from <a   target="_blank" style="text-devoration:underline" href="https://statistics.suvenconsultants.com">statistics.suvenconsultants.com</a>)</p>
				    			<p>1) Statistics using Excel & Data Visualization using Tableau - Book 1</p>
				    			<p>2) Statistics using Excel & Data Visualization using Tableau - Book 2</p>
				    			<p>3) Statistics using Excel & Data Visualization using Tableau - Book 3</p>
				    			<p>4) Tableau Try-outs (w.r.t Book 3) </p><br>
				    			
				    			
				    			<p> Sampling Methods</p>
                  <p>Download Sampling Methods <a type="button" target="_blank"  href="https://drive.google.com/file/d/1wbjHD1AQAAprDRslyrga8QpLhGzXQF3w/view"> Download</a></p><br>
                  <p><b>Data sets</b> (download all resources from <a target="_blank"  href="https://statistics.suvenconsultants.com">statistics.suvenconsultants.com</a>)</p>
                  <p>For Module 2 in Excel ( w.r.t Book 2)</p>
                  <p>For Module 3 in Excel ( w.r.t Book 2)</p>
                  <p>For Module 4 in Excel ( w.r.t Book 2)</p>
                  <p>For Tableau ( w.r.t Book 3) Download</p><br>
				    			<p><b>Excel Project</b></p>
				    			<p>Excel Projects : to be done as part of Term work</p>
                      
				    		</ol>

          </div>
    
        </div>
        <div class="col-md-6 col-lg-6 hidden-lg hidden-md syllabus" style="color:#34495e;">
          <div class="row">
            <h2>Syllabus:</h2>
            <ol>
            <p>Download course contents <a href="https://drive.google.com/file/d/19dVxofFgR2wqnoqvucFuyd9q2BfDuh1W/view" target="_blank" style="text-decoration:underline;">here</a></p> 
            <p>Register <a href="https://docs.google.com/forms/d/e/1FAIpQLSdic3kbD44rZy_Qgp0WHwy0R-ZYJZlmi16Mhiq2bClztEBvlg/viewform" target="_blank" style="text-decoration:underline;">here</a> for getting batch updates</p> 
            <p> Batch time table for all subjects -  <a href="http://bit.ly/2WnuQYL" target="_blank" style="text-decoration:underline;">here</a></p
            </ol>
          </div>
          <div class="row">
            <h2>Downloads:</h2>
            <p style="font-size:12px;">(please download all resources from <a   target="_blank" style="text-devoration:underline" href="https://statistics.suvenconsultants.com">statistics.suvenconsultants.com</a>)</p>
            <ol>
				    			<p><b>Course e-Books</b> (download all resources from <a   target="_blank" style="text-devoration:underline" href="https://statistics.suvenconsultants.com">statistics.suvenconsultants.com</a>)</p>
				    			<p>1) Statistics using Excel & Data Visualization using Tableau - Book 1</p>
				    			<p>2) Statistics using Excel & Data Visualization using Tableau - Book 2</p>
				    			<p>3) Statistics using Excel & Data Visualization using Tableau - Book 3</p>
				    			<p>4) Tableau Try-outs (w.r.t Book 3) </p><br>
				    			
				    			
				    			<p> Sampling Methods</p>
                  <p>Download Sampling Methods <a type="button" target="_blank"  href="https://drive.google.com/file/d/1wbjHD1AQAAprDRslyrga8QpLhGzXQF3w/view"> Download</a></p><br>
                  <p><b>Data sets</b> (download all resources from <a target="_blank"  href="https://statistics.suvenconsultants.com">statistics.suvenconsultants.com</a>)</p>
                  <p>For Module 2 in Excel ( w.r.t Book 2)</p>
                  <p>For Module 3 in Excel ( w.r.t Book 2)</p>
                  <p>For Module 4 in Excel ( w.r.t Book 2)</p>
                  <p>For Tableau ( w.r.t Book 3) Download</p><br>
				    			<p><b>Excel Project</b></p>
				    			<p>Excel Projects : to be done as part of Term work</p>
                      
				    		</ol>

          </div>
    
        </div>

      </div>




      <div class="row">
        <div class="section bg-border-radius col-md-6 col-lg-6" id="python" style="background-color:#990000;color:#ffffff;margin-top:-3px;">

          <div class="container" style="">
            <div class="row-fluid" style="line-height:18px;padding-right:50px;">
              <div class="col-lg-7 col-md-7" style="padding:50px;margin-top:-20px;margin-left:25px;">
                <p class="" style="color: white;">
                    Python Programming is the <b>fourth skill</b> to learn under <br>
            this course <br>
            "Masters in Data Science"
                
                </p>
                <p style="color: white;margin-top:-21px;margin-left:-2px;"><h2 style="color: white;font-weight:580;letter-spacing:-1px;">Python Programming (Core + Advanced)</h2></p>
                
                <p class="">
                
                Python is a general purpose programming language. Created nearly 30 years ago, it is now one of the most popular language according to the Stackoverflow rankings. Its popularity is particularly important in the data science and machine learning fields. But it is also a language easy to learn, this explains why it has become the language the most taught in universities.
                <br><br>
                What is python used for ?<br>
                <ol>
                    <li>Web Development, using the frameworks Django, Flask, Pylons</li>
                    <li>Data Science and Visualization using Numpy, Pandas and Matplotlib</li>
                    <li>Machine learning with Tensorflow and Scikit-learn</li>
                    <li>Desktop applications with PyQt, Gtk, wxWidgets and many more</li>
                    <li>Mobile applications using Kivy or BeeWare</li>
                    <li>Education: Python is a great language to learn programming!</li>
                </ol>

                  <ul class="pseudo-ul" style="color: white;"><p style="text-decoration:underline;"><h3 style="color: white;font-weight:bold;">Course Highlights:</h3></p>
                    <li style="color: white;40px;">&nbsp;17 sessions of 3 hrs each covering 3 major sections of generic python programming namely Core, Routine Business Task automation, Advanced.</li><br>
                    <li style="color: white;60px;">&nbsp;The course does not* focus on "Python for Data Science", as this makes the learner in-competent for many interviews.
(*Python for Data Science is covered under "Machine Learning course" module)</li><br>
                    <li style="color: white;30px;">&nbsp;Each participant can do a 2 weeks of Online Internship on problem statements submitted by IT professionals working at Morgan Stanley, Accenture and NeoSoft.</li><br>
                    <center><h4 style="color: white;font-weight:bold;margin-left:-50px;margin-top:-10px;"> Fee (only for Python) : INR 8000/-</h4></center>
                  </ul>
                </p>
                <div class="row" style="">
                  <div class="col-lg-4 col-md-4"></div>
                  <div class="col-lg-8 col-md-8 ">
                    <p style="color: white;"></p>
                  </div>
                </div>
                <p style="color: white;"></p>
              </div>

            </div>

          </div>

        </div>
        <div class="col-md-6 col-lg-6 syllabus" style="color:#34495e;line-height:18px;">
          <div class="row">
            <h2>Syllabus:</h2>
            <ol>
            <p>Download course contents <a href="https://drive.google.com/open?id=0B4rCFkKCsCeKUG1rQWdhOHRhUjA" target="_blank" style="text-decoration:underline;">here</a></p> 
            <p>Register <a href="https://docs.google.com/forms/d/e/1FAIpQLSdic3kbD44rZy_Qgp0WHwy0R-ZYJZlmi16Mhiq2bClztEBvlg/viewform" target="_blank" style="text-decoration:underline;">here</a> for getting batch updates</p> 
            <p> Batch time table for all subjects -  <a href="http://bit.ly/2WnuQYL" target="_blank" style="text-decoration:underline;">here</a></p
            </ol>
          </div>
          <div class="row">
            <h2>Downloads:</h2>
            
            <ol>    			
				    			<p>Chapter_1.py work-space - <a href="downloads/chapter_1s.py" style="text-decoration:underline;" download>download</a></p>
				    			<p>Chapter_2.py work-space - <a href="downloads/chapter_2s.py" style="text-decoration:underline;" download>download</a></p>
				    			<p>Chapter_3.py work-space - <a href="downloads/chapter_3s.py" style="text-decoration:underline;" download>download</a></p>
				    			<br><br>
				    			<p>Complete work-space for 17 chapters with needed resources <button type="button" class="btn btn-info" style="padding:3px;margin-top:6px;border-radius:3px;" onclick="python_rar()">download - <span style=""><b><em>pwd protected</em></b>
				    			    </span><span class='glyphicon glyphicon-download'></span></button></p>
				    			
                  <br><br>
                  <b style="text-decoration:underline;">Project Specifications</b>
                  <li>
                  <p>Combine select pages from many pdfs - <a href="downloads/project combine select pages from many pdfs_Spec.py" style="text-decoration:underline;" download>download</a></p></li>
                  <p><li>Web Scrapping - Find email address and phone numbers from a web page - <a href="downloads/Project find email addr and phone numbers from a web page_Spec.py" style="text-decoration:underline;" download>download</a></li></p>
                  
				    		</ol>

          </div>
    
        </div>

      </div>


        <div class="row">
        <div class="section bg-border-radius col-md-6 col-lg-6" id="ml" style="background-color:#003366;color:#ffffff;">

          <div class="container" style="">
            <div class="row-fluid" style="line-height:18px;padding-right:50px;">
              <div class="col-lg-7 col-md-7" style="padding:50px;margin-top:-20px;margin-left:25px;">
                <p class="" style="color: white;">
                    Machine Learning is the <b>fifth skill</b> to learn under<br>
            this course <br>
            "Masters in Data Science"
                
                </p>
                <p style="color: white;margin-top:-21px;margin-left:-2px;"><h1 style="color: white;font-weight:580;letter-spacing:-1px;">Machine Learning</h1></p>
                
                <p class="">
                
                Machine Learning is an application of Artificial Intelligence. It allows software applications to become accurate in predicting outcomes. It helps in making data-driven decisions at scale for businesses.
                <br><br>
                
                Getting key information or insights from data is the key reason; businesses and organizations invest heavily in a good workforce as well as newer paradigms and domains like Machine Learning.<br><br>
                
                Machine Learning is heavily being used in Healthcare, Finance, Real Estate and Electronics (specifically Personal Device Market).

                  <ul class="pseudo-ul" style="color: white;"><p style="text-decoration:underline;"><h3 style="color: white;font-weight:bold;">Course Highlights:</h3></p>
                    <li style="color: white;40px;">&nbsp;40 hrs of hands-on training covering all concepts & algorithms in ML</li><br>
                    <li style="color: white;60px;">&nbsp;Covering Python for Data Science - Numpy, Pandas, Matplotlib and Scikit   
   Solving simple case studies</li><br>
                    <li style="color: white;30px;">&nbsp;Being ready for "Advanced Machine learning" course</li><br><br>
                    <center><h4 style="color: white;font-weight:bold;margin-left:-50px;margin-top:-10px;"> Fee (Only for Machine Learning) : INR 6000/-</h4></center>
                  </ul>
                </p>
                <div class="row" style="">
                  <div class="col-lg-4 col-md-4"></div>
                  <div class="col-lg-8 col-md-8 ">
                    <p style="color: white;"></p>
                  </div>
                </div>
                <p style="color: white;"></p>
              </div>

            </div>

          </div>

        </div>
        <div class="col-md-6 col-lg-6 syllabus" style="color:#34495e;line-height:16px;">
          <div class="row" style="margin-top:-5px;">
            <h2>Syllabus:</h2>
            <ol>
            <p>Download course contents <a href="https://drive.google.com/open?id=1yiI8tkW9VOCzriiGGLMpXrT1WI48BBcA" target="_blank" style="text-decoration:underline;">here</a></p> 
            <p>Register <a href="https://docs.google.com/forms/d/e/1FAIpQLSdic3kbD44rZy_Qgp0WHwy0R-ZYJZlmi16Mhiq2bClztEBvlg/viewform" target="_blank" style="text-decoration:underline;">here</a> for getting batch updates</p> 
            <p> Batch time table for all subjects -  <a href="http://bit.ly/2WnuQYL" target="_blank" style="text-decoration:underline;">here</a></p
            </ol>
          </div>
          <div class="row" style="margin-top:-20px;">
            <h2>Downloads:</h2>
            
            <ol>    			
				    			<li><p>Setup python machine learning packages - <a href="downloads/setup python machine learning packages .txt" style="text-decoration:underline;" download>download</a></p></li>
				    			<li><p> Python Data types used in ML programming (a small refresher) - <a href="downloads/Python Data types used in ML programming (a small refresher).ipynb" style="text-decoration:underline;" download>download</a></p></li>
				    			<li><p>Complete Machine Learning eNotes -  <a target="_blank" href="https://drive.google.com/file/d/1HYal1-lHemu-tjRgtA1HhhX2GByRRG8S/view?usp=drivesdk" style="text-decoration:underline;" download>download</a></p></li>
				    			
				    			<li><p>CaseStudy_1_ml_Predicting Student Grant Recommendations - <a href="downloads/CaseStudy_1_ml_Predicting Student Grant Recommendations.ipynb" style="text-decoration:underline;" download>download</a></p></li>
				    			
				    			<li><p>NumPy basics - <a href="downloads/NumPy basics.ipynb" style="text-decoration:underline;" download>Jupyter notebook download</a></p></li>
				    			
				    			<li><p>Pandas for data Analysis - <a href="downloads/Pandas for data Analysis.ipynb" style="text-decoration:underline;" download>Jupyter notebook download</a></p></li>
				    			
				    			<li><p>Matplotlib for Data Visualization - <a href="downloads/Matplotlib for Data Visualization.ipynb" style="text-decoration:underline;" download>Jupyter notebook download</a></p></li>
				    			
				    			
				    			<li><p>Scikit-Learn for Data Science  - <a href="downloads/Scikit-Learn for Data Science.ipynb" style="text-decoration:underline;" download>Jupyter notebook download</a></p></li>
				    			
				    			<li><p>Datasets and Images needed for above Jupyter notebooks - <a href="downloads/datasets_n_images.rar" style="text-decoration:underline;" download>download</a></p></li>
				    			
				    			
				    			<li>
				    			<p>Complete workspace - of all Jupyter Notebooks - <button type="button" class="btn btn-info" style="padding:3px;margin-top:6px;border-radius:3px;" onclick="python_rar2()">download - <span style=""><b><em>pwd protected</em></b>
				    			    </span><span class='glyphicon glyphicon-download'></span></button></p></li>
				    		
                  
				    		</ol>

          </div>
    
        </div>

      </div>
      
      
        <div class="row">
        <div class="section bg-border-radius col-md-6 col-lg-6" id="advml" style="background-color:#990000;color:#ffffff;margin-top:-22px;">

          <div class="container" style="">
            <div class="row-fluid" style="line-height:18px;padding-right:50px;">
              <div class="col-lg-7 col-md-7" style="padding:50px;margin-top:-20px;margin-left:25px;">
                <p class="" style="color: white;">
                    Advance Machine Learning is the <b>last skill</b> to learn for <br>
            completing this course <br>
            "Masters in Data Science"
                
                </p>
                <p style="color: white;margin-top:-21px;margin-left:-2px;"><h2 style="color: white;font-weight:580;letter-spacing:-1px;">Advance Machine Learning</h2></p>
                
                <p class="">
                
                After completing the fundamentals of Machine learning in the previous course, this course would take you deeper and boarder into Machine learning.
                <br><br>
                This course module is designed to teach through projects focusing on<br>
                NLP (Natural Language processing), Text processing, Text classification, Text analytics  and Sentiment Analysis. Machine learning and Deep learning(RNN) algorithms are well understood and applied through out the course.
               

                  <ul class="pseudo-ul" style="color: white;"><p style="text-decoration:underline;"><h3 style="color: white;font-weight:bold;">Course Highlights:</h3></p>
                    <li style="color: white;40px;">&nbsp;Overall coverage of NLP Libraries and understanding its key applications</li><br>
                    <li style="color: white;60px;">&nbsp;Solve 4 real time case studies using raw (unclean) data</li><br>
                    <li style="color: white;30px;">&nbsp;Understanding deep learning and its applications to NLP and text analytics</li><br>
                    <li style="color: white;30px;">&nbsp;Clear understanding of all Types of Neural Networks and its applications.</li><br>
                    <li style="color: white;30px;">&nbsp;Performing Text Analytics and Sentiment analysis on real time data.</li><br>
                    <li style="color: white;30px;">&nbsp;Working on at-least one Capstone project with real datasets.</li><br>
                    <li style="color: white;30px;">&nbsp;*Participating in Kaggle competitions under the mentor-ship of the subject trainer.</li><br><br>
                    <center><h4 style="color: white;font-weight:bold;margin-left:-50px;margin-top:-10px;"> Fee (Only for Advance Machine Learning) : INR 15000/-</h4></center>
                  </ul>
                </p>
                <div class="row" style="">
                  <div class="col-lg-4 col-md-4"></div>
                  <div class="col-lg-8 col-md-8 ">
                    <p style="color: white;"></p>
                  </div>
                </div>
                <p style="color: white;"></p>
              </div>

            </div>

          </div>

        </div>
        <div class="col-md-6 col-lg-6 syllabus" style="color:#34495e;line-height:16px;">
          <div class="row">
            <h2>Syllabus:</h2>
            <ol>
            <p>Download course contents <a href="https://drive.google.com/open?id=154v4l0ZwpWMZPBd6HA5OR-cdmo9__aKq" target="_blank" style="text-decoration:underline;">here</a></p> 
            <p>Register <a href="https://docs.google.com/forms/d/e/1FAIpQLSdic3kbD44rZy_Qgp0WHwy0R-ZYJZlmi16Mhiq2bClztEBvlg/viewform" target="_blank" style="text-decoration:underline;">here</a> for getting batch updates</p> 
            <p> Batch time table for all subjects -  <a href="http://bit.ly/2WnuQYL" target="_blank" style="text-decoration:underline;">here</a></p
            </ol>
          </div>
          <div class="row">
              
            <h2>Downloads:</h2>
            
            <ol>    			
				    			<li><p>Download Anaconda <a href="https://www.anaconda.com/distribution/ " style="text-decoration:underline;" target="_blank">here</a> or mini conda <a href="https://docs.conda.io/en/latest/miniconda.html " target="_blank" style="text-decoration:underline;" download>here</a></p></li>
				    			
				    			<li><p>Steps to install Anaconda  - Quick read - 3 mins - <a href="https://hackernoon.com/installing-python-and-anaconda-on-windows-f9059ba8b136 " target="_blank" style="text-decoration:underline;" download>here</a></p></li>
				    			
				    			<li><p>Complete Advance Machine Learning eNotes - <a href="https://drive.google.com/open?id=154v4l0ZwpWMZPBd6HA5OR-cdmo9__aKq" target="_blank" style="text-decoration:underline;" download>download</a></p></li>
				    			
				    			<li><p>work-space for Part 2 - Jupyter Notebook - <a href="downloads/part 2_Extracting data from different Sources.rar" style="text-decoration:underline;" download> download</a></p></li>
				    			    
				    			    
				    			    
				    			    
				    			    <li><p>work-space for Part 3 - Jupyter Notebook <button type="button" class="btn btn-info" style="padding:3px;margin-top:6px;border-radius:3px;" onclick="aml(2)">download - <span style=""><b><em>pwd protected</em></b>
				    			    </span><span class='glyphicon glyphicon-download'></span></button></p></li>
				    			    
				    			    <li><p>work-space for Part 4 - Jupyter Notebook <button type="button" class="btn btn-info" style="padding:3px;margin-top:6px;border-radius:3px;" onclick="aml(3)">download - <span style=""><b><em>pwd protected</em></b>
				    			    </span><span class='glyphicon glyphicon-download'></span></button></p></li>
				    			    
				    			    <li><p><b>Assignment</b> : Study & presentation of International Research papers - <a href="downloads/Research Paper_Case study on Phishing Email detection.pdf" style="text-decoration:underline;" download> download-1 </a>-<a href="downloads/Research Paper_News Summarization using Text Mining.pdf" style="text-decoration:underline;" download> download-2</a></p></li>
				    			    
				    			    <li><p>work-space for Part 5 - Jupyter Notebook <button type="button" class="btn btn-info" style="padding:3px;margin-top:6px;border-radius:3px;" onclick="aml(4)">download - <span style=""><b><em>pwd protected</em></b>
				    			    </span><span class='glyphicon glyphicon-download'></span></button></p></li>
				    			    
				    			    <li><p>work-space for Part 6 - Jupyter Notebook <button type="button" class="btn btn-info" style="padding:3px;margin-top:6px;border-radius:3px;" onclick="aml(5)">download - <span style=""><b><em>pwd protected</em></b>
				    			    </span><span class='glyphicon glyphicon-download'></span></button></p></li>
				    			    
				    			    
				    			    <li><p>work-space for Part 7 - Jupyter Notebook <button type="button" class="btn btn-info" style="padding:3px;margin-top:6px;border-radius:3px;" onclick="aml(6)">download - <span style=""><b><em>pwd protected</em></b>
				    			    </span><span class='glyphicon glyphicon-download'></span></button></p></li>
				    			    
				    			    
				    			    <li><p><b>Data-sets and Images</b> - <a href="https://drive.google.com/file/d/1y5jw-NdBBIQcpejaKj442JE64TyVoJT8/view?usp=sharing" style="text-decoration:underline;" target="_blank"> download</a></p></li>
				    			    
				    			    
				    			    <li style="margin-top:8px;"><p><b>Are you ready to face Interviews ?</b> - <a href="https://datascience.suvenconsultants.com/interviews" style="text-decoration:underline;" target="_blank">Check here</a></p></li>
				    			  
				    			
                  
				    		</ol>

          </div>
    
        </div>

      </div>
      
    

<!-- ///////////////// Start of Footer /////////////////////////// --> 

<section id="bottom" class="navclass">
    <div class="container-fluid hidden-xs hidden-sm" id="footer">
         <h3 class="text-center">THANKS FOR VISITING US</h3><br>
            <div class="row" style="margin-left: auto; margin-right: auto; padding-left:40px; padding-right:50px;">
				<div class="col-lg-3 col-md-3 col-sm-12 col-xs-12">
				<ul>
				<h4><strong>Training Programs</strong></h4>
				<li><a href="https://datascience.suven" target="_blank">Masters in Data Science</a></li>
                <li><a href="https://db.suvenconsultants.com" target="_blank">Database SQL+PL/SQL</a></li>
                <li><a href="https://android.suvenconsultants.com" target="_blank">Mobile App Dev (Android + iOS)</a></li>
                <li><a href="https://java.suvenconsultants.com" target="_blank">Java Certification</a></li>
                <li><a href="https://monster.suvenconsultants.com" target="_blank">Web Technologies</a></li>
                <li><a href="https://datascience.suvenconsultants.com/#dataanalytics" target="_blank">Data Analytics using R</a></li>
                <li><a href="https://datascience.suvenconsultants.com/#python" target="_blank">Python (Core + Advanced)</a></li>
                <li><a href="https://android.suvenconsultants.com/#section-angular" target="_blank">Angular - Firebase</a></li>
                <li><a href="https://digitalmarketing.suvenconsultants.com/" target="_blank">Digital Marketing SEO+SEM</a></li>
                <li><a href="https://hacking.suvenconsultants.com/" target="_blank">Ethical Hacking</a></li>
                <li><a href="https://statistics.suvenconsultants.com/" target="_blank">Statistics + Excel & Tableau</a></li>
                <li><a href="https://training.suvenconsultants.com/" target="_blank">List of all Training Programs</a></li>
                <li><a href="https://internship.suvenconsultants.com/" target="_blank">Coding Internships</a></li>
				</ul>
				</div>
				<div class="col-lg-3 col-md-3 col-sm-12 col-xs-12">
				<ul>
				<h4><strong>Recruitment Services</strong></h4>
				<li><a href="https://freshers.suvenconsultants.com/" target="_blank">Fresher IT Jobs</a></li>
				<li><a href="#" data-toggle="modal" data-target="#hiringModal">IT Recruitment - Lateral</a></li>
				<li><a href="#" data-toggle="modal" data-target="#hiringModal">Non-IT and Support for Lateral upto VP/GM etc.</a></li>
				<li><a href="#" data-toggle="modal" data-target="#hiringModal">Employee Verification through Reference Checks</a></li>
				<li><a href="#" data-toggle="modal" data-target="#hiringModal">Interview and Rejection handling services</a></li>
				<li><a href="#" data-toggle="modal" data-target="#hiringModal">Salary Negotiations as per Industry norms</a></li>
				<li><a href="#" data-toggle="modal" data-target="#hiringModal">Profile Mapping as per Industry norms</a></li>
				<li><a href="#" data-toggle="modal" data-target="#hiringModal">Complete Hand-holding Support till Joining</a></li>
				</ul>
				</div>
				<div class="col-lg-3 col-md-3 col-sm-12 col-xs-12">
				<ul>
				<h4><strong>Company</strong></h4>
				<li><a href="https://suvenconsultants.com/recruitment.php" target="_blank">About us</a></li>
				<li><a href="https://suvenconsultants.com/JobPosting.php" target="_blank">Current Job Openings</a></li>
				<li><a href="https://suvenconsultants.com/feedback.php" target="_blank">Training Feedbacks</a></li>
				<li><a href="https://mentor.suvenconsultants.com/" target="_blank">Our Mentors</a></li>
				<li><a href="https://www.google.co.in/search?nfpr=1&q=suven+consultants&spell=1&sa=X&ved=0ahUKEwidoubh1dXdAhWFNY8KHfrxBZoQBQgpKAA&biw=1366&bih=657#lrd=0x3be7c8afbfffffff:0xcf0cd79d3c52220a,1,,," target="_blank">Google Reviews</a></li>
				<li><a href="https://www.facebook.com/suvenconsultants/reviews/?ref=page_internal" target="_blank">Facebook Reviews</a></li>
				<li><a href="https://suventechnology.blogspot.com" target="_blank">Technical Blog</a></li>
				</ul>
				</div>
				<div class="col-lg-3 col-md-3 col-sm-12 col-xs-12">
				<ul>
				<h4><strong>Get In Touch</strong></h4>
				<li><a href="#" data-toggle="modal" data-target="#addressModal">SCTPL Branches</a></li>
				<li><a href="#" data-toggle="modal" data-target="#contactModal">Contact us</a><br>
				<li><a href="https://www.facebook.com/suvenconsultants/" target="_blank">Facebook</a></li>
				<li><a href="https://www.linkedin.com/in/rocky-jagtiani-3b390649/" target="_blank">LinkedIn For Training</a></li>
				<li><a href="https://in.linkedin.com/in/simran-jagtiani-752b0347" target="_blank">LinkedIn For Recruitment</a></li>
				</ul>
				</div>
			</div>	
                <div class="row">
                <div class="social-links" >
                  <h4>Connect with us</h4>
                    <a class="facebook" href="https://www.facebook.com/suvenconsultants/" target="_blank"></a>
                    <a class="linkedin" href="https://in.linkedin.com/in/simran-jagtiani-752b0347" target="_blank"></a>
                    <a class="youtube" href="https://www.youtube.com/user/rockyjagtiani" target="_blank"></a>
                    </div>
              </div> <!-- end of row -->
        </div><!-- end of container-->
        <div class="container-fluid hidden-lg hidden-md" id="footer">
         <h3 class="text-center">THANKS FOR VISITING US</h3><br>
            <div class="row" style="margin-left: auto; margin-right: auto;">
				<div class="col-lg-3 col-md-3 col-sm-12 col-xs-12">
				<ul>
				<h4><strong>Training Programs</strong></h4>
				<li><a href="https://datascience.suvenconsultants.com" target="_blank">Masters in Data Science</a></li>
                <li><a href="https://db.suvenconsultants.com" target="_blank">Database SQL+PL/SQL</a></li>
                <li><a href="https://android.suvenconsultants.com" target="_blank">Mobile App Dev (Android + iOS)</a></li>
                <li><a href="https://java.suvenconsultants.com" target="_blank">Java Certification</a></li>
                <li><a href="https://monster.suvenconsultants.com" target="_blank">Web Technologies</a></li>
                <li><a href="https://datascience.suvenconsultants.com/#dataanalytics" target="_blank">Data Analytics using R</a></li>
                <li><a href="https://datascience.suvenconsultants.com/#python" target="_blank">Python (Core + Advanced)</a></li>
                <li><a href="https://android.suvenconsultants.com/#section-angular" target="_blank">Angular - Firebase</a></li>
                <li><a href="https://digitalmarketing.suvenconsultants.com/" target="_blank">Digital Marketing SEO+SEM</a></li>
                <li><a href="https://hacking.suvenconsultants.com/" target="_blank">Ethical Hacking</a></li>
                <li><a href="https://statistics.suvenconsultants.com/" target="_blank">Statistics + Excel & Tableau</a></li>
                <li><a href="https://training.suvenconsultants.com/" target="_blank">List of all Training Programs</a></li>
                <li><a href="https://internship.suvenconsultants.com/" target="_blank">Coding Internships</a></li>
				</ul>
				</div>
				<div class="col-lg-3 col-md-3 col-sm-12 col-xs-12">
				<ul>
				<h4><strong>Recruitment Services</strong></h4>
				<li><a href="https://freshers.suvenconsultants.com/" target="_blank">Fresher IT Jobs</a></li>
				<li><a href="#" data-toggle="modal" data-target="#hiringModal">IT Recruitment - Lateral</a></li>
				<li><a href="#" data-toggle="modal" data-target="#hiringModal">Non-IT and Support for Lateral upto VP/GM etc.</a></li>
				<li><a href="#" data-toggle="modal" data-target="#hiringModal">Employee Verification through Reference Checks</a></li>
				<li><a href="#" data-toggle="modal" data-target="#hiringModal">Interview and Rejection handling services</a></li>
				<li><a href="#" data-toggle="modal" data-target="#hiringModal">Salary Negotiations as per Industry norms</a></li>
				<li><a href="#" data-toggle="modal" data-target="#hiringModal">Profile Mapping as per Industry norms</a></li>
				<li><a href="#" data-toggle="modal" data-target="#hiringModal">Complete Hand-holding Support till Joining</a></li>
				</ul>
				</div>
				<div class="col-lg-3 col-md-3 col-sm-12 col-xs-12">
				<ul>
				<h4><strong>Company</strong></h4>
				<li><a href="https://suvenconsultants.com/recruitment.php" target="_blank">About us</a></li>
				<li><a href="https://suvenconsultants.com/JobPosting.php" target="_blank">Current Job Openings</a></li>
				<li><a href="https://suvenconsultants.com/feedback.php" target="_blank">Training Feedbacks</a></li>
				<li><a href="https://mentor.suvenconsultants.com/" target="_blank">Our Mentors</a></li>
				<li><a href="https://www.google.co.in/search?nfpr=1&q=suven+consultants&spell=1&sa=X&ved=0ahUKEwidoubh1dXdAhWFNY8KHfrxBZoQBQgpKAA&biw=1366&bih=657#lrd=0x3be7c8afbfffffff:0xcf0cd79d3c52220a,1,,," target="_blank">Google Reviews</a></li>
				<li><a href="https://www.facebook.com/suvenconsultants/reviews/?ref=page_internal" target="_blank">Facebook Reviews</a></li>
				<li><a href="https://suventechnology.blogspot.com" target="_blank">Technical Blog</a></li>
				</ul>
				</div>
				<div class="col-lg-3 col-md-3 col-sm-12 col-xs-12">
				<ul>
				<h4><strong>Get In Touch</strong></h4>
				<li><a href="#" data-toggle="modal" data-target="#addressModal">SCTPL Branches</a></li>
				<li><a href="#" data-toggle="modal" data-target="#contactModal">Contact us</a><br>
				<li><a href="https://www.facebook.com/suvenconsultants/" target="_blank">Facebook</a></li>
				<li><a href="https://www.linkedin.com/in/rocky-jagtiani-3b390649/" target="_blank">LinkedIn For Training</a></li>
				<li><a href="https://in.linkedin.com/in/simran-jagtiani-752b0347" target="_blank">LinkedIn For Recruitment</a></li>
				</ul>
				</div>
			</div>	
                <div class="row">
                <div class="social-links" >
                  <h4>Connect with us</h4>
                    <a class="facebook" href="https://www.facebook.com/suvenconsultants/" target="_blank"></a>
                    <a class="linkedin" href="https://in.linkedin.com/in/simran-jagtiani-752b0347" target="_blank"></a>
                    <a class="youtube" href="https://www.youtube.com/user/rockyjagtiani" target="_blank"></a>
                    </div>
              </div> <!-- end of row -->
        </div>
  </section>
	
	
	<!-- Popup Modal For Addresses -->
		<div id="addressModal" class="modal fade" role="dialog">
		  <div class="modal-dialog">

			<div class="modal-content">
			  <div class="modal-header text-center">
				<button type="button" class="close" data-dismiss="modal">&times;</button>
				<h4><strong>SCTPL Training Room Addresses</strong></h4>
				<h5 class="modal-title">Centralized Contact No.: <strong>+91 9870014450</strong></h5>
			  </div>
			<div class="modal-body">
				<div class="row">
				<div class="col-lg-6 col-md-6 col-sm-12 col-xs-12">
				<address class="chembur_address">
                </address>
				</div>
				<div class="col-lg-6 col-md-6 col-sm-12 col-xs-12">
				<address class="borivali_address">
                </address>
				</div>
				<div class="col-lg-6 col-md-6 col-sm-12 col-xs-12">
				<address class="thanenew_address">
                </address>
				</div>
				<div class="col-lg-6 col-md-6 col-sm-12 col-xs-12">
				<address class="dadarnew_address">
                </address>
				</div>
				</div>
			</div>
			</div>
		</div>
	</div>
	
	<!-- Popup Modal For Contact US -->
		<div id="contactModal" class="modal fade" role="dialog">
		  <div class="modal-dialog">

			<div class="modal-content">
			  <div class="modal-header text-center">
				<button type="button" class="close" data-dismiss="modal">&times;</button>
				<h4 class="modal-title">Let us connect with you</h4>
				</div>
			<div class="modal-body">
				<div class="row">
				<div class="col-lg-12 col-md-12 col-sm-12 col-xs-12">
				<form name="contactForm" action="connectus.php" method="post" onsubmit="return validateContact()">
				<div class="row">    
				<div class="form-group col-lg-6 col-md-6 col-sm-6 col-xs-6">
				<input type="text" class="form-control" name="name" placeholder="Enter your name" required/>
				</div>
				<div class="form-group col-lg-6 col-md-6 col-sm-6 col-xs-6">
				<input type="tel" class="form-control" name="mobile" placeholder="Enter your mobile no." required/>
				</div>
				<div class="form-group col-lg-12 col-md-12 col-sm-12 col-xs-12">
				<input type="email" class="form-control" name="mail_id" placeholder="Enter Your Email ID - Only @gmail and @yahoo IDs allowed" required/>
				</div>
				<div class="form-group col-lg-12 col-md-12 col-sm-12 col-xs-12">
				<textarea  class="form-control" name="purpose" id="purpose" placeholder="how can we help ?" maxlength="100" required></textarea>
				</div>
				</div>
				<div class="form-group">
					<div class="col-lg-offset-1 col-lg-4 col-md-4 col-sm-4 col-xs-6" style="padding:0px;">	
					<img src='https://suvenconsultants.com/captcha.php' class="img-reponsive img-rounded">
					</div>
					<div class="col-lg-4 col-md-4 col-sm-4 col-xs-6" style="padding:0px;">
  					<input type="text" class="form-control" name="code" id="code" placeholder="Enter Captcha" required>
  					</div>
  					<div class="col-lg-2 col-md-4 col-sm-4 col-xs-12 text-center">
    				<button type="submit" class="btn btn-success" id="btn_submit">Submit</button>
    				</div>
  				</div>
  				
  				<div class="row"><br><hr>
  				    <p class="text-center"><b>SCTPL Branches</b></p>
  				    <div class="col-lg-3 col-md-3 col-sm-3 col-xs-6 address_modal">
  				            <p><b>Chembur</b></p>
  				            <p >4/B wing,Trishul Apartments,
                            Sindhi Society Rd Number 1,
                            Chembur, Mumbai.</p>
                            <p><span class="glyphicon glyphicon-phone"></span> 022-25277413</p>
                            <p><span class="glyphicon glyphicon-phone"></span> 9870014450</p>
  				    </div>
  				    <div class="col-lg-3 col-md-3 col-sm-3 col-xs-6 address_modal">
  				            <p><b>Boriivali</b></p>
  				            <p>c/o : Kalpana Coaching Classes,<br>
                            Borivali (West)<br>
                            <em>5 mins walk from Station</em></em></p>
                            <p><span class="glyphicon glyphicon-phone"></span> 022-28674177</p>
                            <p><span class="glyphicon glyphicon-phone"></span> 9870014450</p>
  				    </div>
  				    <div class="col-lg-3 col-md-3 col-sm-3 col-xs-6 address_modal">
  				            <p><b>Thane</b></p>
  				            <p>Kalpana Classes
                            202, 2nd Floor, Crystal Court, B Cabin, Above Lagoo Bandhu Jwellers. Thane West.</p>
                            <p><span class="glyphicon glyphicon-phone"></span> 9967504602</p>
                            <p><span class="glyphicon glyphicon-phone"></span> 9870014450</p>
  				    </div>
  				    <div class="col-lg-3 col-md-3 col-sm-3 col-xs-6 address_modal">
  				            <p><b>Dadar</b></p>
  				            <p>Kalpana Classes
                            205, 2nd Floor, Pearl Centre,
                            Senapati Bapat Road, Dadar West, 
                            Mumbai.</p>
                            <p><span class="glyphicon glyphicon-phone"></span> 9867674602</p>
                            <p><span class="glyphicon glyphicon-phone"></span> 9870014450</p>
  				    </div>
  				</div>
				
				</form>
				</div>
				</div>
			</div>
			</div>
		</div>
	</div>
	
	<!-- Popup Modal For Hiring Recruitment -->
	<div id="hiringModal" class="modal fade" role="dialog">
		<div class="modal-dialog">
			<div class="modal-content">
			  <div class="modal-header text-center">
				<button type="button" class="close" data-dismiss="modal" aria-hidden="true">&times;</button>
				<h4><b>Suven Consultants & Technology Pvt. Ltd.</b></h4>
			   </div>
			<div class="modal-body">
				<div class="row">
				<div class="col-lg-4 col-md-4 col-sm-4 col-xs-4">
				<img src="https://suvenconsultants.com/mainpagefiles/images/sim1.jpg" class="img-circle img-responsive"/>
				</div>
				<div class="col-lg-8 col-md-8 col-sm-8 col-xs-8">
				<p>
				    Ms Simran (Head for Operations & Recruitment) is an thorough HR professional coming with an expertise in hiring people laterally across levels from Junior to Senior. With 15 years of experience hiring talent right from fresher to CEO level, has a flair for writing and nurturing talent from very basic.She along with her team strongly believes in fitting the right peg to the right hole. Her team likes working with level headed and out of the box thinkers. Do fill in the form below to enable us to connect.
				</p>
				</div>
				</div>
				<div class="row">
				<h5 class="text-center"><b>Let us connect with you</b></h5>
				<div class="col-lg-12 col-md-12 col-sm-12 col-xs-12">
				<form name="hiringForm" action="https://suvenconsultants.com/hiring_connect.php" method="post" onsubmit="return validateHiring()">
				<div class="form-group">
				<input type="text" class="form-control" name="company_name" placeholder="Enter Your Company Name" required />
				</div>
				<div class="form-group">
				<input type="text" class="form-control" name="hr_name" placeholder="Enter Your HR Name" required />
				</div>
				<div class="form-group">
				<input type="tel" class="form-control" name="contact" placeholder="Enter Your Contact Number" required />
				</div>
				<div class="form-group">
				<input type="email" class="form-control" name="mail_id" placeholder="Enter Your Email ID" required />
				</div>
				<div class="form-group">
				<input type="text" class="form-control" name="requirement" placeholder="Your Job Requirement" maxlength="100" required />
				</div>
				<div class="form-group">
					<div class="col-lg-offset-2 col-lg-4 col-md-offset-2 col-md-4 col-sm-6 col-xs-6" style="padding:0px;">	
					<img src='https://suvenconsultants.com/captcha.php' class="img-rounded img-reponsive">
					</div>
					<div class="col-lg-4 col-md-4 col-sm-6 col-xs-6" style="padding:0px;">
  					<input type="text" class="form-control" name="code" id="code" placeholder="Enter Captcha" required>
  					</div>
  				</div>
				<div class="form-group text-center"><br><br>
				<button type="submit" class="btn btn-success btn-block" id="btn_submit">Submit</button>
				</div>
				</form>
				</div>
				</div>
			</div>
			</div>
		</div>
	</div>

<!-- SCRIPTS  Start-->
    <script src="https://ajax.googleapis.com/ajax/libs/jquery/2.2.4/jquery.min.js"></script>  
    <script src="https://maxcdn.bootstrapcdn.com/bootstrap/3.3.7/js/bootstrap.min.js"></script>
    <script src="js/main.js"></script>
<!-- SCRIPTS END -->

<script>
    
function validateContact(){
    var name = document.forms["contactForm"]["name"].value;
	var mobile = document.forms["contactForm"]["mobile"].value;
	var email = document.forms["contactForm"]["mail_id"].value;
	var purpose = document.forms["contactForm"]["purpose"].value;
	var captcha = document.forms["contactForm"]["code"].value;
	
	var phoneno = /^\d{10}$/;
	var reg = /^([A-Za-z0-9_\-\.])+\@([A-Za-z0-9_\-\.])+\.([A-Za-z]{2,4})$/;
	
    if (name == "" || name == null) {
        alert("Please Enter Your Name");
        return false;
    }else if(mobile == "" || mobile == null){
		alert("Please Enter Your Mobile Number");
        return false;
	}else if(phoneno.test(mobile) == false){
		alert("Please Enter Valid Mobile Number");
        return false;
	}else if(email == "" || email == null){
		alert("Please Enter Your Email ID");
        return false;
	}else if(reg.test(email) == false){
		alert("Invalid Email Address");
        return false;
	}else if(purpose == "" || purpose == null){
		alert("Please Enter Your Purpose");
        return false;
	}else if(purpose.length > 100){
		alert("You can not enter more than 100 characters");
        return false;
	}else if(captcha == "" || captcha == null){
		alert("Please Enter Captcha Code");
        return false;
	}

}

function validateHiring(){
    var companyname = document.forms["hiringForm"]["company_name"].value;
	var hrname = document.forms["hiringForm"]["hr_name"].value;
	var contact = document.forms["hiringForm"]["contact"].value;
	var email = document.forms["hiringForm"]["mail_id"].value;
	var requirement = document.forms["hiringForm"]["requirement"].value;
	var captcha = document.forms["hiringForm"]["code"].value;
	
	var reg = /^([A-Za-z0-9_\-\.])+\@([A-Za-z0-9_\-\.])+\.([A-Za-z]{2,4})$/;
	
    if (companyname == "" || companyname == null) {
        alert("Please Enter Your Company Name");
        return false;
    }else if(hrname == "" || hrname == null){
		alert("Please Enter HR Name");
        return false;
	}else if(contact == "" || contact == null){
		alert("Please Enter Contact Number");
        return false;
	}else if(email == "" || email == null){
		alert("Please Enter Your Email ID");
        return false;
	}else if(reg.test(email) == false){
		alert("Invalid Email Address");
        return false;
	}else if(requirement == "" || requirement == null){
		alert("Please Enter Your Requirement");
        return false;
	}else if(requirement.length > 100){
		alert("You can not enter more than 100 characters");
        return false;
	}else if(captcha == "" || captcha == null){
		alert("Please Enter Captcha Code");
        return false;
	}

}

    
</script>

<!--Start of Tawk.to Script-->
<script type="text/javascript">
var Tawk_API=Tawk_API||{}, Tawk_LoadStart=new Date();
(function(){
var s1=document.createElement("script"),s0=document.getElementsByTagName("script")[0];
s1.async=true;
s1.src='https://embed.tawk.to/592bce2e4374a471e7c503cd/default';
s1.charset='UTF-8';
s1.setAttribute('crossorigin','*');
s0.parentNode.insertBefore(s1,s0);
})();
</script>
<!--End of Tawk.to Script-->

	<div class="training hidden-xs hidden-sm">         
        <p>Register for free : training - <a href="https://goo.gl/forms/D1MXNNbAnxdLers72" target="_blank"><b>here</b></a></p>
        <p><a href="https://drive.google.com/file/d/0B4rCFkKCsCeKc0pDZDdQY3dmVG8/view" target="_blank"><b>Download Information Brochure</b></a></p>
    </div>
    <div class="codeint hidden-xs hidden-sm" style="margin-left:-5px;margin-bottom:-27px;">
        <p>
          <p>
          <Strong>Coding<br><br>Internships</strong>
        </p>
        <p><a 

href="https://internship.suvenconsultants.com/" target="_blank"><b>Apply Here</b></a></p>
 

     </div>
    <div class="freshers hidden-sm hidden-xs" style="margin-left:-5px; line-height:10px;">
    	<p><Strong>Freshers</strong></p>
    	<p><a href="https://freshers.suvenconsultants.com/" target="_blank" style="font-size:11px;"><b>Apply Here</b></a></p>
    </div>
    
</body>
<script>
    function python_rar(){
        var pwd = prompt("Please enter a Password", ""); 
        if(pwd == "rocky0809Py"){
        
            window.open("downloads/suvenPythonWorkspace.rar", "_blank");    
        }else {
				alert("Password you enter was incorrect");
			}
			
    }
    function python_da(){
        var pwd = prompt("Please enter a Password", ""); 
        if(pwd == "Rocky0809DaPy"){
        
            window.open("./downloads/da-python/data Analysis Python_Suven.rar", "_blank");    
        }else {
				alert("Password you enter was incorrect");
			}
			
    }
    
    function python_rar2(){
        var pwd = prompt("Please enter a Password", ""); 
        if(pwd == "rocky0809ML"){
        
            window.open("https://drive.google.com/open?id=13AOSD8amnk8iNwJmeP0pwIgKSBF12g70", "_blank");    
        }else {
				alert("Password you enter was incorrect");
			}
			
    }


    function aml(link_number){
            
        
        var pwd = prompt("Please enter a Password", "");
			
			if(pwd == "SuVEN2020AmL"){
				if(link_number == 2){
					window.open("downloads/part 3_Exploring and Proccessing text data.rar", "_blank");
				}
				else if(link_number == 3){
					window.open("downloads/part 4_Converting Text to Features.rar", "_blank");
				}
				else if(link_number == 4){
					window.open("downloads/part 5_Advanced NLP.rar", "_blank");
				}
				else if(link_number == 5){
					window.open("downloads/part 6_Four Real_World Case Studies n Solutions.rar", "_blank");
				}
				else if(link_number == 6){
					window.open("downloads/part 7_Deep Learning in NLP.rar", "_blank");
				}
					else if(link_number == 7){
					window.open("https://drive.google.com/open?id=0B0sr7hUZERtfbjRzU2NyVV90X0U", "_blank");
				}
					else if(link_number == 8){
					window.open("https://drive.google.com/open?id=0B0sr7hUZERtfaGRsXzU5UThPc0U", "_blank");
				}
			    	else if(link_number == 9){
					window.open("https://drive.google.com/open?id=1EdHBcWmpDyxvDm25jiXnTLAG_EiD8ps3", "_blank");
				}
				    else if(link_number == 10){
					window.open("https://drive.google.com/open?id=1B1BHQCs594ZPPZwlP3SNPboOU6F4OkTN", "_blank");
				}
				else if(link_number == 11){
					window.open("https://db.suvenconsultants.com/machineLearningCompletePdf.pdf", "_blank");
				}
				else if(link_number == 12){
					window.open("https://drive.google.com/open?id=1gi_95WvtTklyDHvLfy-fiWeicYIJXB2a", "_blank");
				}
			} else {
				alert("Password you enter was incorrect");
			}
        
        
        
        
        
    }



    function hadoop_pdf(link_number){
			var pwd = prompt("Please enter a Password", "");
			
			if(pwd == "niraj0605Da"){
				if(link_number == 1){
					window.open("https://drive.google.com/file/d/1N3JuJ-wCTu8qyrXiQbwg-em4CynFVP59/view", "_blank");
				}
				else if(link_number == 2){
					window.open("https://drive.google.com/open?id=1r4Z0vu64BMBOqfjjYW_VSyUp7pREztIY", "_blank");
				}
				else if(link_number == 3){
					window.open("https://drive.google.com/open?id=1pN_cypBV9qooB0dAgqyyi1wlQQjM6CuU", "_blank");
				}
				else if(link_number == 4){
					window.open("downloads/HDFS_MapReduce Notes.rar", "_blank");
				}
				else if(link_number == 5){
					window.open(" https://drive.google.com/open?id=0B4rCFkKCsCeKeEVhcjFrVnYybE0", "_blank");
				}
				else if(link_number == 6){
					window.open("https://drive.google.com/open?id=0B4rCFkKCsCeKc01ENGNldm5heHM", "_blank");
				}
					else if(link_number == 7){
					window.open("https://drive.google.com/open?id=0B0sr7hUZERtfbjRzU2NyVV90X0U", "_blank");
				}
					else if(link_number == 8){
					window.open("https://drive.google.com/open?id=0B0sr7hUZERtfaGRsXzU5UThPc0U", "_blank");
				}
			    	else if(link_number == 9){
					window.open("https://drive.google.com/open?id=1EdHBcWmpDyxvDm25jiXnTLAG_EiD8ps3", "_blank");
				}
				    else if(link_number == 10){
					window.open("https://drive.google.com/open?id=1B1BHQCs594ZPPZwlP3SNPboOU6F4OkTN", "_blank");
				}
				else if(link_number == 11){
					window.open("https://db.suvenconsultants.com/machineLearningCompletePdf.pdf", "_blank");
				}
				else if(link_number == 12){
					window.open("https://drive.google.com/open?id=1gi_95WvtTklyDHvLfy-fiWeicYIJXB2a", "_blank");
				}
			} else {
				alert("Password you enter was incorrect");
			}
			}
			
		$('.navbar-collapse a').click(function(){
            $(".navbar-collapse").collapse('hide');
        });	
</script>
<script src="js/main1.js"></script>
<script src="//cdnjs.cloudflare.com/ajax/libs/jquery-cookie/1.4.0/jquery.cookie.min.js"></script>
</html>