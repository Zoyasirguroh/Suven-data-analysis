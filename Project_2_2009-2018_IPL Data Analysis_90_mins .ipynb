{
 "cells": [
  {
   "cell_type": "markdown",
   "metadata": {},
   "source": [
    "``Project_2`` :\n",
    "--\n",
    "\n",
    "**time limit : 90 mins**\n",
    "\n",
    "Little detail about IPL (Indian Premier League). The Indian Premier League (IPL), officially Vivo Indian Premier League for sponsorship reasons, is a professional Twenty20 cricket league in India contested during April and May of every year by teams representing Indian cities and some states. The league was founded by the Board of Control for Cricket in India (BCCI) in 2008, and is regarded as the brainchild of Lalit Modi, the founder and former commissioner of the league. IPL has an exclusive window in ICC Future Tours Programme. The IPL is the most-attended cricket league in the world and in 2014 ranked sixth by average attendance among all sports leagues. In 2010, the IPL became the first sporting event in the world to be broadcast live on YouTube. The brand value of IPL in 2018 was US Dollar 6.3 billion, according to Duff & Phelps. According to BCCI, the 2015 IPL season contributed Rs11.5 billion (US Dollar 182 million) to the GDP of the Indian economy. There have been eleven seasons of the IPL tournament. The current IPL title holders are the Chennai Super Kings, who won the 2018 season. The most successful franchises in the tournament are the Chennai Super Kings and Mumbai Indians with 3 tournament wins each.\n",
    "\n",
    "**1st Update** : Data of 2019 are ``not included`` in the dataset. Winners of 2019 were ``Mumbai Indians`` "
   ]
  },
  {
   "cell_type": "code",
   "execution_count": 1,
   "metadata": {},
   "outputs": [],
   "source": [
    "# loading the required libraries\n",
    "import numpy as np # linear algebra\n",
    "import pandas as pd # data processing, CSV file I/O (e.g. pd.read_csv)"
   ]
  },
  {
   "cell_type": "code",
   "execution_count": 2,
   "metadata": {},
   "outputs": [
    {
     "data": {
      "text/html": [
       "<div>\n",
       "<style scoped>\n",
       "    .dataframe tbody tr th:only-of-type {\n",
       "        vertical-align: middle;\n",
       "    }\n",
       "\n",
       "    .dataframe tbody tr th {\n",
       "        vertical-align: top;\n",
       "    }\n",
       "\n",
       "    .dataframe thead th {\n",
       "        text-align: right;\n",
       "    }\n",
       "</style>\n",
       "<table border=\"1\" class=\"dataframe\">\n",
       "  <thead>\n",
       "    <tr style=\"text-align: right;\">\n",
       "      <th></th>\n",
       "      <th>id</th>\n",
       "      <th>season</th>\n",
       "      <th>city</th>\n",
       "      <th>date</th>\n",
       "      <th>team1</th>\n",
       "      <th>team2</th>\n",
       "      <th>toss_winner</th>\n",
       "      <th>toss_decision</th>\n",
       "      <th>result</th>\n",
       "      <th>dl_applied</th>\n",
       "      <th>winner</th>\n",
       "      <th>win_by_runs</th>\n",
       "      <th>win_by_wickets</th>\n",
       "      <th>player_of_match</th>\n",
       "      <th>venue</th>\n",
       "      <th>umpire1</th>\n",
       "      <th>umpire2</th>\n",
       "      <th>umpire3</th>\n",
       "    </tr>\n",
       "  </thead>\n",
       "  <tbody>\n",
       "    <tr>\n",
       "      <th>0</th>\n",
       "      <td>1</td>\n",
       "      <td>2017</td>\n",
       "      <td>Hyderabad</td>\n",
       "      <td>2017-04-05</td>\n",
       "      <td>Sunrisers Hyderabad</td>\n",
       "      <td>Royal Challengers Bangalore</td>\n",
       "      <td>Royal Challengers Bangalore</td>\n",
       "      <td>field</td>\n",
       "      <td>normal</td>\n",
       "      <td>0</td>\n",
       "      <td>Sunrisers Hyderabad</td>\n",
       "      <td>35</td>\n",
       "      <td>0</td>\n",
       "      <td>Yuvraj Singh</td>\n",
       "      <td>Rajiv Gandhi International Stadium, Uppal</td>\n",
       "      <td>AY Dandekar</td>\n",
       "      <td>NJ Llong</td>\n",
       "      <td>NaN</td>\n",
       "    </tr>\n",
       "    <tr>\n",
       "      <th>1</th>\n",
       "      <td>2</td>\n",
       "      <td>2017</td>\n",
       "      <td>Pune</td>\n",
       "      <td>2017-04-06</td>\n",
       "      <td>Mumbai Indians</td>\n",
       "      <td>Rising Pune Supergiant</td>\n",
       "      <td>Rising Pune Supergiant</td>\n",
       "      <td>field</td>\n",
       "      <td>normal</td>\n",
       "      <td>0</td>\n",
       "      <td>Rising Pune Supergiant</td>\n",
       "      <td>0</td>\n",
       "      <td>7</td>\n",
       "      <td>SPD Smith</td>\n",
       "      <td>Maharashtra Cricket Association Stadium</td>\n",
       "      <td>A Nand Kishore</td>\n",
       "      <td>S Ravi</td>\n",
       "      <td>NaN</td>\n",
       "    </tr>\n",
       "    <tr>\n",
       "      <th>2</th>\n",
       "      <td>3</td>\n",
       "      <td>2017</td>\n",
       "      <td>Rajkot</td>\n",
       "      <td>2017-04-07</td>\n",
       "      <td>Gujarat Lions</td>\n",
       "      <td>Kolkata Knight Riders</td>\n",
       "      <td>Kolkata Knight Riders</td>\n",
       "      <td>field</td>\n",
       "      <td>normal</td>\n",
       "      <td>0</td>\n",
       "      <td>Kolkata Knight Riders</td>\n",
       "      <td>0</td>\n",
       "      <td>10</td>\n",
       "      <td>CA Lynn</td>\n",
       "      <td>Saurashtra Cricket Association Stadium</td>\n",
       "      <td>Nitin Menon</td>\n",
       "      <td>CK Nandan</td>\n",
       "      <td>NaN</td>\n",
       "    </tr>\n",
       "  </tbody>\n",
       "</table>\n",
       "</div>"
      ],
      "text/plain": [
       "   id  season       city        date                team1  \\\n",
       "0   1    2017  Hyderabad  2017-04-05  Sunrisers Hyderabad   \n",
       "1   2    2017       Pune  2017-04-06       Mumbai Indians   \n",
       "2   3    2017     Rajkot  2017-04-07        Gujarat Lions   \n",
       "\n",
       "                         team2                  toss_winner toss_decision  \\\n",
       "0  Royal Challengers Bangalore  Royal Challengers Bangalore         field   \n",
       "1       Rising Pune Supergiant       Rising Pune Supergiant         field   \n",
       "2        Kolkata Knight Riders        Kolkata Knight Riders         field   \n",
       "\n",
       "   result  dl_applied                  winner  win_by_runs  win_by_wickets  \\\n",
       "0  normal           0     Sunrisers Hyderabad           35               0   \n",
       "1  normal           0  Rising Pune Supergiant            0               7   \n",
       "2  normal           0   Kolkata Knight Riders            0              10   \n",
       "\n",
       "  player_of_match                                      venue         umpire1  \\\n",
       "0    Yuvraj Singh  Rajiv Gandhi International Stadium, Uppal     AY Dandekar   \n",
       "1       SPD Smith    Maharashtra Cricket Association Stadium  A Nand Kishore   \n",
       "2         CA Lynn     Saurashtra Cricket Association Stadium     Nitin Menon   \n",
       "\n",
       "     umpire2 umpire3  \n",
       "0   NJ Llong     NaN  \n",
       "1     S Ravi     NaN  \n",
       "2  CK Nandan     NaN  "
      ]
     },
     "execution_count": 2,
     "metadata": {},
     "output_type": "execute_result"
    }
   ],
   "source": [
    "df = pd.read_csv('datasets/matches.csv')\n",
    "\n",
    "# get a feel of the data\n",
    "# Selecting top 3 rows from the dataframe\n",
    "df.head(3)\n",
    "\n",
    "# dl_applied -> means duckworth lewis technique applied or not."
   ]
  },
  {
   "cell_type": "code",
   "execution_count": 3,
   "metadata": {},
   "outputs": [
    {
     "data": {
      "text/plain": [
       "696"
      ]
     },
     "execution_count": 3,
     "metadata": {},
     "output_type": "execute_result"
    }
   ],
   "source": [
    "# Fetching number of rows in the dataframe\n",
    "df.shape[0]"
   ]
  },
  {
   "cell_type": "code",
   "execution_count": 4,
   "metadata": {},
   "outputs": [
    {
     "data": {
      "text/plain": [
       "Mumbai Indians                 98\n",
       "Chennai Super Kings            90\n",
       "Kolkata Knight Riders          86\n",
       "Royal Challengers Bangalore    79\n",
       "Kings XI Punjab                76\n",
       "Rajasthan Royals               70\n",
       "Delhi Daredevils               67\n",
       "Sunrisers Hyderabad            52\n",
       "Deccan Chargers                29\n",
       "Gujarat Lions                  13\n",
       "Pune Warriors                  12\n",
       "Rising Pune Supergiant         10\n",
       "Kochi Tuskers Kerala            6\n",
       "Rising Pune Supergiants         5\n",
       "Name: winner, dtype: int64"
      ]
     },
     "execution_count": 4,
     "metadata": {},
     "output_type": "execute_result"
    }
   ],
   "source": [
    "# Let's check the number of matches each team won till now in the IPL history.\n",
    "\n",
    "df['winner'].sort_values().value_counts()"
   ]
  },
  {
   "cell_type": "markdown",
   "metadata": {},
   "source": [
    "**```Did you notice```** that we have \"Rising Pune Supergiant\" 2 times in the above list. One with the name as \"Rising Pune Supergiant\" and other as \"Rising Pune Supergiants\". Let's **``cleanse``** the data by modifying the \"Rising Pune Supergiants\" to \"Rising Pune Supergiant\". \n",
    "\n",
    "*Also, it can be present in other columns as well like 'team1', 'team2' , 'toss_winner'. Lets replace in all the columns at once. Though, it can be done in many ways, we will use the apply() function to do so.*"
   ]
  },
  {
   "cell_type": "code",
   "execution_count": 5,
   "metadata": {},
   "outputs": [],
   "source": [
    "# replacing only under column 'winner'\n",
    "df.loc[df['winner'] == 'Rising Pune Supergiants', 'winner'] = 'Rising Pune Supergiant'\n",
    "\n",
    "\n",
    "# Q1> replace in other series as well like 'team1', 'team2',toss_winner, winner.\n",
    "# use apply()\n"
   ]
  },
  {
   "cell_type": "code",
   "execution_count": 1,
   "metadata": {},
   "outputs": [],
   "source": [
    "# Q2> Again find the numbers of wins for each team.\n",
    "# Note : this time we should see only 'Rising Pune Supergiant'\n",
    "\n"
   ]
  },
  {
   "cell_type": "code",
   "execution_count": 2,
   "metadata": {},
   "outputs": [],
   "source": [
    "# Q3> plot a simple bar-Graph for the winners.\n",
    "\n",
    "# use df_winner dataframe\n",
    "# df_winner = df['winner'].sort_values().value_counts()\n",
    "\n"
   ]
  },
  {
   "cell_type": "markdown",
   "metadata": {},
   "source": [
    "Let's do some analysis on **``relation between winning the toss and the match``**. Let's find total number of times/matches where a team won the toss and also won the match. Also, we will find the opposite as well. Number of times team won the toss and lost the match."
   ]
  },
  {
   "cell_type": "code",
   "execution_count": 16,
   "metadata": {},
   "outputs": [
    {
     "data": {
      "text/html": [
       "<div>\n",
       "<style scoped>\n",
       "    .dataframe tbody tr th:only-of-type {\n",
       "        vertical-align: middle;\n",
       "    }\n",
       "\n",
       "    .dataframe tbody tr th {\n",
       "        vertical-align: top;\n",
       "    }\n",
       "\n",
       "    .dataframe thead th {\n",
       "        text-align: right;\n",
       "    }\n",
       "</style>\n",
       "<table border=\"1\" class=\"dataframe\">\n",
       "  <thead>\n",
       "    <tr style=\"text-align: right;\">\n",
       "      <th></th>\n",
       "      <th>id</th>\n",
       "      <th>season</th>\n",
       "      <th>city</th>\n",
       "      <th>date</th>\n",
       "      <th>team1</th>\n",
       "      <th>team2</th>\n",
       "      <th>toss_winner</th>\n",
       "      <th>toss_decision</th>\n",
       "      <th>result</th>\n",
       "      <th>dl_applied</th>\n",
       "      <th>winner</th>\n",
       "      <th>win_by_runs</th>\n",
       "      <th>win_by_wickets</th>\n",
       "      <th>player_of_match</th>\n",
       "      <th>venue</th>\n",
       "      <th>umpire1</th>\n",
       "      <th>umpire2</th>\n",
       "      <th>umpire3</th>\n",
       "    </tr>\n",
       "  </thead>\n",
       "  <tbody>\n",
       "    <tr>\n",
       "      <th>1</th>\n",
       "      <td>2</td>\n",
       "      <td>2017</td>\n",
       "      <td>Pune</td>\n",
       "      <td>2017-04-06</td>\n",
       "      <td>Mumbai Indians</td>\n",
       "      <td>Rising Pune Supergiant</td>\n",
       "      <td>Rising Pune Supergiant</td>\n",
       "      <td>field</td>\n",
       "      <td>normal</td>\n",
       "      <td>0</td>\n",
       "      <td>Rising Pune Supergiant</td>\n",
       "      <td>0</td>\n",
       "      <td>7</td>\n",
       "      <td>SPD Smith</td>\n",
       "      <td>Maharashtra Cricket Association Stadium</td>\n",
       "      <td>A Nand Kishore</td>\n",
       "      <td>S Ravi</td>\n",
       "      <td>NaN</td>\n",
       "    </tr>\n",
       "    <tr>\n",
       "      <th>2</th>\n",
       "      <td>3</td>\n",
       "      <td>2017</td>\n",
       "      <td>Rajkot</td>\n",
       "      <td>2017-04-07</td>\n",
       "      <td>Gujarat Lions</td>\n",
       "      <td>Kolkata Knight Riders</td>\n",
       "      <td>Kolkata Knight Riders</td>\n",
       "      <td>field</td>\n",
       "      <td>normal</td>\n",
       "      <td>0</td>\n",
       "      <td>Kolkata Knight Riders</td>\n",
       "      <td>0</td>\n",
       "      <td>10</td>\n",
       "      <td>CA Lynn</td>\n",
       "      <td>Saurashtra Cricket Association Stadium</td>\n",
       "      <td>Nitin Menon</td>\n",
       "      <td>CK Nandan</td>\n",
       "      <td>NaN</td>\n",
       "    </tr>\n",
       "  </tbody>\n",
       "</table>\n",
       "</div>"
      ],
      "text/plain": [
       "   id  season    city        date           team1                   team2  \\\n",
       "1   2    2017    Pune  2017-04-06  Mumbai Indians  Rising Pune Supergiant   \n",
       "2   3    2017  Rajkot  2017-04-07   Gujarat Lions   Kolkata Knight Riders   \n",
       "\n",
       "              toss_winner toss_decision  result  dl_applied  \\\n",
       "1  Rising Pune Supergiant         field  normal           0   \n",
       "2   Kolkata Knight Riders         field  normal           0   \n",
       "\n",
       "                   winner  win_by_runs  win_by_wickets player_of_match  \\\n",
       "1  Rising Pune Supergiant            0               7       SPD Smith   \n",
       "2   Kolkata Knight Riders            0              10         CA Lynn   \n",
       "\n",
       "                                     venue         umpire1    umpire2 umpire3  \n",
       "1  Maharashtra Cricket Association Stadium  A Nand Kishore     S Ravi     NaN  \n",
       "2   Saurashtra Cricket Association Stadium     Nitin Menon  CK Nandan     NaN  "
      ]
     },
     "execution_count": 16,
     "metadata": {},
     "output_type": "execute_result"
    }
   ],
   "source": [
    "# case where team won the toss and also won the match\n",
    "winning_toss_winning_match = df[(df['toss_winner'] == df['winner'])]\n",
    "winning_toss_winning_match.head(2)"
   ]
  },
  {
   "cell_type": "code",
   "execution_count": 3,
   "metadata": {},
   "outputs": [],
   "source": [
    "# Q4> find where team won the toss but lost the match ?\n",
    "\n"
   ]
  },
  {
   "cell_type": "code",
   "execution_count": 19,
   "metadata": {},
   "outputs": [
    {
     "data": {
      "image/png": "[encoded data removed]",
      "text/plain": [
       "<Figure size 432x288 with 1 Axes>"
      ]
     },
     "metadata": {
      "needs_background": "light"
     },
     "output_type": "display_data"
    }
   ],
   "source": [
    "# Q5> Create a new dataframe containing details of winning_toss_winning_match \n",
    "#     and winning_toss_losing_match  teams. Plot a simple bar graph. \n",
    "#     Keep the title as \"Number of time a team won the toss and the match result of that match\"  \n",
    "\n",
    "\n",
    "\n",
    "#Let's plot the above obervations\n",
    "\n"
   ]
  },
  {
   "cell_type": "markdown",
   "metadata": {},
   "source": [
    "**``Observation``** : From above analysis, we can say that there is **no significant impact of toss on the match result**."
   ]
  },
  {
   "cell_type": "markdown",
   "metadata": {},
   "source": [
    "Now, Lets discuss on ``team winning the toss and choosing to bat and bowl first``. We will analyse which had more success with winning the toss and batting first and which team had more success when they choose to bowl first."
   ]
  },
  {
   "cell_type": "code",
   "execution_count": 25,
   "metadata": {},
   "outputs": [
    {
     "name": "stdout",
     "output_type": "stream",
     "text": [
      "team_batting_first_won:\n",
      " Chennai Super Kings            29\n",
      "Mumbai Indians                 22\n",
      "Rajasthan Royals               15\n",
      "Kolkata Knight Riders          15\n",
      "Deccan Chargers                11\n",
      "Delhi Daredevils               11\n",
      "Royal Challengers Bangalore     9\n",
      "Sunrisers Hyderabad             8\n",
      "Kings XI Punjab                 6\n",
      "Pune Warriors                   3\n",
      "Name: winner, dtype: int64\n",
      "------------------------------------------------\n",
      "team_fielding_first_won:\n",
      " Kolkata Knight Riders          34\n",
      "Royal Challengers Bangalore    30\n",
      "Mumbai Indians                 28\n",
      "Kings XI Punjab                26\n",
      "Delhi Daredevils               24\n",
      "Rajasthan Royals               22\n",
      "Chennai Super Kings            21\n",
      "Sunrisers Hyderabad            13\n",
      "Gujarat Lions                  10\n",
      "Deccan Chargers                 8\n",
      "Rising Pune Supergiant          8\n",
      "Kochi Tuskers Kerala            4\n",
      "Name: winner, dtype: int64\n"
     ]
    }
   ],
   "source": [
    "# Q6> Check how many times team winning the toss and  batting first won \n",
    "#     and how many times team bowling first won ? <already solved>\n",
    "\n",
    "# Hint : \n",
    "#  For this we have to check if the team won the toss and toss_decision \n",
    "#  is bat/field and winning team is toss_winner or not.\n",
    "\n",
    "team_batting_first_won = df.loc[(df['toss_winner'] == df['winner']) & (df['toss_decision'] == 'bat'), ['id', 'winner']]\n",
    "\n",
    "team_fielding_first_won = df.loc[(df['toss_winner'] == df['winner']) & (df['toss_decision'] == 'field'),  ['id', 'winner']]\n",
    "\n",
    "team_fielding_first_won_df= team_fielding_first_won['winner'].value_counts()\n",
    "\n",
    "team_batting_first_won_df = team_batting_first_won['winner'].value_counts()\n",
    "\n",
    "print(\"team_batting_first_won:\\n\", team_batting_first_won_df)\n",
    "print(\"------------------------------------------------\")\n",
    "print(\"team_fielding_first_won:\\n\", team_fielding_first_won_df)"
   ]
  },
  {
   "cell_type": "code",
   "execution_count": 4,
   "metadata": {},
   "outputs": [],
   "source": [
    "# Q7> Plot 2 seperate bar graph's of team_batting_first_won \n",
    "#     & team_fielding_first_won.\n",
    "\n",
    "# Note_1 : Keep title of the first graph as \"Team winning toss, batting first and winning the match.\"\n",
    "\n"
   ]
  },
  {
   "cell_type": "code",
   "execution_count": 5,
   "metadata": {},
   "outputs": [],
   "source": [
    "# # Note_2 : Keep title of the second graph as \"Team winning toss, fielding first won the match.\"\n",
    "\n"
   ]
  },
  {
   "cell_type": "markdown",
   "metadata": {},
   "source": [
    "**Watch the below o/p of**    ``df['city'].value_counts()``"
   ]
  },
  {
   "cell_type": "code",
   "execution_count": 33,
   "metadata": {},
   "outputs": [
    {
     "data": {
      "text/plain": [
       "Mumbai            94\n",
       "Kolkata           70\n",
       "Delhi             67\n",
       "Bangalore         66\n",
       "Hyderabad         56\n",
       "Chennai           49\n",
       "Chandigarh        46\n",
       "Jaipur            40\n",
       "Pune              38\n",
       "Durban            15\n",
       "Centurion         12\n",
       "Ahmedabad         12\n",
       "Visakhapatnam     11\n",
       "Rajkot            10\n",
       "Indore             9\n",
       "Dharamsala         9\n",
       "Johannesburg       8\n",
       "Ranchi             7\n",
       "Abu Dhabi          7\n",
       "Bengaluru          7\n",
       "Cuttack            7\n",
       "Port Elizabeth     7\n",
       "Cape Town          7\n",
       "Raipur             6\n",
       "Sharjah            6\n",
       "Kochi              5\n",
       "Kanpur             4\n",
       "East London        3\n",
       "Kimberley          3\n",
       "Nagpur             3\n",
       "Mohali             3\n",
       "Bloemfontein       2\n",
       "Name: city, dtype: int64"
      ]
     },
     "execution_count": 33,
     "metadata": {},
     "output_type": "execute_result"
    }
   ],
   "source": [
    "df['city'].value_counts()"
   ]
  },
  {
   "cell_type": "markdown",
   "metadata": {},
   "source": [
    "If you see above data, we have ``Bangalore`` and ``Bengaluru`` which refers to the same city.So we will replace \"Banglaore\" which is the old name of the city with **\"Bengaluru\"**."
   ]
  },
  {
   "cell_type": "code",
   "execution_count": 6,
   "metadata": {},
   "outputs": [],
   "source": [
    "# Q7> Change city name from Bangalore to Bengaluru. (Hint : use replace())\n",
    "\n",
    "# Changing city name from Bangalore to Bengaluru. use .replace()\n"
   ]
  },
  {
   "cell_type": "markdown",
   "metadata": {},
   "source": [
    "Let's analyse how **``\"Duckworth–Lewis method\"``** affects result of match based on team batting first or bowling first."
   ]
  },
  {
   "cell_type": "code",
   "execution_count": 7,
   "metadata": {},
   "outputs": [],
   "source": [
    "# Q8> Create a dataframe for mathches where result is decided by \"Duckworth-Lewis method\".\n",
    "# name the dataframe as new_df\n",
    "\n",
    "# Reference : What is Duckworth-Lewis method ?\n",
    "# https://en.wikipedia.org/wiki/Duckworth%E2%80%93Lewis%E2%80%93Stern_method\n",
    "\n",
    "# Creating a dataframe, which holds the records where the match result is decided by \"Duckworth-Lewis method\".\n",
    "\n",
    "\n"
   ]
  },
  {
   "cell_type": "code",
   "execution_count": 37,
   "metadata": {},
   "outputs": [],
   "source": [
    "# Now we have to create a new column to decide which team has \n",
    "# batted first for each match. I am gonna create a function for it \n",
    "# and apply that function to the dataframe\n",
    "\n",
    "def set_batting_first(team1, team2, toss_winner, toss_decision):\n",
    "    if toss_decision == 'bat':\n",
    "        return toss_winner\n",
    "    else:\n",
    "        if team1 == toss_winner:\n",
    "            return team2\n",
    "        else:\n",
    "            return team1  "
   ]
  },
  {
   "cell_type": "code",
   "execution_count": 40,
   "metadata": {},
   "outputs": [
    {
     "data": {
      "text/html": [
       "<div>\n",
       "<style scoped>\n",
       "    .dataframe tbody tr th:only-of-type {\n",
       "        vertical-align: middle;\n",
       "    }\n",
       "\n",
       "    .dataframe tbody tr th {\n",
       "        vertical-align: top;\n",
       "    }\n",
       "\n",
       "    .dataframe thead th {\n",
       "        text-align: right;\n",
       "    }\n",
       "</style>\n",
       "<table border=\"1\" class=\"dataframe\">\n",
       "  <thead>\n",
       "    <tr style=\"text-align: right;\">\n",
       "      <th></th>\n",
       "      <th>id</th>\n",
       "      <th>team1</th>\n",
       "      <th>team2</th>\n",
       "      <th>toss_winner</th>\n",
       "      <th>toss_decision</th>\n",
       "      <th>dl_applied</th>\n",
       "      <th>winner</th>\n",
       "      <th>bat_first</th>\n",
       "    </tr>\n",
       "  </thead>\n",
       "  <tbody>\n",
       "    <tr>\n",
       "      <th>56</th>\n",
       "      <td>57</td>\n",
       "      <td>Sunrisers Hyderabad</td>\n",
       "      <td>Kolkata Knight Riders</td>\n",
       "      <td>Kolkata Knight Riders</td>\n",
       "      <td>field</td>\n",
       "      <td>1</td>\n",
       "      <td>Kolkata Knight Riders</td>\n",
       "      <td>Sunrisers Hyderabad</td>\n",
       "    </tr>\n",
       "    <tr>\n",
       "      <th>99</th>\n",
       "      <td>100</td>\n",
       "      <td>Delhi Daredevils</td>\n",
       "      <td>Kings XI Punjab</td>\n",
       "      <td>Delhi Daredevils</td>\n",
       "      <td>bat</td>\n",
       "      <td>1</td>\n",
       "      <td>Kings XI Punjab</td>\n",
       "      <td>Delhi Daredevils</td>\n",
       "    </tr>\n",
       "    <tr>\n",
       "      <th>102</th>\n",
       "      <td>103</td>\n",
       "      <td>Kolkata Knight Riders</td>\n",
       "      <td>Chennai Super Kings</td>\n",
       "      <td>Kolkata Knight Riders</td>\n",
       "      <td>bat</td>\n",
       "      <td>1</td>\n",
       "      <td>Chennai Super Kings</td>\n",
       "      <td>Kolkata Knight Riders</td>\n",
       "    </tr>\n",
       "    <tr>\n",
       "      <th>119</th>\n",
       "      <td>120</td>\n",
       "      <td>Kings XI Punjab</td>\n",
       "      <td>Delhi Daredevils</td>\n",
       "      <td>Delhi Daredevils</td>\n",
       "      <td>field</td>\n",
       "      <td>1</td>\n",
       "      <td>Delhi Daredevils</td>\n",
       "      <td>Kings XI Punjab</td>\n",
       "    </tr>\n",
       "    <tr>\n",
       "      <th>122</th>\n",
       "      <td>123</td>\n",
       "      <td>Kings XI Punjab</td>\n",
       "      <td>Kolkata Knight Riders</td>\n",
       "      <td>Kolkata Knight Riders</td>\n",
       "      <td>field</td>\n",
       "      <td>1</td>\n",
       "      <td>Kolkata Knight Riders</td>\n",
       "      <td>Kings XI Punjab</td>\n",
       "    </tr>\n",
       "  </tbody>\n",
       "</table>\n",
       "</div>"
      ],
      "text/plain": [
       "      id                  team1                  team2            toss_winner  \\\n",
       "56    57    Sunrisers Hyderabad  Kolkata Knight Riders  Kolkata Knight Riders   \n",
       "99   100       Delhi Daredevils        Kings XI Punjab       Delhi Daredevils   \n",
       "102  103  Kolkata Knight Riders    Chennai Super Kings  Kolkata Knight Riders   \n",
       "119  120        Kings XI Punjab       Delhi Daredevils       Delhi Daredevils   \n",
       "122  123        Kings XI Punjab  Kolkata Knight Riders  Kolkata Knight Riders   \n",
       "\n",
       "    toss_decision  dl_applied                 winner              bat_first  \n",
       "56          field           1  Kolkata Knight Riders    Sunrisers Hyderabad  \n",
       "99            bat           1        Kings XI Punjab       Delhi Daredevils  \n",
       "102           bat           1    Chennai Super Kings  Kolkata Knight Riders  \n",
       "119         field           1       Delhi Daredevils        Kings XI Punjab  \n",
       "122         field           1  Kolkata Knight Riders        Kings XI Punjab  "
      ]
     },
     "execution_count": 40,
     "metadata": {},
     "output_type": "execute_result"
    }
   ],
   "source": [
    "# Q9> Can u explain in your words, what does the below piece of code does ?\n",
    "\n",
    "for items in new_df.loc[: , ['team1','team2','toss_winner','toss_decision','bat_first']].itertuples():\n",
    "    new_df.loc[items[0] , 'bat_first'] = set_batting_first(items[1], items[2], items[3], items[4])\n",
    "    \n",
    "new_df.head()    \n",
    "\n",
    "\n",
    "# Put your explaination here :\n",
    "# \n",
    "# "
   ]
  },
  {
   "cell_type": "code",
   "execution_count": 43,
   "metadata": {},
   "outputs": [
    {
     "data": {
      "text/plain": [
       "56     0\n",
       "99     0\n",
       "102    0\n",
       "119    0\n",
       "122    0\n",
       "148    1\n",
       "251    0\n",
       "280    0\n",
       "290    0\n",
       "488    0\n",
       "Name: is_bat_first_win, dtype: int64"
      ]
     },
     "execution_count": 43,
     "metadata": {},
     "output_type": "execute_result"
    }
   ],
   "source": [
    "# Q10 > Now create 1 more column named \"is_bat_first_win\" which will have \n",
    "#       1 if the team batting first won and 0 if team batting 1 lost.\n",
    "#  < already solved >\n",
    "new_df['is_bat_first_win'] = 0\n",
    "new_df.loc[new_df['bat_first'] == new_df['winner'],'is_bat_first_win'] = 1 \n",
    "\n",
    "new_df['is_bat_first_win'].head(10)"
   ]
  },
  {
   "cell_type": "code",
   "execution_count": 48,
   "metadata": {},
   "outputs": [
    {
     "data": {
      "text/html": [
       "<div>\n",
       "<style scoped>\n",
       "    .dataframe tbody tr th:only-of-type {\n",
       "        vertical-align: middle;\n",
       "    }\n",
       "\n",
       "    .dataframe tbody tr th {\n",
       "        vertical-align: top;\n",
       "    }\n",
       "\n",
       "    .dataframe thead th {\n",
       "        text-align: right;\n",
       "    }\n",
       "</style>\n",
       "<table border=\"1\" class=\"dataframe\">\n",
       "  <thead>\n",
       "    <tr style=\"text-align: right;\">\n",
       "      <th></th>\n",
       "      <th>is_bat_first_win</th>\n",
       "    </tr>\n",
       "  </thead>\n",
       "  <tbody>\n",
       "    <tr>\n",
       "      <th>field_first_wins</th>\n",
       "      <td>14</td>\n",
       "    </tr>\n",
       "    <tr>\n",
       "      <th>bat_first_wins</th>\n",
       "      <td>5</td>\n",
       "    </tr>\n",
       "  </tbody>\n",
       "</table>\n",
       "</div>"
      ],
      "text/plain": [
       "                  is_bat_first_win\n",
       "field_first_wins                14\n",
       "bat_first_wins                   5"
      ]
     },
     "execution_count": 48,
     "metadata": {},
     "output_type": "execute_result"
    }
   ],
   "source": [
    "# Q11> Create a new dataframe dl_bat_first_win from new_df above with two results as :\n",
    "# How many field_first_and_win ?\n",
    "# How many bat_first_and_win ?\n",
    "#  < already solved >\n",
    "# Hint : use .index() to name O index as'field_first_wins' \n",
    "#        and name 1 as 'bat_first_wins'\n",
    "\n",
    "# creating a new dataframe with just two results as below.\n",
    "dl_bat_first_win = pd.DataFrame(new_df['is_bat_first_win'].value_counts())\n",
    "dl_bat_first_win.index = ['field_first_wins','bat_first_wins']\n",
    "\n",
    "dl_bat_first_win.head()"
   ]
  },
  {
   "cell_type": "code",
   "execution_count": 8,
   "metadata": {},
   "outputs": [],
   "source": [
    "# Q12> Plot a bar graph of the above dataframe dl_bat_first_win. \n",
    "#      Whats your observation like ?\n",
    "# Did the team which choose fielding first or batting second won more often ?\n",
    "\n"
   ]
  },
  {
   "cell_type": "markdown",
   "metadata": {},
   "source": [
    "**``Observation``** : Above figure shows the number of times \"Duckworth–Lewis method\" is applied and the team fielding first(or team batting second) won the match. This provided a direct connection between how \"Duckworth–Lewis method\" favours team batting second, *though the topic is still argued the most.*"
   ]
  },
  {
   "cell_type": "markdown",
   "metadata": {},
   "source": [
    "A win margin of more than 100 runs or more than 8 wickets in T20 is considered huge. **Let's do an analysis on how many occassion**, a team has lost the match with more than 100 run or more than 8 tickets. \n",
    "\n",
    "**``NOTE``** : We are gonna ignore the matches in which \"Duckworth–Lewis method\" is applied."
   ]
  },
  {
   "cell_type": "code",
   "execution_count": 52,
   "metadata": {},
   "outputs": [
    {
     "data": {
      "text/html": [
       "<div>\n",
       "<style scoped>\n",
       "    .dataframe tbody tr th:only-of-type {\n",
       "        vertical-align: middle;\n",
       "    }\n",
       "\n",
       "    .dataframe tbody tr th {\n",
       "        vertical-align: top;\n",
       "    }\n",
       "\n",
       "    .dataframe thead th {\n",
       "        text-align: right;\n",
       "    }\n",
       "</style>\n",
       "<table border=\"1\" class=\"dataframe\">\n",
       "  <thead>\n",
       "    <tr style=\"text-align: right;\">\n",
       "      <th></th>\n",
       "      <th>id</th>\n",
       "      <th>team1</th>\n",
       "      <th>team2</th>\n",
       "      <th>winner</th>\n",
       "      <th>win_by_runs</th>\n",
       "      <th>win_by_wickets</th>\n",
       "    </tr>\n",
       "  </thead>\n",
       "  <tbody>\n",
       "    <tr>\n",
       "      <th>2</th>\n",
       "      <td>3</td>\n",
       "      <td>Gujarat Lions</td>\n",
       "      <td>Kolkata Knight Riders</td>\n",
       "      <td>Kolkata Knight Riders</td>\n",
       "      <td>0</td>\n",
       "      <td>10</td>\n",
       "    </tr>\n",
       "    <tr>\n",
       "      <th>5</th>\n",
       "      <td>6</td>\n",
       "      <td>Gujarat Lions</td>\n",
       "      <td>Sunrisers Hyderabad</td>\n",
       "      <td>Sunrisers Hyderabad</td>\n",
       "      <td>0</td>\n",
       "      <td>9</td>\n",
       "    </tr>\n",
       "    <tr>\n",
       "      <th>34</th>\n",
       "      <td>35</td>\n",
       "      <td>Delhi Daredevils</td>\n",
       "      <td>Kings XI Punjab</td>\n",
       "      <td>Kings XI Punjab</td>\n",
       "      <td>0</td>\n",
       "      <td>10</td>\n",
       "    </tr>\n",
       "    <tr>\n",
       "      <th>43</th>\n",
       "      <td>44</td>\n",
       "      <td>Mumbai Indians</td>\n",
       "      <td>Delhi Daredevils</td>\n",
       "      <td>Mumbai Indians</td>\n",
       "      <td>146</td>\n",
       "      <td>0</td>\n",
       "    </tr>\n",
       "    <tr>\n",
       "      <th>53</th>\n",
       "      <td>54</td>\n",
       "      <td>Kings XI Punjab</td>\n",
       "      <td>Rising Pune Supergiant</td>\n",
       "      <td>Rising Pune Supergiant</td>\n",
       "      <td>0</td>\n",
       "      <td>9</td>\n",
       "    </tr>\n",
       "  </tbody>\n",
       "</table>\n",
       "</div>"
      ],
      "text/plain": [
       "    id             team1                   team2                  winner  \\\n",
       "2    3     Gujarat Lions   Kolkata Knight Riders   Kolkata Knight Riders   \n",
       "5    6     Gujarat Lions     Sunrisers Hyderabad     Sunrisers Hyderabad   \n",
       "34  35  Delhi Daredevils         Kings XI Punjab         Kings XI Punjab   \n",
       "43  44    Mumbai Indians        Delhi Daredevils          Mumbai Indians   \n",
       "53  54   Kings XI Punjab  Rising Pune Supergiant  Rising Pune Supergiant   \n",
       "\n",
       "    win_by_runs  win_by_wickets  \n",
       "2             0              10  \n",
       "5             0               9  \n",
       "34            0              10  \n",
       "43          146               0  \n",
       "53            0               9  "
      ]
     },
     "execution_count": 52,
     "metadata": {},
     "output_type": "execute_result"
    }
   ],
   "source": [
    "# Q13> Create a new dataframe new_100r_or_8w_df which contains records where\n",
    "#      where DL method is not applied and win margin is 100 \n",
    "#      or more runs or more than 8 wickets.\n",
    "#  < already solved >\n",
    "# New dataframe where DL method is not applied and win margin is 100 or more runs or more than 8 wickets.\n",
    "new_100r_or_8w_df = df.loc[ (df['dl_applied'] == 0) & ((df['win_by_runs'] > 99) | (df['win_by_wickets'] > 8)) , ['id','team1','team2','winner','win_by_runs','win_by_wickets']]\n",
    "\n",
    "new_100r_or_8w_df.head()"
   ]
  },
  {
   "cell_type": "code",
   "execution_count": 53,
   "metadata": {},
   "outputs": [
    {
     "data": {
      "text/html": [
       "<div>\n",
       "<style scoped>\n",
       "    .dataframe tbody tr th:only-of-type {\n",
       "        vertical-align: middle;\n",
       "    }\n",
       "\n",
       "    .dataframe tbody tr th {\n",
       "        vertical-align: top;\n",
       "    }\n",
       "\n",
       "    .dataframe thead th {\n",
       "        text-align: right;\n",
       "    }\n",
       "</style>\n",
       "<table border=\"1\" class=\"dataframe\">\n",
       "  <thead>\n",
       "    <tr style=\"text-align: right;\">\n",
       "      <th></th>\n",
       "      <th>id</th>\n",
       "      <th>team1</th>\n",
       "      <th>team2</th>\n",
       "      <th>winner</th>\n",
       "      <th>win_by_runs</th>\n",
       "      <th>win_by_wickets</th>\n",
       "      <th>losing_team</th>\n",
       "    </tr>\n",
       "  </thead>\n",
       "  <tbody>\n",
       "    <tr>\n",
       "      <th>2</th>\n",
       "      <td>3</td>\n",
       "      <td>Gujarat Lions</td>\n",
       "      <td>Kolkata Knight Riders</td>\n",
       "      <td>Kolkata Knight Riders</td>\n",
       "      <td>0</td>\n",
       "      <td>10</td>\n",
       "      <td>Gujarat Lions</td>\n",
       "    </tr>\n",
       "    <tr>\n",
       "      <th>5</th>\n",
       "      <td>6</td>\n",
       "      <td>Gujarat Lions</td>\n",
       "      <td>Sunrisers Hyderabad</td>\n",
       "      <td>Sunrisers Hyderabad</td>\n",
       "      <td>0</td>\n",
       "      <td>9</td>\n",
       "      <td>Gujarat Lions</td>\n",
       "    </tr>\n",
       "    <tr>\n",
       "      <th>34</th>\n",
       "      <td>35</td>\n",
       "      <td>Delhi Daredevils</td>\n",
       "      <td>Kings XI Punjab</td>\n",
       "      <td>Kings XI Punjab</td>\n",
       "      <td>0</td>\n",
       "      <td>10</td>\n",
       "      <td>Delhi Daredevils</td>\n",
       "    </tr>\n",
       "    <tr>\n",
       "      <th>43</th>\n",
       "      <td>44</td>\n",
       "      <td>Mumbai Indians</td>\n",
       "      <td>Delhi Daredevils</td>\n",
       "      <td>Mumbai Indians</td>\n",
       "      <td>146</td>\n",
       "      <td>0</td>\n",
       "      <td>Delhi Daredevils</td>\n",
       "    </tr>\n",
       "    <tr>\n",
       "      <th>53</th>\n",
       "      <td>54</td>\n",
       "      <td>Kings XI Punjab</td>\n",
       "      <td>Rising Pune Supergiant</td>\n",
       "      <td>Rising Pune Supergiant</td>\n",
       "      <td>0</td>\n",
       "      <td>9</td>\n",
       "      <td>Kings XI Punjab</td>\n",
       "    </tr>\n",
       "  </tbody>\n",
       "</table>\n",
       "</div>"
      ],
      "text/plain": [
       "    id             team1                   team2                  winner  \\\n",
       "2    3     Gujarat Lions   Kolkata Knight Riders   Kolkata Knight Riders   \n",
       "5    6     Gujarat Lions     Sunrisers Hyderabad     Sunrisers Hyderabad   \n",
       "34  35  Delhi Daredevils         Kings XI Punjab         Kings XI Punjab   \n",
       "43  44    Mumbai Indians        Delhi Daredevils          Mumbai Indians   \n",
       "53  54   Kings XI Punjab  Rising Pune Supergiant  Rising Pune Supergiant   \n",
       "\n",
       "    win_by_runs  win_by_wickets       losing_team  \n",
       "2             0              10     Gujarat Lions  \n",
       "5             0               9     Gujarat Lions  \n",
       "34            0              10  Delhi Daredevils  \n",
       "43          146               0  Delhi Daredevils  \n",
       "53            0               9   Kings XI Punjab  "
      ]
     },
     "execution_count": 53,
     "metadata": {},
     "output_type": "execute_result"
    }
   ],
   "source": [
    "# Q 14> Do as advised.\n",
    "\n",
    "# add a new column to track the losing team \n",
    "\n",
    "\n",
    "\n",
    "# create a method to fetch the losing team from the dataframe\n",
    "def check_losing_team(row):\n",
    "    if row['team1'] == row['winner']:\n",
    "        row['losing_team'] = row['team2']\n",
    "        return row['team2']\n",
    "    else:\n",
    "        row['losing_team'] = row['team1']\n",
    "        return row['team1']\n",
    "\n",
    "    \n",
    "\n",
    "# use the above method to correctly fill new_100r_or_8w_df['losing_team'] column\n",
    "# Hint : use apply method. and keep axis = 1\n",
    "# refr : https://thispointer.com/pandas-apply-apply-a-function-to-each-row-column-in-dataframe/\n",
    "new_100r_or_8w_df['losing_team'] = new_100r_or_8w_df.apply(check_losing_team, axis = 1)\n",
    "new_100r_or_8w_df.head()"
   ]
  },
  {
   "cell_type": "code",
   "execution_count": 54,
   "metadata": {},
   "outputs": [
    {
     "data": {
      "image/png": "[encoded data removed]",
      "text/plain": [
       "<Figure size 432x288 with 1 Axes>"
      ]
     },
     "metadata": {
      "needs_background": "light"
     },
     "output_type": "display_data"
    }
   ],
   "source": [
    "# Q15> Plot a bar graph showing Number of times team losing with big margin.\n",
    "# Hint : first find value_counts() of new_100r_or_8w_df.losing_team\n",
    "#        then use plot()\n",
    "#  < already solved >\n",
    "new_100r_or_8w_df.losing_team.value_counts().plot(kind = 'bar', title = 'Number of times team losing with big margin');"
   ]
  },
  {
   "cell_type": "markdown",
   "metadata": {},
   "source": [
    "**Let's do analysis on Number of times a player got the ``Man of the Match`` till 2017 edition of IPL.**"
   ]
  },
  {
   "cell_type": "code",
   "execution_count": 55,
   "metadata": {},
   "outputs": [
    {
     "data": {
      "image/png": "[encoded data removed]",
      "text/plain": [
       "<Figure size 432x288 with 1 Axes>"
      ]
     },
     "metadata": {
      "needs_background": "light"
     },
     "output_type": "display_data"
    }
   ],
   "source": [
    "# Q16> Analyse only those players who got the Man-of-the-Match award \n",
    "#      atleast 10 times. Best way to analyse is to visualise a bar-graph.\n",
    "#  < already solved >\n",
    "# number of times the playes got Man of the match\n",
    "mom_players = df.player_of_match.value_counts()\n",
    "\n",
    "# now analyse only those players who got the award atleast 10 times.\n",
    "# and plot a bar graph\n",
    "mom_players[mom_players >= 10 ].plot(kind = 'bar', title = 'Number of times a player got Man of the Match');"
   ]
  }
 ],
 "metadata": {
  "kernelspec": {
   "display_name": "Python 3",
   "language": "python",
   "name": "python3"
  },
  "language_info": {
   "codemirror_mode": {
    "name": "ipython",
    "version": 3
   },
   "file_extension": ".py",
   "mimetype": "text/x-python",
   "name": "python",
   "nbconvert_exporter": "python",
   "pygments_lexer": "ipython3",
   "version": "3.6.8"
  }
 },
 "nbformat": 4,
 "nbformat_minor": 2
}
